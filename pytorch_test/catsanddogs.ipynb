{
 "cells": [
  {
   "cell_type": "code",
   "execution_count": 1,
   "metadata": {},
   "outputs": [],
   "source": [
    "# this notebook is to create a custom dataset class and deep learning model with training loop to classify cats and dogs\n",
    "\n",
    "import os\n",
    "import torch\n",
    "import torch.nn as nn\n",
    "import torch.nn.functional as F\n",
    "import numpy as np\n",
    "import pandas as pd\n",
    "import matplotlib.pyplot as plt\n",
    "from torchvision import transforms, utils\n",
    "from torch.utils.data import Dataset, DataLoader\n",
    "from skimage import io, transform"
   ]
  },
  {
   "cell_type": "code",
   "execution_count": 15,
   "metadata": {},
   "outputs": [],
   "source": [
    "# create transform for data augmentation: normalize, and convert to tensor\n",
    "mean = np.array([0.5, 0.5, 0.5])\n",
    "std = np.array([0.5, 0.5, 0.5])\n",
    "size = 256\n",
    "data_transforms = transforms.Compose([transforms.ToTensor(),transforms.Normalize(mean,std),transforms.CenterCrop(size)])\n",
    "\n",
    "# get root directory and label mapping\n",
    "data_dir = '/media/victoru/B612CEC512CE8A37/ai50/pytorch_test/data/cats_and_dogs_filtered'\n",
    "label_dir = os.listdir(data_dir + '/train/')\n",
    "idx_to_class = {i: j for i, j in enumerate(label_dir)}\n",
    "class_to_idx = {value: key for key, value in idx_to_class.items()}\n",
    "\n",
    "# define hyperparameters\n",
    "batch_size = 200\n",
    "num_epochs = 25\n",
    "\n",
    "#show image\n",
    "def imshow(img):\n",
    "    img = img / 2 + 0.5\n",
    "    npimg = img.numpy()\n",
    "    plt.imshow(np.transpose(npimg, (1, 2, 0)))\n",
    "    plt.show()"
   ]
  },
  {
   "cell_type": "code",
   "execution_count": 17,
   "metadata": {},
   "outputs": [
    {
     "name": "stdout",
     "output_type": "stream",
     "text": [
      "['cats', 'dogs']\n"
     ]
    }
   ],
   "source": [
    "print(label_dir)"
   ]
  },
  {
   "cell_type": "code",
   "execution_count": 6,
   "metadata": {},
   "outputs": [],
   "source": [
    "#create dataset class for cats and dogs\n",
    "\n",
    "class catsdogsDataset(Dataset):\n",
    "    def __init__(self, root_dir, transform=None):\n",
    "        # get root directory\n",
    "        self.root_dir = root_dir\n",
    "        # get transform\n",
    "        self.transform = transform\n",
    "        # get list of label from directory under root_dir\n",
    "        self.label_dir = os.listdir(root_dir)\n",
    "        self.data = pd.DataFrame(columns=['image_name', 'label'])\n",
    "        tempdata = pd.DataFrame(columns=['image_name', 'label'])\n",
    "        # loop through each label and store list of image name and corresponding label\n",
    "        for label in self.label_dir:\n",
    "            tempdata['image_name'] = os.listdir(os.path.join(root_dir, label))\n",
    "            tempdata['label'] = label\n",
    "            self.data = pd.concat([self.data, tempdata],ignore_index = True, axis = 0)\n",
    "        \n",
    "    def __len__(self):\n",
    "        return len(self.data)\n",
    "    \n",
    "    def __getitem__(self, idx):\n",
    "        img_name = os.path.join(self.root_dir,self.data.iloc[idx, 1],self.data.iloc[idx, 0])\n",
    "        image = io.imread(img_name)\n",
    "        label = torch.tensor(class_to_idx[self.data.iloc[idx, 1]])\n",
    "                \n",
    "        if self.transform:\n",
    "            image = self.transform(image)\n",
    "            \n",
    "        return image,label"
   ]
  },
  {
   "cell_type": "code",
   "execution_count": 4,
   "metadata": {},
   "outputs": [],
   "source": [
    "# send device to gpu\n",
    "device = torch.device('cuda:0' if torch.cuda.is_available() else 'cpu')"
   ]
  },
  {
   "cell_type": "code",
   "execution_count": 16,
   "metadata": {},
   "outputs": [],
   "source": [
    "train_dataset = catsdogsDataset(root_dir='/media/victoru/B612CEC512CE8A37/ai50/pytorch_test/data/cats_and_dogs_filtered/train', transform=data_transforms)\n",
    "test_dataset = catsdogsDataset(root_dir='/media/victoru/B612CEC512CE8A37/ai50/pytorch_test/data/cats_and_dogs_filtered/validation', transform=data_transforms)\n",
    "train_loader = DataLoader(train_dataset, batch_size=batch_size, shuffle=True, num_workers=2)\n",
    "test_loader = DataLoader(test_dataset, batch_size=batch_size, shuffle=False)"
   ]
  },
  {
   "cell_type": "code",
   "execution_count": 13,
   "metadata": {},
   "outputs": [
    {
     "ename": "TypeError",
     "evalue": "cannot concatenate object of type '<class 'dict'>'; only Series and DataFrame objs are valid",
     "output_type": "error",
     "traceback": [
      "\u001b[0;31m---------------------------------------------------------------------------\u001b[0m",
      "\u001b[0;31mTypeError\u001b[0m                                 Traceback (most recent call last)",
      "\u001b[1;32m/media/victoru/B612CEC512CE8A37/ai50/pytorch_test/catsanddogs.ipynb Cell 9'\u001b[0m in \u001b[0;36m<cell line: 5>\u001b[0;34m()\u001b[0m\n\u001b[1;32m      <a href='vscode-notebook-cell:/media/victoru/B612CEC512CE8A37/ai50/pytorch_test/catsanddogs.ipynb#ch0000014?line=4'>5</a>\u001b[0m \u001b[39mfor\u001b[39;00m label \u001b[39min\u001b[39;00m label_dir:\n\u001b[1;32m      <a href='vscode-notebook-cell:/media/victoru/B612CEC512CE8A37/ai50/pytorch_test/catsanddogs.ipynb#ch0000014?line=5'>6</a>\u001b[0m     tempdata \u001b[39m=\u001b[39m {\u001b[39m'\u001b[39m\u001b[39mimage_name\u001b[39m\u001b[39m'\u001b[39m: os\u001b[39m.\u001b[39mlistdir(os\u001b[39m.\u001b[39mpath\u001b[39m.\u001b[39mjoin(root_dir, label)), \u001b[39m'\u001b[39m\u001b[39mlabel\u001b[39m\u001b[39m'\u001b[39m: label}\n\u001b[0;32m----> <a href='vscode-notebook-cell:/media/victoru/B612CEC512CE8A37/ai50/pytorch_test/catsanddogs.ipynb#ch0000014?line=6'>7</a>\u001b[0m     data \u001b[39m=\u001b[39m pd\u001b[39m.\u001b[39;49mconcat([data, tempdata],ignore_index \u001b[39m=\u001b[39;49m \u001b[39mTrue\u001b[39;49;00m, axis \u001b[39m=\u001b[39;49m \u001b[39m0\u001b[39;49m)\n",
      "File \u001b[0;32m~/anaconda3/lib/python3.8/site-packages/pandas/util/_decorators.py:311\u001b[0m, in \u001b[0;36mdeprecate_nonkeyword_arguments.<locals>.decorate.<locals>.wrapper\u001b[0;34m(*args, **kwargs)\u001b[0m\n\u001b[1;32m    <a href='file:///home/victoru/anaconda3/lib/python3.8/site-packages/pandas/util/_decorators.py?line=304'>305</a>\u001b[0m \u001b[39mif\u001b[39;00m \u001b[39mlen\u001b[39m(args) \u001b[39m>\u001b[39m num_allow_args:\n\u001b[1;32m    <a href='file:///home/victoru/anaconda3/lib/python3.8/site-packages/pandas/util/_decorators.py?line=305'>306</a>\u001b[0m     warnings\u001b[39m.\u001b[39mwarn(\n\u001b[1;32m    <a href='file:///home/victoru/anaconda3/lib/python3.8/site-packages/pandas/util/_decorators.py?line=306'>307</a>\u001b[0m         msg\u001b[39m.\u001b[39mformat(arguments\u001b[39m=\u001b[39marguments),\n\u001b[1;32m    <a href='file:///home/victoru/anaconda3/lib/python3.8/site-packages/pandas/util/_decorators.py?line=307'>308</a>\u001b[0m         \u001b[39mFutureWarning\u001b[39;00m,\n\u001b[1;32m    <a href='file:///home/victoru/anaconda3/lib/python3.8/site-packages/pandas/util/_decorators.py?line=308'>309</a>\u001b[0m         stacklevel\u001b[39m=\u001b[39mstacklevel,\n\u001b[1;32m    <a href='file:///home/victoru/anaconda3/lib/python3.8/site-packages/pandas/util/_decorators.py?line=309'>310</a>\u001b[0m     )\n\u001b[0;32m--> <a href='file:///home/victoru/anaconda3/lib/python3.8/site-packages/pandas/util/_decorators.py?line=310'>311</a>\u001b[0m \u001b[39mreturn\u001b[39;00m func(\u001b[39m*\u001b[39;49margs, \u001b[39m*\u001b[39;49m\u001b[39m*\u001b[39;49mkwargs)\n",
      "File \u001b[0;32m~/anaconda3/lib/python3.8/site-packages/pandas/core/reshape/concat.py:346\u001b[0m, in \u001b[0;36mconcat\u001b[0;34m(objs, axis, join, ignore_index, keys, levels, names, verify_integrity, sort, copy)\u001b[0m\n\u001b[1;32m    <a href='file:///home/victoru/anaconda3/lib/python3.8/site-packages/pandas/core/reshape/concat.py?line=141'>142</a>\u001b[0m \u001b[39m@deprecate_nonkeyword_arguments\u001b[39m(version\u001b[39m=\u001b[39m\u001b[39mNone\u001b[39;00m, allowed_args\u001b[39m=\u001b[39m[\u001b[39m\"\u001b[39m\u001b[39mobjs\u001b[39m\u001b[39m\"\u001b[39m])\n\u001b[1;32m    <a href='file:///home/victoru/anaconda3/lib/python3.8/site-packages/pandas/core/reshape/concat.py?line=142'>143</a>\u001b[0m \u001b[39mdef\u001b[39;00m \u001b[39mconcat\u001b[39m(\n\u001b[1;32m    <a href='file:///home/victoru/anaconda3/lib/python3.8/site-packages/pandas/core/reshape/concat.py?line=143'>144</a>\u001b[0m     objs: Iterable[NDFrame] \u001b[39m|\u001b[39m Mapping[Hashable, NDFrame],\n\u001b[0;32m   (...)\u001b[0m\n\u001b[1;32m    <a href='file:///home/victoru/anaconda3/lib/python3.8/site-packages/pandas/core/reshape/concat.py?line=152'>153</a>\u001b[0m     copy: \u001b[39mbool\u001b[39m \u001b[39m=\u001b[39m \u001b[39mTrue\u001b[39;00m,\n\u001b[1;32m    <a href='file:///home/victoru/anaconda3/lib/python3.8/site-packages/pandas/core/reshape/concat.py?line=153'>154</a>\u001b[0m ) \u001b[39m-\u001b[39m\u001b[39m>\u001b[39m DataFrame \u001b[39m|\u001b[39m Series:\n\u001b[1;32m    <a href='file:///home/victoru/anaconda3/lib/python3.8/site-packages/pandas/core/reshape/concat.py?line=154'>155</a>\u001b[0m     \u001b[39m\"\"\"\u001b[39;00m\n\u001b[1;32m    <a href='file:///home/victoru/anaconda3/lib/python3.8/site-packages/pandas/core/reshape/concat.py?line=155'>156</a>\u001b[0m \u001b[39m    Concatenate pandas objects along a particular axis with optional set logic\u001b[39;00m\n\u001b[1;32m    <a href='file:///home/victoru/anaconda3/lib/python3.8/site-packages/pandas/core/reshape/concat.py?line=156'>157</a>\u001b[0m \u001b[39m    along the other axes.\u001b[39;00m\n\u001b[0;32m   (...)\u001b[0m\n\u001b[1;32m    <a href='file:///home/victoru/anaconda3/lib/python3.8/site-packages/pandas/core/reshape/concat.py?line=343'>344</a>\u001b[0m \u001b[39m    ValueError: Indexes have overlapping values: ['a']\u001b[39;00m\n\u001b[1;32m    <a href='file:///home/victoru/anaconda3/lib/python3.8/site-packages/pandas/core/reshape/concat.py?line=344'>345</a>\u001b[0m \u001b[39m    \"\"\"\u001b[39;00m\n\u001b[0;32m--> <a href='file:///home/victoru/anaconda3/lib/python3.8/site-packages/pandas/core/reshape/concat.py?line=345'>346</a>\u001b[0m     op \u001b[39m=\u001b[39m _Concatenator(\n\u001b[1;32m    <a href='file:///home/victoru/anaconda3/lib/python3.8/site-packages/pandas/core/reshape/concat.py?line=346'>347</a>\u001b[0m         objs,\n\u001b[1;32m    <a href='file:///home/victoru/anaconda3/lib/python3.8/site-packages/pandas/core/reshape/concat.py?line=347'>348</a>\u001b[0m         axis\u001b[39m=\u001b[39;49maxis,\n\u001b[1;32m    <a href='file:///home/victoru/anaconda3/lib/python3.8/site-packages/pandas/core/reshape/concat.py?line=348'>349</a>\u001b[0m         ignore_index\u001b[39m=\u001b[39;49mignore_index,\n\u001b[1;32m    <a href='file:///home/victoru/anaconda3/lib/python3.8/site-packages/pandas/core/reshape/concat.py?line=349'>350</a>\u001b[0m         join\u001b[39m=\u001b[39;49mjoin,\n\u001b[1;32m    <a href='file:///home/victoru/anaconda3/lib/python3.8/site-packages/pandas/core/reshape/concat.py?line=350'>351</a>\u001b[0m         keys\u001b[39m=\u001b[39;49mkeys,\n\u001b[1;32m    <a href='file:///home/victoru/anaconda3/lib/python3.8/site-packages/pandas/core/reshape/concat.py?line=351'>352</a>\u001b[0m         levels\u001b[39m=\u001b[39;49mlevels,\n\u001b[1;32m    <a href='file:///home/victoru/anaconda3/lib/python3.8/site-packages/pandas/core/reshape/concat.py?line=352'>353</a>\u001b[0m         names\u001b[39m=\u001b[39;49mnames,\n\u001b[1;32m    <a href='file:///home/victoru/anaconda3/lib/python3.8/site-packages/pandas/core/reshape/concat.py?line=353'>354</a>\u001b[0m         verify_integrity\u001b[39m=\u001b[39;49mverify_integrity,\n\u001b[1;32m    <a href='file:///home/victoru/anaconda3/lib/python3.8/site-packages/pandas/core/reshape/concat.py?line=354'>355</a>\u001b[0m         copy\u001b[39m=\u001b[39;49mcopy,\n\u001b[1;32m    <a href='file:///home/victoru/anaconda3/lib/python3.8/site-packages/pandas/core/reshape/concat.py?line=355'>356</a>\u001b[0m         sort\u001b[39m=\u001b[39;49msort,\n\u001b[1;32m    <a href='file:///home/victoru/anaconda3/lib/python3.8/site-packages/pandas/core/reshape/concat.py?line=356'>357</a>\u001b[0m     )\n\u001b[1;32m    <a href='file:///home/victoru/anaconda3/lib/python3.8/site-packages/pandas/core/reshape/concat.py?line=358'>359</a>\u001b[0m     \u001b[39mreturn\u001b[39;00m op\u001b[39m.\u001b[39mget_result()\n",
      "File \u001b[0;32m~/anaconda3/lib/python3.8/site-packages/pandas/core/reshape/concat.py:436\u001b[0m, in \u001b[0;36m_Concatenator.__init__\u001b[0;34m(self, objs, axis, join, keys, levels, names, ignore_index, verify_integrity, copy, sort)\u001b[0m\n\u001b[1;32m    <a href='file:///home/victoru/anaconda3/lib/python3.8/site-packages/pandas/core/reshape/concat.py?line=430'>431</a>\u001b[0m     \u001b[39mif\u001b[39;00m \u001b[39mnot\u001b[39;00m \u001b[39misinstance\u001b[39m(obj, (ABCSeries, ABCDataFrame)):\n\u001b[1;32m    <a href='file:///home/victoru/anaconda3/lib/python3.8/site-packages/pandas/core/reshape/concat.py?line=431'>432</a>\u001b[0m         msg \u001b[39m=\u001b[39m (\n\u001b[1;32m    <a href='file:///home/victoru/anaconda3/lib/python3.8/site-packages/pandas/core/reshape/concat.py?line=432'>433</a>\u001b[0m             \u001b[39mf\u001b[39m\u001b[39m\"\u001b[39m\u001b[39mcannot concatenate object of type \u001b[39m\u001b[39m'\u001b[39m\u001b[39m{\u001b[39;00m\u001b[39mtype\u001b[39m(obj)\u001b[39m}\u001b[39;00m\u001b[39m'\u001b[39m\u001b[39m; \u001b[39m\u001b[39m\"\u001b[39m\n\u001b[1;32m    <a href='file:///home/victoru/anaconda3/lib/python3.8/site-packages/pandas/core/reshape/concat.py?line=433'>434</a>\u001b[0m             \u001b[39m\"\u001b[39m\u001b[39monly Series and DataFrame objs are valid\u001b[39m\u001b[39m\"\u001b[39m\n\u001b[1;32m    <a href='file:///home/victoru/anaconda3/lib/python3.8/site-packages/pandas/core/reshape/concat.py?line=434'>435</a>\u001b[0m         )\n\u001b[0;32m--> <a href='file:///home/victoru/anaconda3/lib/python3.8/site-packages/pandas/core/reshape/concat.py?line=435'>436</a>\u001b[0m         \u001b[39mraise\u001b[39;00m \u001b[39mTypeError\u001b[39;00m(msg)\n\u001b[1;32m    <a href='file:///home/victoru/anaconda3/lib/python3.8/site-packages/pandas/core/reshape/concat.py?line=437'>438</a>\u001b[0m     ndims\u001b[39m.\u001b[39madd(obj\u001b[39m.\u001b[39mndim)\n\u001b[1;32m    <a href='file:///home/victoru/anaconda3/lib/python3.8/site-packages/pandas/core/reshape/concat.py?line=439'>440</a>\u001b[0m \u001b[39m# get the sample\u001b[39;00m\n\u001b[1;32m    <a href='file:///home/victoru/anaconda3/lib/python3.8/site-packages/pandas/core/reshape/concat.py?line=440'>441</a>\u001b[0m \u001b[39m# want the highest ndim that we have, and must be non-empty\u001b[39;00m\n\u001b[1;32m    <a href='file:///home/victoru/anaconda3/lib/python3.8/site-packages/pandas/core/reshape/concat.py?line=441'>442</a>\u001b[0m \u001b[39m# unless all objs are empty\u001b[39;00m\n",
      "\u001b[0;31mTypeError\u001b[0m: cannot concatenate object of type '<class 'dict'>'; only Series and DataFrame objs are valid"
     ]
    }
   ],
   "source": [
    "root_dir = '/media/victoru/B612CEC512CE8A37/ai50/pytorch_test/data/cats_and_dogs_filtered/train'\n",
    "label_dir = os.listdir(root_dir)\n",
    "data = pd.DataFrame(columns=['image_name', 'label'])\n",
    "\n",
    "for label in label_dir:\n",
    "    tempdata = {'image_name': os.listdir(os.path.join(root_dir, label)), 'label': label}\n",
    "    data = pd.concat([data, tempdata],ignore_index = True, axis = 0)"
   ]
  },
  {
   "cell_type": "code",
   "execution_count": 8,
   "metadata": {},
   "outputs": [
    {
     "data": {
      "text/plain": [
       "2000"
      ]
     },
     "execution_count": 8,
     "metadata": {},
     "output_type": "execute_result"
    }
   ],
   "source": [
    "len(train_dataset)"
   ]
  },
  {
   "cell_type": "code",
   "execution_count": 9,
   "metadata": {},
   "outputs": [
    {
     "name": "stdout",
     "output_type": "stream",
     "text": [
      "torch.Size([100, 3, 256, 256])\n",
      "<class 'torch.Tensor'>\n",
      "tensor([0, 1, 1, 1, 1, 1, 0, 1, 1, 1, 1, 0, 1, 1, 0, 1, 0, 0, 0, 1, 1, 0, 1, 1,\n",
      "        0, 1, 0, 1, 1, 0, 1, 0, 1, 1, 1, 1, 0, 0, 1, 0, 1, 1, 0, 0, 1, 0, 1, 0,\n",
      "        0, 1, 0, 1, 1, 0, 1, 0, 1, 0, 0, 0, 1, 0, 1, 0, 0, 0, 0, 0, 1, 1, 0, 1,\n",
      "        1, 0, 0, 0, 0, 1, 1, 1, 0, 0, 1, 0, 1, 1, 0, 1, 0, 1, 1, 1, 0, 0, 0, 1,\n",
      "        0, 0, 1, 1])\n"
     ]
    },
    {
     "data": {
      "image/png": "[encoded data removed]",
      "text/plain": [
       "<Figure size 432x288 with 1 Axes>"
      ]
     },
     "metadata": {
      "needs_background": "light"
     },
     "output_type": "display_data"
    }
   ],
   "source": [
    "for i, (images,labels) in enumerate(train_loader):\n",
    "    print(images.shape)\n",
    "    print(type(images))\n",
    "    print(labels)\n",
    "    imshow(utils.make_grid(images, nrow=4))\n",
    "    break\n"
   ]
  },
  {
   "cell_type": "code",
   "execution_count": 10,
   "metadata": {},
   "outputs": [],
   "source": [
    "# Define network\n",
    "class ConvNet(nn.Module):\n",
    "    def __init__(self):\n",
    "        super(ConvNet, self).__init__()\n",
    "        self.conv1 = nn.Conv2d(3, 32, 3, padding=1)\n",
    "        self.maxpool1 = nn.MaxPool2d(2, 2)\n",
    "        self.conv2 = nn.Conv2d(32, 64, 3, padding=1)\n",
    "        self.maxpool2 = nn.MaxPool2d(2, 2)\n",
    "        self.conv3 = nn.Conv2d(64, 128, 3, padding=1)\n",
    "        self.maxpool3 = nn.MaxPool2d(2, 2)\n",
    "        self.conv4 = nn.Conv2d(128, 256, 3, padding=1)\n",
    "        self.maxpool4 = nn.MaxPool2d(2, 2)\n",
    "        self.fc1 = nn.Linear(256*16*16, 512)\n",
    "        self.fc2 = nn.Linear(512, 128)\n",
    "        self.fc3 = nn.Linear(128, 2)\n",
    "    \n",
    "    def forward(self,x):\n",
    "        x = self.maxpool1(F.relu(self.conv1(x)))\n",
    "        x = self.maxpool2(F.relu(self.conv2(x)))\n",
    "        x = self.maxpool3(F.relu(self.conv3(x)))\n",
    "        x = self.maxpool4(F.relu(self.conv4(x)))\n",
    "        x = x.view(-1, 256*16*16)\n",
    "        x = F.relu(self.fc1(x))\n",
    "        x = F.relu(self.fc2(x))\n",
    "        x = self.fc3(x)\n",
    "        return x"
   ]
  },
  {
   "cell_type": "code",
   "execution_count": 11,
   "metadata": {},
   "outputs": [],
   "source": [
    "# create model, loss function, optimizer\n",
    "model = ConvNet().to(device)\n",
    "criterion = nn.CrossEntropyLoss()\n",
    "optimizer = torch.optim.Adam(model.parameters(), lr=0.001)"
   ]
  },
  {
   "cell_type": "code",
   "execution_count": 14,
   "metadata": {},
   "outputs": [
    {
     "data": {
      "image/png": "[encoded data removed]",
      "text/plain": [
       "<Figure size 432x288 with 1 Axes>"
      ]
     },
     "metadata": {
      "needs_background": "light"
     },
     "output_type": "display_data"
    },
    {
     "name": "stdout",
     "output_type": "stream",
     "text": [
      "tensor([[ 1.7859e+00, -2.2618e+00],\n",
      "        [ 4.6565e-01, -6.6406e-01],\n",
      "        [-6.1682e-01,  4.8149e-01],\n",
      "        [ 2.0648e+00, -2.5922e+00],\n",
      "        [-3.5608e-01,  2.5572e-01],\n",
      "        [ 1.4791e+00, -1.9318e+00],\n",
      "        [-1.1769e+00,  1.2089e+00],\n",
      "        [ 7.4168e-01, -9.2563e-01],\n",
      "        [ 6.7833e-01, -8.5803e-01],\n",
      "        [-2.7327e-01,  2.9815e-01],\n",
      "        [ 3.0503e-01, -4.9297e-01],\n",
      "        [ 5.9516e-01, -8.7306e-01],\n",
      "        [-4.8504e-01,  4.2641e-01],\n",
      "        [ 1.1026e+00, -1.2785e+00],\n",
      "        [-6.5026e-01,  6.2656e-01],\n",
      "        [ 1.4108e-01, -2.6897e-01],\n",
      "        [ 5.5529e-01, -6.7678e-01],\n",
      "        [ 4.4353e-01, -5.0945e-01],\n",
      "        [-4.1618e-02, -6.6160e-03],\n",
      "        [ 6.4340e-01, -8.5030e-01],\n",
      "        [ 7.3854e-01, -9.3341e-01],\n",
      "        [ 1.8697e-01, -2.0578e-01],\n",
      "        [ 5.9078e-01, -8.2009e-01],\n",
      "        [ 1.1936e+00, -1.5107e+00],\n",
      "        [ 3.7167e-01, -4.6566e-01],\n",
      "        [ 9.9779e-02, -1.2312e-01],\n",
      "        [ 7.4819e-01, -9.3879e-01],\n",
      "        [-1.1530e-01,  6.1889e-02],\n",
      "        [-1.2024e-01, -1.4334e-03],\n",
      "        [ 3.8093e-01, -4.5272e-01],\n",
      "        [ 5.9997e-01, -7.5549e-01],\n",
      "        [ 1.2093e+00, -1.4883e+00],\n",
      "        [-9.5223e-01,  8.5560e-01],\n",
      "        [ 1.5785e+00, -1.8921e+00],\n",
      "        [-1.1894e-01,  6.1063e-02],\n",
      "        [ 7.1723e-01, -1.1610e+00],\n",
      "        [ 5.3199e-01, -6.9700e-01],\n",
      "        [ 3.4693e-01, -4.3503e-01],\n",
      "        [ 3.2142e-01, -4.3750e-01],\n",
      "        [ 8.7828e-01, -1.0679e+00],\n",
      "        [ 1.2148e-01, -3.4899e-01],\n",
      "        [-6.4909e-01,  8.4697e-01],\n",
      "        [-5.6231e-01,  6.8345e-01],\n",
      "        [-5.8153e-01,  4.6213e-01],\n",
      "        [ 1.4735e+00, -1.9613e+00],\n",
      "        [ 3.7640e-01, -5.7288e-01],\n",
      "        [ 1.2606e+00, -1.6129e+00],\n",
      "        [ 9.1969e-01, -1.1613e+00],\n",
      "        [ 8.2972e-01, -1.1810e+00],\n",
      "        [ 4.3197e-01, -5.7598e-01],\n",
      "        [-1.8259e+00,  1.4999e+00],\n",
      "        [ 7.8961e-01, -9.6989e-01],\n",
      "        [ 6.7926e-01, -8.6546e-01],\n",
      "        [ 1.2124e+00, -1.4874e+00],\n",
      "        [ 1.4212e-01, -1.2094e-01],\n",
      "        [ 1.1882e-01, -2.5651e-01],\n",
      "        [-3.2991e-01,  3.4706e-01],\n",
      "        [ 8.9996e-01, -1.1137e+00],\n",
      "        [-5.2626e-01,  4.4778e-01],\n",
      "        [ 9.0494e-02, -2.3064e-01],\n",
      "        [ 7.4425e-01, -9.4395e-01],\n",
      "        [ 5.8512e-01, -7.4694e-01],\n",
      "        [ 1.6759e-01, -2.7597e-01],\n",
      "        [ 8.8362e-01, -1.0659e+00],\n",
      "        [ 7.8298e-01, -8.9320e-01],\n",
      "        [ 9.0071e-02, -1.1367e-01],\n",
      "        [ 4.4148e-01, -5.6295e-01],\n",
      "        [ 4.2199e-01, -5.1803e-01],\n",
      "        [ 2.7413e-01, -3.3068e-01],\n",
      "        [ 4.4494e-01, -4.3110e-01],\n",
      "        [ 6.6950e-01, -8.7027e-01],\n",
      "        [ 4.7194e-01, -6.9887e-01],\n",
      "        [ 9.9540e-01, -1.2947e+00],\n",
      "        [ 1.7359e-01, -2.7791e-01],\n",
      "        [-8.7385e-01,  8.2698e-01],\n",
      "        [ 7.1198e-01, -9.1849e-01],\n",
      "        [ 2.0818e+00, -2.6421e+00],\n",
      "        [ 1.2597e+00, -1.4955e+00],\n",
      "        [ 9.3923e-01, -1.2055e+00],\n",
      "        [ 5.7722e-01, -8.3518e-01],\n",
      "        [ 5.5727e-01, -6.2680e-01],\n",
      "        [ 3.6134e-01, -6.2030e-01],\n",
      "        [-1.2139e-01,  5.7380e-02],\n",
      "        [ 3.3140e-01, -4.4082e-01],\n",
      "        [ 9.1687e-01, -1.1479e+00],\n",
      "        [ 1.6527e+00, -2.0533e+00],\n",
      "        [ 2.3862e-01, -2.5089e-01],\n",
      "        [ 5.6297e-01, -6.7566e-01],\n",
      "        [ 8.0934e-01, -9.8951e-01],\n",
      "        [ 1.0977e+00, -1.4518e+00],\n",
      "        [ 7.1327e-01, -9.7267e-01],\n",
      "        [ 2.3132e-01, -3.0892e-01],\n",
      "        [ 1.0593e+00, -1.3474e+00],\n",
      "        [ 5.0695e-01, -6.5753e-01],\n",
      "        [ 1.7842e-01, -2.5191e-01],\n",
      "        [ 6.6492e-01, -9.2082e-01],\n",
      "        [ 5.7475e-01, -7.4465e-01],\n",
      "        [ 5.4673e-01, -6.6830e-01],\n",
      "        [ 1.0836e+00, -1.3711e+00],\n",
      "        [ 1.5940e+00, -2.0345e+00]], device='cuda:0')\n",
      "tensor([0, 0, 0, 0, 0, 0, 0, 0, 0, 0, 0, 0, 0, 0, 0, 0, 0, 0, 0, 0, 0, 0, 0, 0,\n",
      "        0, 0, 0, 0, 0, 0, 0, 0, 0, 0, 0, 0, 0, 0, 0, 0, 0, 0, 0, 0, 0, 0, 0, 0,\n",
      "        0, 0, 0, 0, 0, 0, 0, 0, 0, 0, 0, 0, 0, 0, 0, 0, 0, 0, 0, 0, 0, 0, 0, 0,\n",
      "        0, 0, 0, 0, 0, 0, 0, 0, 0, 0, 0, 0, 0, 0, 0, 0, 0, 0, 0, 0, 0, 0, 0, 0,\n",
      "        0, 0, 0, 0], device='cuda:0')\n",
      "tensor([0, 0, 1, 0, 1, 0, 1, 0, 0, 1, 0, 0, 1, 0, 1, 0, 0, 0, 1, 0, 0, 0, 0, 0,\n",
      "        0, 0, 0, 1, 1, 0, 0, 0, 1, 0, 1, 0, 0, 0, 0, 0, 0, 1, 1, 1, 0, 0, 0, 0,\n",
      "        0, 0, 1, 0, 0, 0, 0, 0, 1, 0, 1, 0, 0, 0, 0, 0, 0, 0, 0, 0, 0, 0, 0, 0,\n",
      "        0, 0, 1, 0, 0, 0, 0, 0, 0, 0, 1, 0, 0, 0, 0, 0, 0, 0, 0, 0, 0, 0, 0, 0,\n",
      "        0, 0, 0, 0], device='cuda:0')\n"
     ]
    }
   ],
   "source": [
    "with torch.no_grad():\n",
    "    dataiter = iter(test_loader)\n",
    "    images, labels = dataiter.next()\n",
    "    imshow(utils.make_grid(images, nrow=4))\n",
    "    images = images.to(device)\n",
    "    labels = labels.to(device)\n",
    "    outputs = model(images)\n",
    "    print(outputs)\n",
    "    print(labels)\n",
    "    _, predicted = torch.max(outputs, 1)\n",
    "    print(predicted)\n"
   ]
  },
  {
   "cell_type": "code",
   "execution_count": 17,
   "metadata": {},
   "outputs": [
    {
     "name": "stdout",
     "output_type": "stream",
     "text": [
      "Epoch [1/25], Step [5/10], Loss: 0.2683\n",
      "Epoch [1/25], Step [10/10], Loss: 0.1773\n",
      "Epoch [2/25], Step [5/10], Loss: 0.1539\n",
      "Epoch [2/25], Step [10/10], Loss: 0.1661\n",
      "Epoch [3/25], Step [5/10], Loss: 0.0757\n",
      "Epoch [3/25], Step [10/10], Loss: 0.0787\n",
      "Epoch [4/25], Step [5/10], Loss: 0.0441\n",
      "Epoch [4/25], Step [10/10], Loss: 0.0107\n",
      "Epoch [5/25], Step [5/10], Loss: 0.0030\n",
      "Epoch [5/25], Step [10/10], Loss: 0.0037\n",
      "Epoch [6/25], Step [5/10], Loss: 0.0023\n",
      "Epoch [6/25], Step [10/10], Loss: 0.0022\n",
      "Epoch [7/25], Step [5/10], Loss: 0.0007\n",
      "Epoch [7/25], Step [10/10], Loss: 0.0005\n",
      "Epoch [8/25], Step [5/10], Loss: 0.0002\n",
      "Epoch [8/25], Step [10/10], Loss: 0.0003\n",
      "Epoch [9/25], Step [5/10], Loss: 0.0003\n",
      "Epoch [9/25], Step [10/10], Loss: 0.0001\n",
      "Epoch [10/25], Step [5/10], Loss: 0.0001\n",
      "Epoch [10/25], Step [10/10], Loss: 0.0000\n",
      "Epoch [11/25], Step [5/10], Loss: 0.0001\n",
      "Epoch [11/25], Step [10/10], Loss: 0.0001\n",
      "Epoch [12/25], Step [5/10], Loss: 0.0001\n",
      "Epoch [12/25], Step [10/10], Loss: 0.0000\n",
      "Epoch [13/25], Step [5/10], Loss: 0.0000\n",
      "Epoch [13/25], Step [10/10], Loss: 0.0001\n",
      "Epoch [14/25], Step [5/10], Loss: 0.0000\n",
      "Epoch [14/25], Step [10/10], Loss: 0.0000\n",
      "Epoch [15/25], Step [5/10], Loss: 0.0000\n",
      "Epoch [15/25], Step [10/10], Loss: 0.0000\n",
      "Epoch [16/25], Step [5/10], Loss: 0.0000\n",
      "Epoch [16/25], Step [10/10], Loss: 0.0000\n",
      "Epoch [17/25], Step [5/10], Loss: 0.0000\n",
      "Epoch [17/25], Step [10/10], Loss: 0.0000\n",
      "Epoch [18/25], Step [5/10], Loss: 0.0000\n",
      "Epoch [18/25], Step [10/10], Loss: 0.0000\n",
      "Epoch [19/25], Step [5/10], Loss: 0.0000\n",
      "Epoch [19/25], Step [10/10], Loss: 0.0000\n",
      "Epoch [20/25], Step [5/10], Loss: 0.0000\n",
      "Epoch [20/25], Step [10/10], Loss: 0.0000\n",
      "Epoch [21/25], Step [5/10], Loss: 0.0000\n",
      "Epoch [21/25], Step [10/10], Loss: 0.0000\n",
      "Epoch [22/25], Step [5/10], Loss: 0.0000\n",
      "Epoch [22/25], Step [10/10], Loss: 0.0000\n",
      "Epoch [23/25], Step [5/10], Loss: 0.0000\n",
      "Epoch [23/25], Step [10/10], Loss: 0.0000\n",
      "Epoch [24/25], Step [5/10], Loss: 0.0000\n",
      "Epoch [24/25], Step [10/10], Loss: 0.0000\n",
      "Epoch [25/25], Step [5/10], Loss: 0.0000\n",
      "Epoch [25/25], Step [10/10], Loss: 0.0000\n"
     ]
    }
   ],
   "source": [
    "# train model with standard epoch loop\n",
    "n_total_steps = len(train_loader)\n",
    "for epoch in range(num_epochs):\n",
    "    for i, (images,labels) in enumerate(train_loader):\n",
    "        labels = labels.to(device)\n",
    "        images = images.to(device)\n",
    "        \n",
    "        # forward pass\n",
    "        outputs = model(images)\n",
    "        loss = criterion(outputs, labels)\n",
    "        \n",
    "        # backward and optimize\n",
    "        optimizer.zero_grad()\n",
    "        loss.backward()\n",
    "        optimizer.step()\n",
    "        \n",
    "        if (i+1) % 5 == 0:\n",
    "            print ('Epoch [{}/{}], Step [{}/{}], Loss: {:.4f}'\n",
    "                   .format(epoch+1, num_epochs, i+1, n_total_steps, loss.item()))"
   ]
  },
  {
   "cell_type": "code",
   "execution_count": 21,
   "metadata": {},
   "outputs": [
    {
     "name": "stdout",
     "output_type": "stream",
     "text": [
      "Accuracy of the network: 64 %\n",
      "Accuracy of  cats : 66 %\n",
      "Accuracy of  dogs : 62 %\n"
     ]
    }
   ],
   "source": [
    "#test model\n",
    "with torch.no_grad():\n",
    "    n_correct = 0\n",
    "    n_samples = 0\n",
    "    n_class_correct = [0 for i in range(len(label_dir))]\n",
    "    n_class_samples = [0 for i in range(len(label_dir))]\n",
    "    for images, labels in test_loader:\n",
    "        images = images.to(device)\n",
    "        labels = labels.to(device)\n",
    "        outputs = model(images)\n",
    "        _, predicted = torch.max(outputs.data, 1)\n",
    "        n_samples += labels.size(0)\n",
    "        n_correct += (predicted == labels).sum().item()\n",
    "        for i in range(len(labels)):\n",
    "            label = labels[i]\n",
    "            n_class_samples[label] += 1\n",
    "            n_class_correct[label] += (predicted[i] == label).item()\n",
    "    \n",
    "    acc = 100.0 * n_correct / n_samples\n",
    "    print('Accuracy of the network: %d %%' % acc)\n",
    "    for i in range(len(label_dir)):\n",
    "        acc = 100.0 * n_class_correct[i] / n_class_samples[i]\n",
    "        print('Accuracy of %5s : %2d %%' % (idx_to_class[i], acc))"
   ]
  }
 ],
 "metadata": {
  "interpreter": {
   "hash": "b21db2b3bfa18fa7fb00a95d42ac639431518c9b93a669b09d22217e9d3cd63e"
  },
  "kernelspec": {
   "display_name": "Python 3.8.12 ('base')",
   "language": "python",
   "name": "python3"
  },
  "language_info": {
   "codemirror_mode": {
    "name": "ipython",
    "version": 3
   },
   "file_extension": ".py",
   "mimetype": "text/x-python",
   "name": "python",
   "nbconvert_exporter": "python",
   "pygments_lexer": "ipython3",
   "version": "3.8.12"
  },
  "orig_nbformat": 4
 },
 "nbformat": 4,
 "nbformat_minor": 2
}
