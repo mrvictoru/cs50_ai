{
 "cells": [
  {
   "cell_type": "code",
   "execution_count": 1,
   "metadata": {},
   "outputs": [],
   "source": [
    "#This notebook uses machine learning to come up with a simple trading/investment strategy\n",
    "\n",
    "#import libraries\n",
    "import pandas as pd\n",
    "import numpy as np\n",
    "import matplotlib.pyplot as plt\n",
    "import warnings\n",
    "\n",
    "plt.style.use('fivethirtyeight')\n",
    "warnings.filterwarnings('ignore')"
   ]
  },
  {
   "cell_type": "code",
   "execution_count": 2,
   "metadata": {},
   "outputs": [],
   "source": [
    "#read csv data from /stock_data\n",
    "df = pd.read_csv('data/stock_data/HistoricalData_AAPL1Y_20220904.csv')"
   ]
  },
  {
   "cell_type": "code",
   "execution_count": 3,
   "metadata": {},
   "outputs": [
    {
     "data": {
      "text/html": [
       "<div>\n",
       "<style scoped>\n",
       "    .dataframe tbody tr th:only-of-type {\n",
       "        vertical-align: middle;\n",
       "    }\n",
       "\n",
       "    .dataframe tbody tr th {\n",
       "        vertical-align: top;\n",
       "    }\n",
       "\n",
       "    .dataframe thead th {\n",
       "        text-align: right;\n",
       "    }\n",
       "</style>\n",
       "<table border=\"1\" class=\"dataframe\">\n",
       "  <thead>\n",
       "    <tr style=\"text-align: right;\">\n",
       "      <th></th>\n",
       "      <th>Open</th>\n",
       "      <th>High</th>\n",
       "      <th>Low</th>\n",
       "      <th>Close</th>\n",
       "      <th>Adj Close</th>\n",
       "      <th>Volume</th>\n",
       "    </tr>\n",
       "    <tr>\n",
       "      <th>Date</th>\n",
       "      <th></th>\n",
       "      <th></th>\n",
       "      <th></th>\n",
       "      <th></th>\n",
       "      <th></th>\n",
       "      <th></th>\n",
       "    </tr>\n",
       "  </thead>\n",
       "  <tbody>\n",
       "    <tr>\n",
       "      <th>2021-09-03</th>\n",
       "      <td>153.759995</td>\n",
       "      <td>154.630005</td>\n",
       "      <td>153.089996</td>\n",
       "      <td>154.300003</td>\n",
       "      <td>153.440186</td>\n",
       "      <td>57808700</td>\n",
       "    </tr>\n",
       "    <tr>\n",
       "      <th>2021-09-07</th>\n",
       "      <td>154.970001</td>\n",
       "      <td>157.259995</td>\n",
       "      <td>154.389999</td>\n",
       "      <td>156.690002</td>\n",
       "      <td>155.816879</td>\n",
       "      <td>82278300</td>\n",
       "    </tr>\n",
       "    <tr>\n",
       "      <th>2021-09-08</th>\n",
       "      <td>156.979996</td>\n",
       "      <td>157.039993</td>\n",
       "      <td>153.979996</td>\n",
       "      <td>155.110001</td>\n",
       "      <td>154.245682</td>\n",
       "      <td>74420200</td>\n",
       "    </tr>\n",
       "    <tr>\n",
       "      <th>2021-09-09</th>\n",
       "      <td>155.490005</td>\n",
       "      <td>156.110001</td>\n",
       "      <td>153.949997</td>\n",
       "      <td>154.070007</td>\n",
       "      <td>153.211487</td>\n",
       "      <td>57305700</td>\n",
       "    </tr>\n",
       "    <tr>\n",
       "      <th>2021-09-10</th>\n",
       "      <td>155.000000</td>\n",
       "      <td>155.479996</td>\n",
       "      <td>148.699997</td>\n",
       "      <td>148.970001</td>\n",
       "      <td>148.139893</td>\n",
       "      <td>140893200</td>\n",
       "    </tr>\n",
       "    <tr>\n",
       "      <th>...</th>\n",
       "      <td>...</td>\n",
       "      <td>...</td>\n",
       "      <td>...</td>\n",
       "      <td>...</td>\n",
       "      <td>...</td>\n",
       "      <td>...</td>\n",
       "    </tr>\n",
       "    <tr>\n",
       "      <th>2022-08-29</th>\n",
       "      <td>161.149994</td>\n",
       "      <td>162.899994</td>\n",
       "      <td>159.820007</td>\n",
       "      <td>161.380005</td>\n",
       "      <td>161.380005</td>\n",
       "      <td>73314000</td>\n",
       "    </tr>\n",
       "    <tr>\n",
       "      <th>2022-08-30</th>\n",
       "      <td>162.130005</td>\n",
       "      <td>162.559998</td>\n",
       "      <td>157.720001</td>\n",
       "      <td>158.910004</td>\n",
       "      <td>158.910004</td>\n",
       "      <td>77906200</td>\n",
       "    </tr>\n",
       "    <tr>\n",
       "      <th>2022-08-31</th>\n",
       "      <td>160.309998</td>\n",
       "      <td>160.580002</td>\n",
       "      <td>157.139999</td>\n",
       "      <td>157.220001</td>\n",
       "      <td>157.220001</td>\n",
       "      <td>87991100</td>\n",
       "    </tr>\n",
       "    <tr>\n",
       "      <th>2022-09-01</th>\n",
       "      <td>156.639999</td>\n",
       "      <td>158.419998</td>\n",
       "      <td>154.669998</td>\n",
       "      <td>157.960007</td>\n",
       "      <td>157.960007</td>\n",
       "      <td>74229900</td>\n",
       "    </tr>\n",
       "    <tr>\n",
       "      <th>2022-09-02</th>\n",
       "      <td>159.750000</td>\n",
       "      <td>160.360001</td>\n",
       "      <td>154.970001</td>\n",
       "      <td>155.809998</td>\n",
       "      <td>155.809998</td>\n",
       "      <td>76905200</td>\n",
       "    </tr>\n",
       "  </tbody>\n",
       "</table>\n",
       "<p>252 rows × 6 columns</p>\n",
       "</div>"
      ],
      "text/plain": [
       "                  Open        High         Low       Close   Adj Close  \\\n",
       "Date                                                                     \n",
       "2021-09-03  153.759995  154.630005  153.089996  154.300003  153.440186   \n",
       "2021-09-07  154.970001  157.259995  154.389999  156.690002  155.816879   \n",
       "2021-09-08  156.979996  157.039993  153.979996  155.110001  154.245682   \n",
       "2021-09-09  155.490005  156.110001  153.949997  154.070007  153.211487   \n",
       "2021-09-10  155.000000  155.479996  148.699997  148.970001  148.139893   \n",
       "...                ...         ...         ...         ...         ...   \n",
       "2022-08-29  161.149994  162.899994  159.820007  161.380005  161.380005   \n",
       "2022-08-30  162.130005  162.559998  157.720001  158.910004  158.910004   \n",
       "2022-08-31  160.309998  160.580002  157.139999  157.220001  157.220001   \n",
       "2022-09-01  156.639999  158.419998  154.669998  157.960007  157.960007   \n",
       "2022-09-02  159.750000  160.360001  154.970001  155.809998  155.809998   \n",
       "\n",
       "               Volume  \n",
       "Date                   \n",
       "2021-09-03   57808700  \n",
       "2021-09-07   82278300  \n",
       "2021-09-08   74420200  \n",
       "2021-09-09   57305700  \n",
       "2021-09-10  140893200  \n",
       "...               ...  \n",
       "2022-08-29   73314000  \n",
       "2022-08-30   77906200  \n",
       "2022-08-31   87991100  \n",
       "2022-09-01   74229900  \n",
       "2022-09-02   76905200  \n",
       "\n",
       "[252 rows x 6 columns]"
      ]
     },
     "execution_count": 3,
     "metadata": {},
     "output_type": "execute_result"
    }
   ],
   "source": [
    "#set index to date\n",
    "df = df.set_index(pd.DatetimeIndex(df['Date']))\n",
    "#drop date column\n",
    "df = df.drop(columns=['Date'], axis = 'columns')\n"
   ]
  },
  {
   "cell_type": "code",
   "execution_count": 4,
   "metadata": {},
   "outputs": [],
   "source": [
    "# Create the independent variables\n",
    "df['High-Low'] = df['High'] - df['Low']\n",
    "df['Open-Close'] = df['Open'] - df['Close']\n"
   ]
  },
  {
   "cell_type": "code",
   "execution_count": 5,
   "metadata": {},
   "outputs": [
    {
     "data": {
      "text/html": [
       "<div>\n",
       "<style scoped>\n",
       "    .dataframe tbody tr th:only-of-type {\n",
       "        vertical-align: middle;\n",
       "    }\n",
       "\n",
       "    .dataframe tbody tr th {\n",
       "        vertical-align: top;\n",
       "    }\n",
       "\n",
       "    .dataframe thead th {\n",
       "        text-align: right;\n",
       "    }\n",
       "</style>\n",
       "<table border=\"1\" class=\"dataframe\">\n",
       "  <thead>\n",
       "    <tr style=\"text-align: right;\">\n",
       "      <th></th>\n",
       "      <th>High-Low</th>\n",
       "      <th>Open-Close</th>\n",
       "      <th>Close</th>\n",
       "    </tr>\n",
       "    <tr>\n",
       "      <th>Date</th>\n",
       "      <th></th>\n",
       "      <th></th>\n",
       "      <th></th>\n",
       "    </tr>\n",
       "  </thead>\n",
       "  <tbody>\n",
       "    <tr>\n",
       "      <th>2021-09-03</th>\n",
       "      <td>1.540009</td>\n",
       "      <td>-0.540008</td>\n",
       "      <td>154.300003</td>\n",
       "    </tr>\n",
       "    <tr>\n",
       "      <th>2021-09-07</th>\n",
       "      <td>2.869996</td>\n",
       "      <td>-1.720001</td>\n",
       "      <td>156.690002</td>\n",
       "    </tr>\n",
       "    <tr>\n",
       "      <th>2021-09-08</th>\n",
       "      <td>3.059997</td>\n",
       "      <td>1.869995</td>\n",
       "      <td>155.110001</td>\n",
       "    </tr>\n",
       "    <tr>\n",
       "      <th>2021-09-09</th>\n",
       "      <td>2.160004</td>\n",
       "      <td>1.419998</td>\n",
       "      <td>154.070007</td>\n",
       "    </tr>\n",
       "    <tr>\n",
       "      <th>2021-09-10</th>\n",
       "      <td>6.779999</td>\n",
       "      <td>6.029999</td>\n",
       "      <td>148.970001</td>\n",
       "    </tr>\n",
       "  </tbody>\n",
       "</table>\n",
       "</div>"
      ],
      "text/plain": [
       "            High-Low  Open-Close       Close\n",
       "Date                                        \n",
       "2021-09-03  1.540009   -0.540008  154.300003\n",
       "2021-09-07  2.869996   -1.720001  156.690002\n",
       "2021-09-08  3.059997    1.869995  155.110001\n",
       "2021-09-09  2.160004    1.419998  154.070007\n",
       "2021-09-10  6.779999    6.029999  148.970001"
      ]
     },
     "execution_count": 5,
     "metadata": {},
     "output_type": "execute_result"
    }
   ],
   "source": [
    "# Store the independent variables in a new variable called 'X'\n",
    "X = df[['High-Low', 'Open-Close', 'Close']]\n"
   ]
  },
  {
   "cell_type": "code",
   "execution_count": 6,
   "metadata": {},
   "outputs": [
    {
     "data": {
      "text/plain": [
       "array([1, 0, 0, 0, 1, 0, 1, 0, 0, 0, 1, 1, 1, 1, 0, 0, 1, 0, 1, 0, 1, 1,\n",
       "       1, 0, 0, 0, 0, 1, 1, 1, 1, 1, 1, 0, 0, 1, 0, 1, 0, 0, 1, 1, 0, 1,\n",
       "       0, 1, 0, 0, 1, 1, 1, 1, 1, 1, 1, 1, 1, 0, 1, 1, 0, 0, 0, 1, 1, 1,\n",
       "       0, 1, 0, 0, 1, 0, 0, 0, 1, 1, 1, 1, 0, 1, 0, 0, 1, 0, 0, 0, 1, 1,\n",
       "       1, 1, 0, 1, 0, 0, 0, 0, 0, 0, 0, 0, 1, 1, 0, 1, 0, 0, 0, 1, 1, 0,\n",
       "       0, 1, 1, 0, 0, 0, 0, 0, 1, 1, 1, 0, 1, 0, 0, 0, 0, 1, 0, 0, 0, 1,\n",
       "       1, 1, 1, 1, 1, 1, 1, 1, 1, 1, 0, 0, 0, 1, 0, 0, 1, 0, 0, 1, 1, 0,\n",
       "       0, 1, 0, 0, 0, 1, 0, 0, 1, 0, 1, 1, 1, 0, 1, 0, 1, 0, 0, 1, 0, 1,\n",
       "       0, 0, 1, 1, 0, 1, 1, 1, 0, 0, 1, 0, 1, 1, 0, 0, 0, 0, 1, 1, 0, 1,\n",
       "       1, 0, 1, 1, 0, 0, 1, 0, 1, 1, 1, 1, 1, 0, 1, 0, 1, 1, 0, 1, 1, 1,\n",
       "       0, 0, 0, 1, 1, 1, 0, 0, 1, 0, 0, 0, 1, 1, 0, 1, 1, 0, 1, 0, 0, 0,\n",
       "       0, 1, 1, 0, 0, 0, 0, 1, 0, 0])"
      ]
     },
     "execution_count": 6,
     "metadata": {},
     "output_type": "execute_result"
    }
   ],
   "source": [
    "# Store target variable in a new variable called 'y': if tomorrows close price is greater than todays close price, then y = 1, else y = 0\n",
    "# 1 indicate to buy by today and sell by tomorrow and 0 indicates no action\n",
    "y = np.where(df['Close'].shift(-1) > df['Close'], 1, 0)\n"
   ]
  },
  {
   "cell_type": "code",
   "execution_count": 8,
   "metadata": {},
   "outputs": [],
   "source": [
    "# Get the percentage to split the data into training (90%) and testing sets (10%)\n",
    "split_percentage = 0.9\n",
    "row = int(df.shape[0] * split_percentage)\n",
    "\n",
    "# Cretate the training data set\n",
    "X_train = X[:row]\n",
    "y_train = y[:row]\n",
    "\n",
    "# Create the testing data set\n",
    "X_test = X[row:]\n",
    "y_test = y[row:]"
   ]
  },
  {
   "cell_type": "code",
   "execution_count": 9,
   "metadata": {},
   "outputs": [
    {
     "data": {
      "text/plain": [
       "SVC()"
      ]
     },
     "execution_count": 9,
     "metadata": {},
     "output_type": "execute_result"
    }
   ],
   "source": [
    "# import library for Support Vector Classification\n",
    "from sklearn.svm import SVC\n",
    "\n",
    "# Create model\n",
    "model = SVC()\n",
    "\n",
    "# Train the model\n",
    "model.fit(X_train[['Open-Close','High-Low']], y_train)"
   ]
  },
  {
   "cell_type": "code",
   "execution_count": 10,
   "metadata": {},
   "outputs": [
    {
     "data": {
      "text/plain": [
       "0.584070796460177"
      ]
     },
     "execution_count": 10,
     "metadata": {},
     "output_type": "execute_result"
    }
   ],
   "source": [
    "# Check the score of the model on the train dataset\n",
    "model.score(X_train[['Open-Close','High-Low']], y_train)"
   ]
  },
  {
   "cell_type": "code",
   "execution_count": 11,
   "metadata": {},
   "outputs": [
    {
     "data": {
      "text/plain": [
       "0.46153846153846156"
      ]
     },
     "execution_count": 11,
     "metadata": {},
     "output_type": "execute_result"
    }
   ],
   "source": [
    "# Check the score of the model on the test dataset\n",
    "model.score(X_test[['Open-Close','High-Low']], y_test)"
   ]
  },
  {
   "cell_type": "code",
   "execution_count": 12,
   "metadata": {},
   "outputs": [
    {
     "data": {
      "text/plain": [
       "Date\n",
       "2021-09-03    1\n",
       "2021-09-07    1\n",
       "2021-09-08    0\n",
       "2021-09-09    0\n",
       "2021-09-10    0\n",
       "             ..\n",
       "2022-08-29    1\n",
       "2022-08-30    0\n",
       "2022-08-31    0\n",
       "2022-09-01    1\n",
       "2022-09-02    0\n",
       "Name: predictions, Length: 252, dtype: int64"
      ]
     },
     "execution_count": 12,
     "metadata": {},
     "output_type": "execute_result"
    }
   ],
   "source": [
    "# Make and show the model predictions\n",
    "df['predictions'] = model.predict(X[['Open-Close','High-Low']])\n",
    "\n",
    "# Show predictions\n",
    "df['predictions']"
   ]
  },
  {
   "cell_type": "code",
   "execution_count": 16,
   "metadata": {},
   "outputs": [
    {
     "data": {
      "text/plain": [
       "Date\n",
       "2021-09-03         NaN\n",
       "2021-09-07    0.015489\n",
       "2021-09-08   -0.010084\n",
       "2021-09-09   -0.006705\n",
       "2021-09-10   -0.033102\n",
       "                ...   \n",
       "2022-08-29   -0.013690\n",
       "2022-08-30   -0.015305\n",
       "2022-08-31   -0.010635\n",
       "2022-09-01    0.004707\n",
       "2022-09-02   -0.013611\n",
       "Name: returns, Length: 252, dtype: float64"
      ]
     },
     "execution_count": 16,
     "metadata": {},
     "output_type": "execute_result"
    }
   ],
   "source": [
    "# Calculate the daily returns from the stock\n",
    "df['returns'] = df['Close'].pct_change(1)\n",
    "# Show the returns\n",
    "df['returns']"
   ]
  },
  {
   "cell_type": "code",
   "execution_count": 15,
   "metadata": {},
   "outputs": [
    {
     "data": {
      "text/plain": [
       "Date\n",
       "2021-09-03         NaN\n",
       "2021-09-07    0.015489\n",
       "2021-09-08   -0.010084\n",
       "2021-09-09   -0.000000\n",
       "2021-09-10   -0.000000\n",
       "                ...   \n",
       "2022-08-29   -0.000000\n",
       "2022-08-30   -0.015305\n",
       "2022-08-31   -0.000000\n",
       "2022-09-01    0.000000\n",
       "2022-09-02   -0.013611\n",
       "Name: strategy_returns, Length: 252, dtype: float64"
      ]
     },
     "execution_count": 15,
     "metadata": {},
     "output_type": "execute_result"
    }
   ],
   "source": [
    "# Calculate the strategy returns\n",
    "df['strategy_returns'] = df['predictions'].shift(1) * df['returns']\n",
    "# Show the strategy returns\n",
    "df['strategy_returns']"
   ]
  },
  {
   "cell_type": "code",
   "execution_count": 17,
   "metadata": {},
   "outputs": [],
   "source": [
    "# Calculate the cumulative strategy returns\n",
    "df['Cumulate_Strategy'] = df['strategy_returns'].cumsum()\n",
    "\n",
    "# Calculate the cumulative market returns\n",
    "df['Cumulative Market'] = df['returns'].cumsum()"
   ]
  },
  {
   "cell_type": "code",
   "execution_count": 20,
   "metadata": {},
   "outputs": [
    {
     "data": {
      "image/png": "[encoded data removed]",
      "text/plain": [
       "<Figure size 1152x576 with 1 Axes>"
      ]
     },
     "metadata": {
      "needs_background": "light"
     },
     "output_type": "display_data"
    }
   ],
   "source": [
    "# Visualize and show the data\n",
    "plt.figure(figsize=(16,8))\n",
    "plt.title('Returns')\n",
    "plt.plot(df['Cumulative Market'], color='orange', label='Market Returns')\n",
    "plt.plot(df['Cumulate_Strategy'], color='purple', label='Strategy Returns')\n",
    "plt.xticks(rotation=45)\n",
    "plt.legend()\n",
    "plt.show()"
   ]
  },
  {
   "cell_type": "code",
   "execution_count": 19,
   "metadata": {},
   "outputs": [
    {
     "name": "stdout",
     "output_type": "stream",
     "text": [
      "Market Returns:  5.675151571355908 %\n",
      "Strategy Returns:  31.208633327619328 %\n"
     ]
    }
   ],
   "source": [
    "# Print the returns\n",
    "print('Market Returns: ', df['Cumulative Market'][-1]*100, '%')\n",
    "print('Strategy Returns: ', df['Cumulate_Strategy'][-1]*100, '%')"
   ]
  }
 ],
 "metadata": {
  "kernelspec": {
   "display_name": "Python 3.10.4 ('testpython')",
   "language": "python",
   "name": "python3"
  },
  "language_info": {
   "codemirror_mode": {
    "name": "ipython",
    "version": 3
   },
   "file_extension": ".py",
   "mimetype": "text/x-python",
   "name": "python",
   "nbconvert_exporter": "python",
   "pygments_lexer": "ipython3",
   "version": "3.10.4"
  },
  "orig_nbformat": 4,
  "vscode": {
   "interpreter": {
    "hash": "648d1dcbd6682217e1a7c0b1a7c0c54c0b39a029f0fde86a6625ffa444d0c385"
   }
  }
 },
 "nbformat": 4,
 "nbformat_minor": 2
}
