{
 "cells": [
  {
   "cell_type": "code",
   "execution_count": 1,
   "metadata": {},
   "outputs": [
    {
     "name": "stderr",
     "output_type": "stream",
     "text": [
      "/home/victoru/anaconda3/envs/testpython/lib/python3.10/site-packages/tqdm/auto.py:22: TqdmWarning: IProgress not found. Please update jupyter and ipywidgets. See https://ipywidgets.readthedocs.io/en/stable/user_install.html\n",
      "  from .autonotebook import tqdm as notebook_tqdm\n"
     ]
    }
   ],
   "source": [
    "# This notebook uses Long Short-Term Memory (LSTM) to predict the closing stock price of a corporation using the past 60 day stock price.\n",
    "\n",
    "# Import the libraries\n",
    "import math\n",
    "import pandas_datareader as web\n",
    "import numpy as np\n",
    "import pandas as pd\n",
    "from sklearn.preprocessing import MinMaxScaler\n",
    "import matplotlib.pyplot as plt\n",
    "import torch\n",
    "import torch.nn as nn\n",
    "plt.style.use('fivethirtyeight')"
   ]
  },
  {
   "cell_type": "code",
   "execution_count": 2,
   "metadata": {},
   "outputs": [],
   "source": [
    "# Get the past year stock price\n",
    "# today's date\n",
    "today = pd.to_datetime('today').strftime('%Y-%m-%d')\n",
    "# 5 year ago\n",
    "start = pd.to_datetime('today') - pd.DateOffset(years=5)\n",
    "df = web.DataReader('AAPL', data_source='yahoo', start=start, end=today)"
   ]
  },
  {
   "cell_type": "code",
   "execution_count": 11,
   "metadata": {},
   "outputs": [
    {
     "data": {
      "text/html": [
       "<div>\n",
       "<style scoped>\n",
       "    .dataframe tbody tr th:only-of-type {\n",
       "        vertical-align: middle;\n",
       "    }\n",
       "\n",
       "    .dataframe tbody tr th {\n",
       "        vertical-align: top;\n",
       "    }\n",
       "\n",
       "    .dataframe thead th {\n",
       "        text-align: right;\n",
       "    }\n",
       "</style>\n",
       "<table border=\"1\" class=\"dataframe\">\n",
       "  <thead>\n",
       "    <tr style=\"text-align: right;\">\n",
       "      <th></th>\n",
       "      <th>High</th>\n",
       "      <th>Low</th>\n",
       "      <th>Open</th>\n",
       "      <th>Close</th>\n",
       "      <th>Volume</th>\n",
       "      <th>Adj Close</th>\n",
       "    </tr>\n",
       "    <tr>\n",
       "      <th>Date</th>\n",
       "      <th></th>\n",
       "      <th></th>\n",
       "      <th></th>\n",
       "      <th></th>\n",
       "      <th></th>\n",
       "      <th></th>\n",
       "    </tr>\n",
       "  </thead>\n",
       "  <tbody>\n",
       "    <tr>\n",
       "      <th>2017-09-07</th>\n",
       "      <td>40.560001</td>\n",
       "      <td>40.090000</td>\n",
       "      <td>40.522499</td>\n",
       "      <td>40.314999</td>\n",
       "      <td>87714000.0</td>\n",
       "      <td>38.261574</td>\n",
       "    </tr>\n",
       "    <tr>\n",
       "      <th>2017-09-08</th>\n",
       "      <td>40.287498</td>\n",
       "      <td>39.632500</td>\n",
       "      <td>40.215000</td>\n",
       "      <td>39.657501</td>\n",
       "      <td>114446000.0</td>\n",
       "      <td>37.637566</td>\n",
       "    </tr>\n",
       "    <tr>\n",
       "      <th>2017-09-11</th>\n",
       "      <td>40.512501</td>\n",
       "      <td>39.972500</td>\n",
       "      <td>40.125000</td>\n",
       "      <td>40.375000</td>\n",
       "      <td>126323200.0</td>\n",
       "      <td>38.318508</td>\n",
       "    </tr>\n",
       "    <tr>\n",
       "      <th>2017-09-12</th>\n",
       "      <td>40.990002</td>\n",
       "      <td>39.692501</td>\n",
       "      <td>40.652500</td>\n",
       "      <td>40.215000</td>\n",
       "      <td>286856000.0</td>\n",
       "      <td>38.166668</td>\n",
       "    </tr>\n",
       "    <tr>\n",
       "      <th>2017-09-13</th>\n",
       "      <td>39.990002</td>\n",
       "      <td>39.477501</td>\n",
       "      <td>39.967499</td>\n",
       "      <td>39.912498</td>\n",
       "      <td>179629600.0</td>\n",
       "      <td>37.879566</td>\n",
       "    </tr>\n",
       "    <tr>\n",
       "      <th>...</th>\n",
       "      <td>...</td>\n",
       "      <td>...</td>\n",
       "      <td>...</td>\n",
       "      <td>...</td>\n",
       "      <td>...</td>\n",
       "      <td>...</td>\n",
       "    </tr>\n",
       "    <tr>\n",
       "      <th>2022-08-31</th>\n",
       "      <td>160.580002</td>\n",
       "      <td>157.139999</td>\n",
       "      <td>160.309998</td>\n",
       "      <td>157.220001</td>\n",
       "      <td>87991100.0</td>\n",
       "      <td>157.220001</td>\n",
       "    </tr>\n",
       "    <tr>\n",
       "      <th>2022-09-01</th>\n",
       "      <td>158.419998</td>\n",
       "      <td>154.669998</td>\n",
       "      <td>156.639999</td>\n",
       "      <td>157.960007</td>\n",
       "      <td>74229900.0</td>\n",
       "      <td>157.960007</td>\n",
       "    </tr>\n",
       "    <tr>\n",
       "      <th>2022-09-02</th>\n",
       "      <td>160.360001</td>\n",
       "      <td>154.970001</td>\n",
       "      <td>159.750000</td>\n",
       "      <td>155.809998</td>\n",
       "      <td>76905200.0</td>\n",
       "      <td>155.809998</td>\n",
       "    </tr>\n",
       "    <tr>\n",
       "      <th>2022-09-06</th>\n",
       "      <td>157.089996</td>\n",
       "      <td>153.690002</td>\n",
       "      <td>156.470001</td>\n",
       "      <td>154.529999</td>\n",
       "      <td>73604800.0</td>\n",
       "      <td>154.529999</td>\n",
       "    </tr>\n",
       "    <tr>\n",
       "      <th>2022-09-07</th>\n",
       "      <td>155.916199</td>\n",
       "      <td>154.750000</td>\n",
       "      <td>154.824997</td>\n",
       "      <td>155.031296</td>\n",
       "      <td>13107933.0</td>\n",
       "      <td>155.031296</td>\n",
       "    </tr>\n",
       "  </tbody>\n",
       "</table>\n",
       "<p>1259 rows × 6 columns</p>\n",
       "</div>"
      ],
      "text/plain": [
       "                  High         Low        Open       Close       Volume  \\\n",
       "Date                                                                      \n",
       "2017-09-07   40.560001   40.090000   40.522499   40.314999   87714000.0   \n",
       "2017-09-08   40.287498   39.632500   40.215000   39.657501  114446000.0   \n",
       "2017-09-11   40.512501   39.972500   40.125000   40.375000  126323200.0   \n",
       "2017-09-12   40.990002   39.692501   40.652500   40.215000  286856000.0   \n",
       "2017-09-13   39.990002   39.477501   39.967499   39.912498  179629600.0   \n",
       "...                ...         ...         ...         ...          ...   \n",
       "2022-08-31  160.580002  157.139999  160.309998  157.220001   87991100.0   \n",
       "2022-09-01  158.419998  154.669998  156.639999  157.960007   74229900.0   \n",
       "2022-09-02  160.360001  154.970001  159.750000  155.809998   76905200.0   \n",
       "2022-09-06  157.089996  153.690002  156.470001  154.529999   73604800.0   \n",
       "2022-09-07  155.916199  154.750000  154.824997  155.031296   13107933.0   \n",
       "\n",
       "             Adj Close  \n",
       "Date                    \n",
       "2017-09-07   38.261574  \n",
       "2017-09-08   37.637566  \n",
       "2017-09-11   38.318508  \n",
       "2017-09-12   38.166668  \n",
       "2017-09-13   37.879566  \n",
       "...                ...  \n",
       "2022-08-31  157.220001  \n",
       "2022-09-01  157.960007  \n",
       "2022-09-02  155.809998  \n",
       "2022-09-06  154.529999  \n",
       "2022-09-07  155.031296  \n",
       "\n",
       "[1259 rows x 6 columns]"
      ]
     },
     "execution_count": 11,
     "metadata": {},
     "output_type": "execute_result"
    }
   ],
   "source": [
    "df"
   ]
  },
  {
   "cell_type": "code",
   "execution_count": 3,
   "metadata": {},
   "outputs": [],
   "source": [
    "# Create a new dataframe with only the 'Close' column\n",
    "data = df.filter(['Close'])\n",
    "# Convert the dataframe to a numpy array\n",
    "dataset = data.values\n",
    "# Get the number of rows to train the model on\n",
    "training_data_len = math.ceil( len(dataset) * .8 )\n"
   ]
  },
  {
   "cell_type": "code",
   "execution_count": 4,
   "metadata": {},
   "outputs": [],
   "source": [
    "# Scale the data\n",
    "scaler = MinMaxScaler(feature_range=(0, 1))\n",
    "scaled_data = scaler.fit_transform(dataset)"
   ]
  },
  {
   "cell_type": "code",
   "execution_count": 5,
   "metadata": {},
   "outputs": [],
   "source": [
    "# Create the training data set\n",
    "train_data = scaled_data[0:training_data_len  , : ]\n",
    "# Split the data into x_train and y_train data sets\n",
    "x_train=[]\n",
    "y_train = []\n",
    "\n",
    "for i in range(60,len(train_data)):\n",
    "    x_train.append(train_data[i-60:i,0])\n",
    "    y_train.append(train_data[i,0])"
   ]
  },
  {
   "cell_type": "code",
   "execution_count": 8,
   "metadata": {},
   "outputs": [],
   "source": [
    "# Convert the x_train and y_train to numpy arrays\n",
    "x_train, y_train = np.array(x_train), np.array(y_train)\n",
    "\n",
    "# Reshape the data\n",
    "x_train = np.reshape(x_train, (x_train.shape[0],x_train.shape[1],1))\n"
   ]
  },
  {
   "cell_type": "code",
   "execution_count": 9,
   "metadata": {},
   "outputs": [
    {
     "data": {
      "text/plain": [
       "(948, 60, 1)"
      ]
     },
     "execution_count": 9,
     "metadata": {},
     "output_type": "execute_result"
    }
   ],
   "source": [
    "# Build the LSTM model\n",
    "class LSTM(nn.Module):\n",
    "    def __init__(self, input_size=1, hidden_layer_size=50, output_size=1):\n",
    "        super().__init__()\n",
    "        self.hidden_layer_size = hidden_layer_size\n",
    "\n",
    "        self.lstm = nn.LSTM(input_size, hidden_layer_size)\n",
    "\n",
    "        self.linear = nn.Linear(hidden_layer_size, output_size)\n",
    "\n",
    "        self.hidden_cell = (torch.zeros(1,1,self.hidden_layer_size),\n",
    "                            torch.zeros(1,1,self.hidden_layer_size))\n",
    "\n",
    "    def forward(self, input_seq):\n",
    "        lstm_out, self.hidden_cell = self.lstm(input_seq.view(len(input_seq) ,1, -1), self.hidden_cell)\n",
    "        predictions = self.linear(lstm_out.view(len(input_seq), -1))\n",
    "        return predictions[-1]"
   ]
  }
 ],
 "metadata": {
  "kernelspec": {
   "display_name": "Python 3.10.4 ('testpython')",
   "language": "python",
   "name": "python3"
  },
  "language_info": {
   "codemirror_mode": {
    "name": "ipython",
    "version": 3
   },
   "file_extension": ".py",
   "mimetype": "text/x-python",
   "name": "python",
   "nbconvert_exporter": "python",
   "pygments_lexer": "ipython3",
   "version": "3.10.4"
  },
  "orig_nbformat": 4,
  "vscode": {
   "interpreter": {
    "hash": "648d1dcbd6682217e1a7c0b1a7c0c54c0b39a029f0fde86a6625ffa444d0c385"
   }
  }
 },
 "nbformat": 4,
 "nbformat_minor": 2
}
