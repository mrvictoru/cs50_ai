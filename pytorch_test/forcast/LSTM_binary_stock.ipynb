{
 "cells": [
  {
   "cell_type": "markdown",
   "metadata": {},
   "source": [
    "# Buy/Not buy action predicted using LSTM\n",
    "\n",
    "This notebook utilised LSTM to predict the buy or not buy action of a stock. The feature of the stock is the Open, High, Low, Close, Volume, Adj Close price of the stock. The target is the action of the stock, which is 1 if the stock price is higher than the previous day, and 0 if the stock price is lower than the previous day."
   ]
  },
  {
   "cell_type": "code",
   "execution_count": 1,
   "metadata": {},
   "outputs": [
    {
     "name": "stderr",
     "output_type": "stream",
     "text": [
      "/home/victoru/anaconda3/envs/testpython/lib/python3.10/site-packages/tqdm/auto.py:22: TqdmWarning: IProgress not found. Please update jupyter and ipywidgets. See https://ipywidgets.readthedocs.io/en/stable/user_install.html\n",
      "  from .autonotebook import tqdm as notebook_tqdm\n"
     ]
    }
   ],
   "source": [
    "# import library for Support Vector Classification\n",
    "from sklearn.svm import SVC\n",
    "\n",
    "# import library for plot\n",
    "import matplotlib.pyplot as plt\n",
    "\n",
    "# import library for data handling\n",
    "import pandas_datareader as web\n",
    "import numpy as np\n",
    "import pandas as pd\n",
    "from sklearn.preprocessing import MinMaxScaler\n",
    "import math\n",
    "\n",
    "# import library for pytorch\n",
    "import torch\n",
    "import torch.nn as nn\n",
    "\n",
    "# import custom function\n",
    "from stock_predict import SequenceDataset, ShallowRegressionLSTM, train, test, get_stock_data, split_train_test, predict_binary, split_train_test_binary, svc_train\n",
    "\n",
    "# Get cuda device\n",
    "device = torch.device(\"cuda:0\" if torch.cuda.is_available() else \"cpu\")"
   ]
  },
  {
   "cell_type": "code",
   "execution_count": 2,
   "metadata": {},
   "outputs": [
    {
     "name": "stdout",
     "output_type": "stream",
     "text": [
      "tensor([1.7530, 0.4830])\n",
      "tensor([0.8523, 0.6184])\n",
      "tensor([1., 1.])\n"
     ]
    }
   ],
   "source": [
    "\n",
    "input = torch.randn(2)\n",
    "output = torch.sigmoid(input)\n",
    "binary = torch.round(output)\n",
    "print(input)\n",
    "print(output)\n",
    "print(binary)"
   ]
  },
  {
   "cell_type": "code",
   "execution_count": 3,
   "metadata": {},
   "outputs": [],
   "source": [
    "# Get the past stock price\n",
    "df = get_stock_data(stock_name = 'TSLA', source = 'yahoo', past_year = 2)"
   ]
  },
  {
   "cell_type": "code",
   "execution_count": 4,
   "metadata": {},
   "outputs": [],
   "source": [
    "features = df.columns"
   ]
  },
  {
   "cell_type": "code",
   "execution_count": 5,
   "metadata": {},
   "outputs": [
    {
     "data": {
      "text/plain": [
       "Index(['High', 'Low', 'Open', 'Close', 'Volume', 'Adj Close'], dtype='object')"
      ]
     },
     "execution_count": 5,
     "metadata": {},
     "output_type": "execute_result"
    }
   ],
   "source": [
    "features"
   ]
  },
  {
   "cell_type": "code",
   "execution_count": 6,
   "metadata": {},
   "outputs": [],
   "source": [
    "# set up train and test data\n",
    "train_df, test_df, train_size, test_size, df['perfect'] = split_train_test_binary(df,0.7)\n"
   ]
  },
  {
   "cell_type": "code",
   "execution_count": 7,
   "metadata": {},
   "outputs": [
    {
     "data": {
      "text/html": [
       "<div>\n",
       "<style scoped>\n",
       "    .dataframe tbody tr th:only-of-type {\n",
       "        vertical-align: middle;\n",
       "    }\n",
       "\n",
       "    .dataframe tbody tr th {\n",
       "        vertical-align: top;\n",
       "    }\n",
       "\n",
       "    .dataframe thead th {\n",
       "        text-align: right;\n",
       "    }\n",
       "</style>\n",
       "<table border=\"1\" class=\"dataframe\">\n",
       "  <thead>\n",
       "    <tr style=\"text-align: right;\">\n",
       "      <th></th>\n",
       "      <th>High</th>\n",
       "      <th>Low</th>\n",
       "      <th>Open</th>\n",
       "      <th>Close</th>\n",
       "      <th>Volume</th>\n",
       "      <th>Adj Close</th>\n",
       "      <th>perfect</th>\n",
       "    </tr>\n",
       "    <tr>\n",
       "      <th>Date</th>\n",
       "      <th></th>\n",
       "      <th></th>\n",
       "      <th></th>\n",
       "      <th></th>\n",
       "      <th></th>\n",
       "      <th></th>\n",
       "      <th></th>\n",
       "    </tr>\n",
       "  </thead>\n",
       "  <tbody>\n",
       "    <tr>\n",
       "      <th>2022-02-24</th>\n",
       "      <td>0.190307</td>\n",
       "      <td>-0.166203</td>\n",
       "      <td>-0.251247</td>\n",
       "      <td>0.272591</td>\n",
       "      <td>0.872835</td>\n",
       "      <td>0.272591</td>\n",
       "      <td>1</td>\n",
       "    </tr>\n",
       "    <tr>\n",
       "      <th>2022-02-25</th>\n",
       "      <td>0.276160</td>\n",
       "      <td>0.276097</td>\n",
       "      <td>0.313158</td>\n",
       "      <td>0.319927</td>\n",
       "      <td>-0.306428</td>\n",
       "      <td>0.319927</td>\n",
       "      <td>1</td>\n",
       "    </tr>\n",
       "    <tr>\n",
       "      <th>2022-02-28</th>\n",
       "      <td>0.565498</td>\n",
       "      <td>0.449528</td>\n",
       "      <td>0.343131</td>\n",
       "      <td>0.634950</td>\n",
       "      <td>0.150100</td>\n",
       "      <td>0.634950</td>\n",
       "      <td>0</td>\n",
       "    </tr>\n",
       "    <tr>\n",
       "      <th>2022-03-01</th>\n",
       "      <td>0.631174</td>\n",
       "      <td>0.659245</td>\n",
       "      <td>0.626630</td>\n",
       "      <td>0.603426</td>\n",
       "      <td>-0.332316</td>\n",
       "      <td>0.603426</td>\n",
       "      <td>1</td>\n",
       "    </tr>\n",
       "    <tr>\n",
       "      <th>2022-03-02</th>\n",
       "      <td>0.614024</td>\n",
       "      <td>0.608198</td>\n",
       "      <td>0.639335</td>\n",
       "      <td>0.684159</td>\n",
       "      <td>-0.334776</td>\n",
       "      <td>0.684159</td>\n",
       "      <td>0</td>\n",
       "    </tr>\n",
       "    <tr>\n",
       "      <th>...</th>\n",
       "      <td>...</td>\n",
       "      <td>...</td>\n",
       "      <td>...</td>\n",
       "      <td>...</td>\n",
       "      <td>...</td>\n",
       "      <td>...</td>\n",
       "      <td>...</td>\n",
       "    </tr>\n",
       "    <tr>\n",
       "      <th>2022-09-26</th>\n",
       "      <td>0.441460</td>\n",
       "      <td>0.429238</td>\n",
       "      <td>0.345620</td>\n",
       "      <td>0.414392</td>\n",
       "      <td>-0.664475</td>\n",
       "      <td>0.414392</td>\n",
       "      <td>1</td>\n",
       "    </tr>\n",
       "    <tr>\n",
       "      <th>2022-09-27</th>\n",
       "      <td>0.510768</td>\n",
       "      <td>0.545181</td>\n",
       "      <td>0.532459</td>\n",
       "      <td>0.522538</td>\n",
       "      <td>-0.587888</td>\n",
       "      <td>0.522538</td>\n",
       "      <td>1</td>\n",
       "    </tr>\n",
       "    <tr>\n",
       "      <th>2022-09-28</th>\n",
       "      <td>0.515762</td>\n",
       "      <td>0.546147</td>\n",
       "      <td>0.520635</td>\n",
       "      <td>0.598537</td>\n",
       "      <td>-0.732382</td>\n",
       "      <td>0.598537</td>\n",
       "      <td>0</td>\n",
       "    </tr>\n",
       "    <tr>\n",
       "      <th>2022-09-29</th>\n",
       "      <td>0.434801</td>\n",
       "      <td>0.356291</td>\n",
       "      <td>0.515657</td>\n",
       "      <td>0.292669</td>\n",
       "      <td>-0.280051</td>\n",
       "      <td>0.292669</td>\n",
       "      <td>1</td>\n",
       "    </tr>\n",
       "    <tr>\n",
       "      <th>2022-09-30</th>\n",
       "      <td>0.312529</td>\n",
       "      <td>0.302989</td>\n",
       "      <td>0.257179</td>\n",
       "      <td>0.337925</td>\n",
       "      <td>-1.051026</td>\n",
       "      <td>0.337925</td>\n",
       "      <td>0</td>\n",
       "    </tr>\n",
       "  </tbody>\n",
       "</table>\n",
       "<p>152 rows × 7 columns</p>\n",
       "</div>"
      ],
      "text/plain": [
       "                High       Low      Open     Close    Volume  Adj Close  \\\n",
       "Date                                                                      \n",
       "2022-02-24  0.190307 -0.166203 -0.251247  0.272591  0.872835   0.272591   \n",
       "2022-02-25  0.276160  0.276097  0.313158  0.319927 -0.306428   0.319927   \n",
       "2022-02-28  0.565498  0.449528  0.343131  0.634950  0.150100   0.634950   \n",
       "2022-03-01  0.631174  0.659245  0.626630  0.603426 -0.332316   0.603426   \n",
       "2022-03-02  0.614024  0.608198  0.639335  0.684159 -0.334776   0.684159   \n",
       "...              ...       ...       ...       ...       ...        ...   \n",
       "2022-09-26  0.441460  0.429238  0.345620  0.414392 -0.664475   0.414392   \n",
       "2022-09-27  0.510768  0.545181  0.532459  0.522538 -0.587888   0.522538   \n",
       "2022-09-28  0.515762  0.546147  0.520635  0.598537 -0.732382   0.598537   \n",
       "2022-09-29  0.434801  0.356291  0.515657  0.292669 -0.280051   0.292669   \n",
       "2022-09-30  0.312529  0.302989  0.257179  0.337925 -1.051026   0.337925   \n",
       "\n",
       "            perfect  \n",
       "Date                 \n",
       "2022-02-24        1  \n",
       "2022-02-25        1  \n",
       "2022-02-28        0  \n",
       "2022-03-01        1  \n",
       "2022-03-02        0  \n",
       "...             ...  \n",
       "2022-09-26        1  \n",
       "2022-09-27        1  \n",
       "2022-09-28        0  \n",
       "2022-09-29        1  \n",
       "2022-09-30        0  \n",
       "\n",
       "[152 rows x 7 columns]"
      ]
     },
     "execution_count": 7,
     "metadata": {},
     "output_type": "execute_result"
    }
   ],
   "source": [
    "test_df"
   ]
  },
  {
   "cell_type": "code",
   "execution_count": 8,
   "metadata": {},
   "outputs": [
    {
     "name": "stdout",
     "output_type": "stream",
     "text": [
      "Feature shape:  torch.Size([5, 20, 6])\n",
      "Target shape:  torch.Size([5])\n"
     ]
    }
   ],
   "source": [
    "# create dataset and dataloader\n",
    "batch_size = 5\n",
    "seq_len = 20\n",
    "\n",
    "torch.manual_seed(seq_len*batch_size/2)\n",
    "\n",
    "train_dataset = SequenceDataset(train_df, 'perfect', features, seq_len)\n",
    "test_dataset = SequenceDataset(test_df, 'perfect', features, seq_len)\n",
    "train_loader = torch.utils.data.DataLoader(train_dataset, batch_size=batch_size, shuffle=True)\n",
    "test_loader = torch.utils.data.DataLoader(test_dataset, batch_size=batch_size, shuffle=False)\n",
    "\n",
    "# get the first batch of data to check the shape\n",
    "x, y = next(iter(train_loader))\n",
    "print(\"Feature shape: \", x.shape)\n",
    "print(\"Target shape: \", y.shape)"
   ]
  },
  {
   "cell_type": "code",
   "execution_count": 9,
   "metadata": {},
   "outputs": [],
   "source": [
    "# create model, loss and optimizer\n",
    "learning_rate = 5e-5\n",
    "num_hidden = 8\n",
    "num_layers = 1\n",
    "epoch = 100\n",
    "\n",
    "model = ShallowRegressionLSTM(n_features = len(features), n_hidden = num_hidden, n_layers = num_layers, device = device).to(device)\n",
    "loss = nn.BCEWithLogitsLoss()\n",
    "optimizer = torch.optim.Adam(model.parameters(), lr=learning_rate)"
   ]
  },
  {
   "cell_type": "code",
   "execution_count": 10,
   "metadata": {},
   "outputs": [
    {
     "name": "stdout",
     "output_type": "stream",
     "text": [
      "Untrained test\n",
      "Test loss: 0.7106\n",
      "Training\n",
      "Epoch: 1\n",
      "Train loss: 0.7107\n",
      "Test loss: 0.7101\n",
      "Epoch: 2\n",
      "Train loss: 0.7102\n",
      "Test loss: 0.7097\n",
      "Epoch: 3\n",
      "Train loss: 0.7101\n",
      "Test loss: 0.7092\n",
      "Epoch: 4\n",
      "Train loss: 0.7087\n",
      "Test loss: 0.7087\n",
      "Epoch: 5\n",
      "Train loss: 0.7085\n",
      "Test loss: 0.7082\n",
      "Epoch: 6\n",
      "Train loss: 0.7079\n",
      "Test loss: 0.7078\n",
      "Epoch: 7\n",
      "Train loss: 0.7081\n",
      "Test loss: 0.7075\n",
      "Epoch: 8\n",
      "Train loss: 0.7072\n",
      "Test loss: 0.7069\n",
      "Epoch: 9\n",
      "Train loss: 0.7064\n",
      "Test loss: 0.7065\n",
      "Epoch: 10\n",
      "Train loss: 0.7056\n",
      "Test loss: 0.7061\n",
      "Epoch: 11\n",
      "Train loss: 0.7056\n",
      "Test loss: 0.7057\n",
      "Epoch: 12\n",
      "Train loss: 0.7054\n",
      "Test loss: 0.7053\n",
      "Epoch: 13\n",
      "Train loss: 0.7045\n",
      "Test loss: 0.7049\n",
      "Epoch: 14\n",
      "Train loss: 0.7047\n",
      "Test loss: 0.7045\n",
      "Epoch: 15\n",
      "Train loss: 0.7035\n",
      "Test loss: 0.7041\n",
      "Epoch: 16\n",
      "Train loss: 0.7033\n",
      "Test loss: 0.7038\n",
      "Epoch: 17\n",
      "Train loss: 0.7030\n",
      "Test loss: 0.7034\n",
      "Epoch: 18\n",
      "Train loss: 0.7021\n",
      "Test loss: 0.7030\n",
      "Epoch: 19\n",
      "Train loss: 0.7021\n",
      "Test loss: 0.7026\n",
      "Epoch: 20\n",
      "Train loss: 0.7020\n",
      "Test loss: 0.7023\n",
      "Epoch: 21\n",
      "Train loss: 0.7013\n",
      "Test loss: 0.7019\n",
      "Epoch: 22\n",
      "Train loss: 0.7005\n",
      "Test loss: 0.7015\n",
      "Epoch: 23\n",
      "Train loss: 0.7011\n",
      "Test loss: 0.7012\n",
      "Epoch: 24\n",
      "Train loss: 0.7005\n",
      "Test loss: 0.7008\n",
      "Epoch: 25\n",
      "Train loss: 0.6994\n",
      "Test loss: 0.7005\n",
      "Epoch: 26\n",
      "Train loss: 0.6993\n",
      "Test loss: 0.7001\n",
      "Epoch: 27\n",
      "Train loss: 0.6991\n",
      "Test loss: 0.6998\n",
      "Epoch: 28\n",
      "Train loss: 0.6985\n",
      "Test loss: 0.6995\n",
      "Epoch: 29\n",
      "Train loss: 0.6981\n",
      "Test loss: 0.6992\n",
      "Epoch: 30\n",
      "Train loss: 0.6980\n",
      "Test loss: 0.6989\n",
      "Epoch: 31\n",
      "Train loss: 0.6980\n",
      "Test loss: 0.6986\n",
      "Epoch: 32\n",
      "Train loss: 0.6976\n",
      "Test loss: 0.6983\n",
      "Epoch: 33\n",
      "Train loss: 0.6977\n",
      "Test loss: 0.6980\n",
      "Epoch: 34\n",
      "Train loss: 0.6973\n",
      "Test loss: 0.6978\n",
      "Epoch: 35\n",
      "Train loss: 0.6967\n",
      "Test loss: 0.6975\n",
      "Epoch: 36\n",
      "Train loss: 0.6963\n",
      "Test loss: 0.6972\n",
      "Epoch: 37\n",
      "Train loss: 0.6966\n",
      "Test loss: 0.6969\n",
      "Epoch: 38\n",
      "Train loss: 0.6961\n",
      "Test loss: 0.6966\n",
      "Epoch: 39\n",
      "Train loss: 0.6957\n",
      "Test loss: 0.6964\n",
      "Epoch: 40\n",
      "Train loss: 0.6956\n",
      "Test loss: 0.6961\n",
      "Epoch: 41\n",
      "Train loss: 0.6952\n",
      "Test loss: 0.6958\n",
      "Epoch: 42\n",
      "Train loss: 0.6951\n",
      "Test loss: 0.6956\n",
      "Epoch: 43\n",
      "Train loss: 0.6946\n",
      "Test loss: 0.6953\n",
      "Epoch: 44\n",
      "Train loss: 0.6947\n",
      "Test loss: 0.6952\n",
      "Epoch: 45\n",
      "Train loss: 0.6941\n",
      "Test loss: 0.6949\n",
      "Epoch: 46\n",
      "Train loss: 0.6943\n",
      "Test loss: 0.6947\n",
      "Epoch: 47\n",
      "Train loss: 0.6939\n",
      "Test loss: 0.6944\n",
      "Epoch: 48\n",
      "Train loss: 0.6937\n",
      "Test loss: 0.6942\n",
      "Epoch: 49\n",
      "Train loss: 0.6933\n",
      "Test loss: 0.6941\n",
      "Epoch: 50\n",
      "Train loss: 0.6937\n",
      "Test loss: 0.6939\n",
      "Epoch: 51\n",
      "Train loss: 0.6934\n",
      "Test loss: 0.6937\n",
      "Epoch: 52\n",
      "Train loss: 0.6931\n",
      "Test loss: 0.6935\n",
      "Epoch: 53\n",
      "Train loss: 0.6927\n",
      "Test loss: 0.6933\n",
      "Epoch: 54\n",
      "Train loss: 0.6929\n",
      "Test loss: 0.6931\n",
      "Epoch: 55\n",
      "Train loss: 0.6925\n",
      "Test loss: 0.6929\n",
      "Epoch: 56\n",
      "Train loss: 0.6923\n",
      "Test loss: 0.6928\n",
      "Epoch: 57\n",
      "Train loss: 0.6925\n",
      "Test loss: 0.6926\n",
      "Epoch: 58\n",
      "Train loss: 0.6920\n",
      "Test loss: 0.6925\n",
      "Epoch: 59\n",
      "Train loss: 0.6924\n",
      "Test loss: 0.6923\n",
      "Epoch: 60\n",
      "Train loss: 0.6918\n",
      "Test loss: 0.6921\n",
      "Epoch: 61\n",
      "Train loss: 0.6916\n",
      "Test loss: 0.6919\n",
      "Epoch: 62\n",
      "Train loss: 0.6915\n",
      "Test loss: 0.6918\n",
      "Epoch: 63\n",
      "Train loss: 0.6913\n",
      "Test loss: 0.6917\n",
      "Epoch: 64\n",
      "Train loss: 0.6917\n",
      "Test loss: 0.6915\n",
      "Epoch: 65\n",
      "Train loss: 0.6913\n",
      "Test loss: 0.6914\n",
      "Epoch: 66\n",
      "Train loss: 0.6910\n",
      "Test loss: 0.6912\n",
      "Epoch: 67\n",
      "Train loss: 0.6910\n",
      "Test loss: 0.6911\n",
      "Epoch: 68\n",
      "Train loss: 0.6911\n",
      "Test loss: 0.6910\n",
      "Epoch: 69\n",
      "Train loss: 0.6911\n",
      "Test loss: 0.6909\n",
      "Epoch: 70\n",
      "Train loss: 0.6909\n",
      "Test loss: 0.6908\n",
      "Epoch: 71\n",
      "Train loss: 0.6904\n",
      "Test loss: 0.6907\n",
      "Epoch: 72\n",
      "Train loss: 0.6908\n",
      "Test loss: 0.6906\n",
      "Epoch: 73\n",
      "Train loss: 0.6905\n",
      "Test loss: 0.6905\n",
      "Epoch: 74\n",
      "Train loss: 0.6901\n",
      "Test loss: 0.6904\n",
      "Epoch: 75\n",
      "Train loss: 0.6898\n",
      "Test loss: 0.6903\n",
      "Epoch: 76\n",
      "Train loss: 0.6902\n",
      "Test loss: 0.6901\n",
      "Epoch: 77\n",
      "Train loss: 0.6905\n",
      "Test loss: 0.6900\n",
      "Epoch: 78\n",
      "Train loss: 0.6901\n",
      "Test loss: 0.6899\n",
      "Epoch: 79\n",
      "Train loss: 0.6894\n",
      "Test loss: 0.6899\n",
      "Epoch: 80\n",
      "Train loss: 0.6896\n",
      "Test loss: 0.6898\n",
      "Epoch: 81\n",
      "Train loss: 0.6895\n",
      "Test loss: 0.6897\n",
      "Epoch: 82\n",
      "Train loss: 0.6899\n",
      "Test loss: 0.6896\n",
      "Epoch: 83\n",
      "Train loss: 0.6895\n",
      "Test loss: 0.6896\n",
      "Epoch: 84\n",
      "Train loss: 0.6896\n",
      "Test loss: 0.6895\n",
      "Epoch: 85\n",
      "Train loss: 0.6894\n",
      "Test loss: 0.6894\n",
      "Epoch: 86\n",
      "Train loss: 0.6897\n",
      "Test loss: 0.6893\n",
      "Epoch: 87\n",
      "Train loss: 0.6893\n",
      "Test loss: 0.6893\n",
      "Epoch: 88\n",
      "Train loss: 0.6897\n",
      "Test loss: 0.6892\n",
      "Epoch: 89\n",
      "Train loss: 0.6894\n",
      "Test loss: 0.6892\n",
      "Epoch: 90\n",
      "Train loss: 0.6891\n",
      "Test loss: 0.6891\n",
      "Epoch: 91\n",
      "Train loss: 0.6896\n",
      "Test loss: 0.6890\n",
      "Epoch: 92\n",
      "Train loss: 0.6888\n",
      "Test loss: 0.6890\n",
      "Epoch: 93\n",
      "Train loss: 0.6890\n",
      "Test loss: 0.6889\n",
      "Epoch: 94\n",
      "Train loss: 0.6893\n",
      "Test loss: 0.6888\n",
      "Epoch: 95\n",
      "Train loss: 0.6890\n",
      "Test loss: 0.6888\n",
      "Epoch: 96\n",
      "Train loss: 0.6889\n",
      "Test loss: 0.6887\n",
      "Epoch: 97\n",
      "Train loss: 0.6885\n",
      "Test loss: 0.6887\n",
      "Epoch: 98\n",
      "Train loss: 0.6887\n",
      "Test loss: 0.6886\n",
      "Epoch: 99\n",
      "Train loss: 0.6888\n",
      "Test loss: 0.6886\n",
      "Epoch: 100\n",
      "Train loss: 0.6885\n",
      "Test loss: 0.6885\n"
     ]
    }
   ],
   "source": [
    "# train and test\n",
    "print(\"Untrained test\")\n",
    "test(model, test_loader, loss, device)\n",
    "\n",
    "print(\"Training\")\n",
    "for i in range(epoch):\n",
    "    print(\"Epoch: \" + str(i+1))\n",
    "    train(model, train_loader, loss, optimizer, device)\n",
    "    test(model, test_loader, loss, device)\n",
    "\n"
   ]
  },
  {
   "cell_type": "code",
   "execution_count": 11,
   "metadata": {},
   "outputs": [],
   "source": [
    "# make prediction\n",
    "train_eval = torch.utils.data.DataLoader(train_dataset, batch_size=batch_size, shuffle=False)\n",
    "\n",
    "train_df[\"pred_action\"] = predict_binary(train_eval, model, device)\n",
    "test_df[\"pred_action\"] = predict_binary(test_loader, model, device)\n",
    "\n",
    "df_out = pd.concat([train_df, test_df], axis=0)"
   ]
  },
  {
   "cell_type": "code",
   "execution_count": 12,
   "metadata": {},
   "outputs": [
    {
     "data": {
      "text/plain": [
       "<AxesSubplot:xlabel='Date'>"
      ]
     },
     "execution_count": 12,
     "metadata": {},
     "output_type": "execute_result"
    },
    {
     "data": {
      "image/png": "[encoded data removed]",
      "text/plain": [
       "<Figure size 432x288 with 1 Axes>"
      ]
     },
     "metadata": {
      "needs_background": "light"
     },
     "output_type": "display_data"
    }
   ],
   "source": [
    "#plot pred action\n",
    "df_out['pred_action'].plot()"
   ]
  },
  {
   "cell_type": "code",
   "execution_count": 13,
   "metadata": {},
   "outputs": [
    {
     "data": {
      "text/plain": [
       "<AxesSubplot:xlabel='Date'>"
      ]
     },
     "execution_count": 13,
     "metadata": {},
     "output_type": "execute_result"
    },
    {
     "data": {
      "image/png": "[encoded data removed]",
      "text/plain": [
       "<Figure size 432x288 with 1 Axes>"
      ]
     },
     "metadata": {
      "needs_background": "light"
     },
     "output_type": "display_data"
    }
   ],
   "source": [
    "df_out['perfect'].plot()"
   ]
  },
  {
   "cell_type": "code",
   "execution_count": 14,
   "metadata": {},
   "outputs": [
    {
     "name": "stdout",
     "output_type": "stream",
     "text": [
      "Date\n",
      "2020-09-30    0\n",
      "2020-10-01    1\n",
      "2020-10-02    0\n",
      "2020-10-05    1\n",
      "2020-10-06    0\n",
      "             ..\n",
      "2022-09-26    0\n",
      "2022-09-27    0\n",
      "2022-09-28    0\n",
      "2022-09-29    0\n",
      "2022-09-30    1\n",
      "Name: random_action, Length: 505, dtype: int64\n"
     ]
    }
   ],
   "source": [
    "# make random decision\n",
    "df_out[\"random_action\"] = np.random.randint(0,2,df_out.shape[0])\n",
    "\n",
    "print(df_out['random_action'])"
   ]
  },
  {
   "cell_type": "code",
   "execution_count": 15,
   "metadata": {},
   "outputs": [
    {
     "data": {
      "text/plain": [
       "Date\n",
       "2020-09-30         NaN\n",
       "2020-10-01   -0.059964\n",
       "2020-10-02    0.110157\n",
       "2020-10-05   -0.031775\n",
       "2020-10-06    0.036258\n",
       "                ...   \n",
       "2022-09-26    0.026282\n",
       "2022-09-27    0.260974\n",
       "2022-09-28    0.145441\n",
       "2022-09-29   -0.511025\n",
       "2022-09-30    0.154631\n",
       "Name: returns, Length: 505, dtype: float64"
      ]
     },
     "execution_count": 15,
     "metadata": {},
     "output_type": "execute_result"
    }
   ],
   "source": [
    "# Calculate the daily returns from the stock\n",
    "df_out['returns'] = df_out['Close'].pct_change(1)\n",
    "# Show the returns\n",
    "df_out['returns']"
   ]
  },
  {
   "cell_type": "code",
   "execution_count": 16,
   "metadata": {},
   "outputs": [
    {
     "data": {
      "text/plain": [
       "Date\n",
       "2020-09-30         NaN\n",
       "2020-10-01   -0.059964\n",
       "2020-10-02    0.110157\n",
       "2020-10-05   -0.031775\n",
       "2020-10-06    0.036258\n",
       "                ...   \n",
       "2022-09-26    0.026282\n",
       "2022-09-27    0.260974\n",
       "2022-09-28    0.145441\n",
       "2022-09-29   -0.511025\n",
       "2022-09-30    0.154631\n",
       "Name: strategy_returns, Length: 505, dtype: float64"
      ]
     },
     "execution_count": 16,
     "metadata": {},
     "output_type": "execute_result"
    }
   ],
   "source": [
    "# Calculate the strategy returns\n",
    "df_out['strategy_returns'] = df_out['pred_action'].shift(1) * df_out['returns']\n",
    "# Show the strategy returns\n",
    "df_out['strategy_returns']"
   ]
  },
  {
   "cell_type": "code",
   "execution_count": 17,
   "metadata": {},
   "outputs": [
    {
     "data": {
      "text/plain": [
       "Date\n",
       "2020-09-30          NaN\n",
       "2020-10-01    -0.059964\n",
       "2020-10-02     0.050193\n",
       "2020-10-05     0.018418\n",
       "2020-10-06     0.054676\n",
       "                ...    \n",
       "2022-09-26   -21.681206\n",
       "2022-09-27   -21.420232\n",
       "2022-09-28   -21.274791\n",
       "2022-09-29   -21.785816\n",
       "2022-09-30   -21.631185\n",
       "Name: cum_strategy_returns, Length: 505, dtype: float64"
      ]
     },
     "execution_count": 17,
     "metadata": {},
     "output_type": "execute_result"
    }
   ],
   "source": [
    "# Calculate the cumulative strategy returns\n",
    "df_out['cum_strategy_returns'] = df_out['strategy_returns'].cumsum()\n",
    "# Show the cumulative strategy returns\n",
    "df_out['cum_strategy_returns']"
   ]
  },
  {
   "cell_type": "code",
   "execution_count": 18,
   "metadata": {},
   "outputs": [],
   "source": [
    "# Calculate the random returns\n",
    "df_out['random_returns'] = df_out['random_action'].shift(1) * df_out['returns']\n",
    "# Calculate the cumulative random returns\n",
    "df_out['cum_random_returns'] = df_out['random_returns'].cumsum()\n"
   ]
  },
  {
   "cell_type": "code",
   "execution_count": 19,
   "metadata": {},
   "outputs": [],
   "source": [
    "# train svc model\n",
    "svc_model = svc_train(df_out)\n",
    "\n",
    "# make prediction\n",
    "df_out['High-Low'] = df_out['High'] - df_out['Low']\n",
    "df_out['Open-Close'] = df_out['Open'] - df_out['Close']\n",
    "df_out['svc_action'] = svc_model.predict(df_out[['Open-Close', 'High-Low']])"
   ]
  },
  {
   "cell_type": "code",
   "execution_count": 20,
   "metadata": {},
   "outputs": [
    {
     "data": {
      "text/plain": [
       "<AxesSubplot:xlabel='Date'>"
      ]
     },
     "execution_count": 20,
     "metadata": {},
     "output_type": "execute_result"
    },
    {
     "data": {
      "image/png": "[encoded data removed]",
      "text/plain": [
       "<Figure size 432x288 with 1 Axes>"
      ]
     },
     "metadata": {
      "needs_background": "light"
     },
     "output_type": "display_data"
    }
   ],
   "source": [
    "df_out['svc_action'].plot()"
   ]
  },
  {
   "cell_type": "code",
   "execution_count": 21,
   "metadata": {},
   "outputs": [],
   "source": [
    "# Calculate the svc returns\n",
    "df_out['svc_returns'] = df_out['svc_action'].shift(1) * df_out['returns']\n",
    "# Calculate the cumulative svc returns\n",
    "df_out['cum_svc_returns'] = df_out['svc_returns'].cumsum()"
   ]
  },
  {
   "cell_type": "code",
   "execution_count": 22,
   "metadata": {},
   "outputs": [],
   "source": [
    "# Calculate market returns\n",
    "df_out['market_returns'] = df_out['returns'].cumsum()"
   ]
  },
  {
   "cell_type": "code",
   "execution_count": 23,
   "metadata": {},
   "outputs": [
    {
     "data": {
      "image/png": "[encoded data removed]",
      "text/plain": [
       "<Figure size 720x360 with 1 Axes>"
      ]
     },
     "metadata": {
      "needs_background": "light"
     },
     "output_type": "display_data"
    }
   ],
   "source": [
    "# plot returns\n",
    "plt.figure(figsize=(10,5))\n",
    "plt.plot(df_out['market_returns'], color='r', label='Market Returns')\n",
    "plt.plot(df_out['cum_strategy_returns'], label='Strategy Returns')\n",
    "plt.plot(df_out['cum_random_returns'], label='Random Returns')\n",
    "plt.plot(df_out['cum_svc_returns'], label='SVC Returns')\n",
    "plt.legend()\n",
    "plt.show()"
   ]
  }
 ],
 "metadata": {
  "kernelspec": {
   "display_name": "Python 3.10.4 ('testpython')",
   "language": "python",
   "name": "python3"
  },
  "language_info": {
   "codemirror_mode": {
    "name": "ipython",
    "version": 3
   },
   "file_extension": ".py",
   "mimetype": "text/x-python",
   "name": "python",
   "nbconvert_exporter": "python",
   "pygments_lexer": "ipython3",
   "version": "3.10.4"
  },
  "orig_nbformat": 4,
  "vscode": {
   "interpreter": {
    "hash": "648d1dcbd6682217e1a7c0b1a7c0c54c0b39a029f0fde86a6625ffa444d0c385"
   }
  }
 },
 "nbformat": 4,
 "nbformat_minor": 2
}
