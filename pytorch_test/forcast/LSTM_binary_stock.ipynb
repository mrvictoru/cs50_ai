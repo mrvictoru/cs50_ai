{
 "cells": [
  {
   "cell_type": "markdown",
   "metadata": {},
   "source": [
    "# Buy/Not buy action predicted using LSTM\n",
    "\n",
    "This notebook utilised LSTM to predict the buy or not buy action of a stock. The feature of the stock is the Open, High, Low, Close, Volume, Adj Close price of the stock. The target is the action of the stock, which is 1 if the stock price is higher than the previous day, and 0 if the stock price is lower than the previous day."
   ]
  },
  {
   "cell_type": "code",
   "execution_count": 1,
   "metadata": {},
   "outputs": [
    {
     "name": "stderr",
     "output_type": "stream",
     "text": [
      "/home/victoru/anaconda3/envs/testpython/lib/python3.10/site-packages/tqdm/auto.py:22: TqdmWarning: IProgress not found. Please update jupyter and ipywidgets. See https://ipywidgets.readthedocs.io/en/stable/user_install.html\n",
      "  from .autonotebook import tqdm as notebook_tqdm\n"
     ]
    }
   ],
   "source": [
    "# import library for Support Vector Classification\n",
    "from sklearn.svm import SVC\n",
    "\n",
    "# import library for plot\n",
    "import matplotlib.pyplot as plt\n",
    "\n",
    "# import library for data handling\n",
    "import pandas_datareader as web\n",
    "import numpy as np\n",
    "import pandas as pd\n",
    "from sklearn.preprocessing import MinMaxScaler\n",
    "import math\n",
    "\n",
    "# import library for pytorch\n",
    "import torch\n",
    "import torch.nn as nn\n",
    "\n",
    "# import custom function\n",
    "from LSTM_stock_predict import SequenceDataset, ShallowRegressionLSTM, train, test, get_stock_data, split_train_test, predict_binary, split_train_test_binary\n",
    "from SVC_stock_predict import svc_train\n",
    "\n",
    "# Get cuda device\n",
    "device = torch.device(\"cuda:0\" if torch.cuda.is_available() else \"cpu\")"
   ]
  },
  {
   "cell_type": "code",
   "execution_count": 2,
   "metadata": {},
   "outputs": [],
   "source": [
    "# Get the past stock price\n",
    "df = get_stock_data(stock_name = 'AAPL', source = 'yahoo', past_year = 1)"
   ]
  },
  {
   "cell_type": "code",
   "execution_count": 3,
   "metadata": {},
   "outputs": [],
   "source": [
    "features = df.columns"
   ]
  },
  {
   "cell_type": "code",
   "execution_count": 4,
   "metadata": {},
   "outputs": [
    {
     "data": {
      "text/plain": [
       "Index(['High', 'Low', 'Open', 'Close', 'Volume', 'Adj Close'], dtype='object')"
      ]
     },
     "execution_count": 4,
     "metadata": {},
     "output_type": "execute_result"
    }
   ],
   "source": [
    "features"
   ]
  },
  {
   "cell_type": "code",
   "execution_count": 5,
   "metadata": {},
   "outputs": [],
   "source": [
    "# set up train and test data\n",
    "train_df, test_df, train_size, test_size, df['perfect'] = split_train_test_binary(df,0.7)\n"
   ]
  },
  {
   "cell_type": "code",
   "execution_count": 6,
   "metadata": {},
   "outputs": [
    {
     "name": "stdout",
     "output_type": "stream",
     "text": [
      "Feature shape:  torch.Size([5, 20, 6])\n",
      "Target shape:  torch.Size([5])\n"
     ]
    }
   ],
   "source": [
    "# create dataset and dataloader\n",
    "batch_size = 5\n",
    "seq_len = 20\n",
    "\n",
    "torch.manual_seed(seq_len*batch_size/2)\n",
    "\n",
    "train_dataset = SequenceDataset(train_df, 'perfect', features, seq_len)\n",
    "test_dataset = SequenceDataset(test_df, 'perfect', features, seq_len)\n",
    "train_loader = torch.utils.data.DataLoader(train_dataset, batch_size=batch_size, shuffle=True)\n",
    "test_loader = torch.utils.data.DataLoader(test_dataset, batch_size=batch_size, shuffle=False)\n",
    "\n",
    "# get the first batch of data to check the shape\n",
    "x, y = next(iter(train_loader))\n",
    "print(\"Feature shape: \", x.shape)\n",
    "print(\"Target shape: \", y.shape)"
   ]
  },
  {
   "cell_type": "code",
   "execution_count": 7,
   "metadata": {},
   "outputs": [],
   "source": [
    "# create model, loss and optimizer\n",
    "learning_rate = 5e-5\n",
    "num_hidden = 8\n",
    "num_layers = 1\n",
    "epoch = 100\n",
    "\n",
    "model = ShallowRegressionLSTM(n_features = len(features), n_hidden = num_hidden, n_layers = num_layers, device = device).to(device)\n",
    "loss = nn.BCEWithLogitsLoss()\n",
    "optimizer = torch.optim.Adam(model.parameters(), lr=learning_rate)"
   ]
  },
  {
   "cell_type": "code",
   "execution_count": 8,
   "metadata": {},
   "outputs": [
    {
     "name": "stdout",
     "output_type": "stream",
     "text": [
      "Untrained test\n",
      "Test loss: 0.6799\n",
      "Training\n",
      "Epoch: 1\n",
      "Train loss: 0.7020\n",
      "Test loss: 0.6798\n",
      "Epoch: 2\n",
      "Train loss: 0.7019\n",
      "Test loss: 0.6797\n",
      "Epoch: 3\n",
      "Train loss: 0.6945\n",
      "Test loss: 0.6796\n",
      "Epoch: 4\n",
      "Train loss: 0.7016\n",
      "Test loss: 0.6795\n",
      "Epoch: 5\n",
      "Train loss: 0.6976\n",
      "Test loss: 0.6794\n",
      "Epoch: 6\n",
      "Train loss: 0.6955\n",
      "Test loss: 0.6793\n",
      "Epoch: 7\n",
      "Train loss: 0.7008\n",
      "Test loss: 0.6792\n",
      "Epoch: 8\n",
      "Train loss: 0.6972\n",
      "Test loss: 0.6791\n",
      "Epoch: 9\n",
      "Train loss: 0.6929\n",
      "Test loss: 0.6789\n",
      "Epoch: 10\n",
      "Train loss: 0.7006\n",
      "Test loss: 0.6788\n",
      "Epoch: 11\n",
      "Train loss: 0.6945\n",
      "Test loss: 0.6787\n",
      "Epoch: 12\n",
      "Train loss: 0.6987\n",
      "Test loss: 0.6786\n",
      "Epoch: 13\n",
      "Train loss: 0.6925\n",
      "Test loss: 0.6786\n",
      "Epoch: 14\n",
      "Train loss: 0.6995\n",
      "Test loss: 0.6785\n",
      "Epoch: 15\n",
      "Train loss: 0.6947\n",
      "Test loss: 0.6784\n",
      "Epoch: 16\n",
      "Train loss: 0.6986\n",
      "Test loss: 0.6783\n",
      "Epoch: 17\n",
      "Train loss: 0.6979\n",
      "Test loss: 0.6782\n",
      "Epoch: 18\n",
      "Train loss: 0.6942\n",
      "Test loss: 0.6782\n",
      "Epoch: 19\n",
      "Train loss: 0.6910\n",
      "Test loss: 0.6782\n",
      "Epoch: 20\n",
      "Train loss: 0.6914\n",
      "Test loss: 0.6781\n",
      "Epoch: 21\n",
      "Train loss: 0.6986\n",
      "Test loss: 0.6780\n",
      "Epoch: 22\n",
      "Train loss: 0.6943\n",
      "Test loss: 0.6779\n",
      "Epoch: 23\n",
      "Train loss: 0.6941\n",
      "Test loss: 0.6779\n",
      "Epoch: 24\n",
      "Train loss: 0.6903\n",
      "Test loss: 0.6779\n",
      "Epoch: 25\n",
      "Train loss: 0.6976\n",
      "Test loss: 0.6778\n",
      "Epoch: 26\n",
      "Train loss: 0.6930\n",
      "Test loss: 0.6777\n",
      "Epoch: 27\n",
      "Train loss: 0.6938\n",
      "Test loss: 0.6777\n",
      "Epoch: 28\n",
      "Train loss: 0.6894\n",
      "Test loss: 0.6777\n",
      "Epoch: 29\n",
      "Train loss: 0.6971\n",
      "Test loss: 0.6776\n",
      "Epoch: 30\n",
      "Train loss: 0.6964\n",
      "Test loss: 0.6776\n",
      "Epoch: 31\n",
      "Train loss: 0.6925\n",
      "Test loss: 0.6775\n",
      "Epoch: 32\n",
      "Train loss: 0.6926\n",
      "Test loss: 0.6775\n",
      "Epoch: 33\n",
      "Train loss: 0.6924\n",
      "Test loss: 0.6774\n",
      "Epoch: 34\n",
      "Train loss: 0.6961\n",
      "Test loss: 0.6774\n",
      "Epoch: 35\n",
      "Train loss: 0.6918\n",
      "Test loss: 0.6774\n",
      "Epoch: 36\n",
      "Train loss: 0.6957\n",
      "Test loss: 0.6773\n",
      "Epoch: 37\n",
      "Train loss: 0.6905\n",
      "Test loss: 0.6773\n",
      "Epoch: 38\n",
      "Train loss: 0.6936\n",
      "Test loss: 0.6773\n",
      "Epoch: 39\n",
      "Train loss: 0.6935\n",
      "Test loss: 0.6773\n",
      "Epoch: 40\n",
      "Train loss: 0.6912\n",
      "Test loss: 0.6773\n",
      "Epoch: 41\n",
      "Train loss: 0.6883\n",
      "Test loss: 0.6773\n",
      "Epoch: 42\n",
      "Train loss: 0.6950\n",
      "Test loss: 0.6773\n",
      "Epoch: 43\n",
      "Train loss: 0.6901\n",
      "Test loss: 0.6773\n",
      "Epoch: 44\n",
      "Train loss: 0.6946\n",
      "Test loss: 0.6773\n",
      "Epoch: 45\n",
      "Train loss: 0.6911\n",
      "Test loss: 0.6773\n",
      "Epoch: 46\n",
      "Train loss: 0.6872\n",
      "Test loss: 0.6773\n",
      "Epoch: 47\n",
      "Train loss: 0.6895\n",
      "Test loss: 0.6773\n",
      "Epoch: 48\n",
      "Train loss: 0.6940\n",
      "Test loss: 0.6773\n",
      "Epoch: 49\n",
      "Train loss: 0.6861\n",
      "Test loss: 0.6773\n",
      "Epoch: 50\n",
      "Train loss: 0.6860\n",
      "Test loss: 0.6773\n",
      "Epoch: 51\n",
      "Train loss: 0.6868\n",
      "Test loss: 0.6774\n",
      "Epoch: 52\n",
      "Train loss: 0.6898\n",
      "Test loss: 0.6774\n",
      "Epoch: 53\n",
      "Train loss: 0.6855\n",
      "Test loss: 0.6774\n",
      "Epoch: 54\n",
      "Train loss: 0.6885\n",
      "Test loss: 0.6774\n",
      "Epoch: 55\n",
      "Train loss: 0.6916\n",
      "Test loss: 0.6775\n",
      "Epoch: 56\n",
      "Train loss: 0.6866\n",
      "Test loss: 0.6775\n",
      "Epoch: 57\n",
      "Train loss: 0.6859\n",
      "Test loss: 0.6775\n",
      "Epoch: 58\n",
      "Train loss: 0.6909\n",
      "Test loss: 0.6776\n",
      "Epoch: 59\n",
      "Train loss: 0.6855\n",
      "Test loss: 0.6776\n",
      "Epoch: 60\n",
      "Train loss: 0.6857\n",
      "Test loss: 0.6776\n",
      "Epoch: 61\n",
      "Train loss: 0.6923\n",
      "Test loss: 0.6777\n",
      "Epoch: 62\n",
      "Train loss: 0.6925\n",
      "Test loss: 0.6777\n",
      "Epoch: 63\n",
      "Train loss: 0.6911\n",
      "Test loss: 0.6778\n",
      "Epoch: 64\n",
      "Train loss: 0.6861\n",
      "Test loss: 0.6779\n",
      "Epoch: 65\n",
      "Train loss: 0.6900\n",
      "Test loss: 0.6779\n",
      "Epoch: 66\n",
      "Train loss: 0.6840\n",
      "Test loss: 0.6779\n",
      "Epoch: 67\n",
      "Train loss: 0.6858\n",
      "Test loss: 0.6780\n",
      "Epoch: 68\n",
      "Train loss: 0.6891\n",
      "Test loss: 0.6780\n",
      "Epoch: 69\n",
      "Train loss: 0.6897\n",
      "Test loss: 0.6781\n",
      "Epoch: 70\n",
      "Train loss: 0.6881\n",
      "Test loss: 0.6782\n",
      "Epoch: 71\n",
      "Train loss: 0.6892\n",
      "Test loss: 0.6783\n",
      "Epoch: 72\n",
      "Train loss: 0.6882\n",
      "Test loss: 0.6784\n",
      "Epoch: 73\n",
      "Train loss: 0.6840\n",
      "Test loss: 0.6784\n",
      "Epoch: 74\n",
      "Train loss: 0.6886\n",
      "Test loss: 0.6785\n",
      "Epoch: 75\n",
      "Train loss: 0.6905\n",
      "Test loss: 0.6785\n",
      "Epoch: 76\n",
      "Train loss: 0.6911\n",
      "Test loss: 0.6786\n",
      "Epoch: 77\n",
      "Train loss: 0.6907\n",
      "Test loss: 0.6787\n",
      "Epoch: 78\n",
      "Train loss: 0.6851\n",
      "Test loss: 0.6788\n",
      "Epoch: 79\n",
      "Train loss: 0.6909\n",
      "Test loss: 0.6789\n",
      "Epoch: 80\n",
      "Train loss: 0.6875\n",
      "Test loss: 0.6789\n",
      "Epoch: 81\n",
      "Train loss: 0.6852\n",
      "Test loss: 0.6790\n",
      "Epoch: 82\n",
      "Train loss: 0.6883\n",
      "Test loss: 0.6790\n",
      "Epoch: 83\n",
      "Train loss: 0.6887\n",
      "Test loss: 0.6791\n",
      "Epoch: 84\n",
      "Train loss: 0.6906\n",
      "Test loss: 0.6792\n",
      "Epoch: 85\n",
      "Train loss: 0.6901\n",
      "Test loss: 0.6793\n",
      "Epoch: 86\n",
      "Train loss: 0.6819\n",
      "Test loss: 0.6793\n",
      "Epoch: 87\n",
      "Train loss: 0.6829\n",
      "Test loss: 0.6794\n",
      "Epoch: 88\n",
      "Train loss: 0.6868\n",
      "Test loss: 0.6795\n",
      "Epoch: 89\n",
      "Train loss: 0.6899\n",
      "Test loss: 0.6796\n",
      "Epoch: 90\n",
      "Train loss: 0.6885\n",
      "Test loss: 0.6797\n",
      "Epoch: 91\n",
      "Train loss: 0.6826\n",
      "Test loss: 0.6797\n",
      "Epoch: 92\n",
      "Train loss: 0.6819\n",
      "Test loss: 0.6798\n",
      "Epoch: 93\n",
      "Train loss: 0.6817\n",
      "Test loss: 0.6799\n",
      "Epoch: 94\n",
      "Train loss: 0.6889\n",
      "Test loss: 0.6799\n",
      "Epoch: 95\n",
      "Train loss: 0.6866\n",
      "Test loss: 0.6800\n",
      "Epoch: 96\n",
      "Train loss: 0.6882\n",
      "Test loss: 0.6801\n",
      "Epoch: 97\n",
      "Train loss: 0.6831\n",
      "Test loss: 0.6802\n",
      "Epoch: 98\n",
      "Train loss: 0.6860\n",
      "Test loss: 0.6802\n",
      "Epoch: 99\n",
      "Train loss: 0.6832\n",
      "Test loss: 0.6803\n",
      "Epoch: 100\n",
      "Train loss: 0.6871\n",
      "Test loss: 0.6804\n"
     ]
    }
   ],
   "source": [
    "# train and test\n",
    "print(\"Untrained test\")\n",
    "test(model, test_loader, loss, device)\n",
    "\n",
    "print(\"Training\")\n",
    "for i in range(epoch):\n",
    "    print(\"Epoch: \" + str(i+1))\n",
    "    train(model, train_loader, loss, optimizer, device)\n",
    "    test(model, test_loader, loss, device)\n",
    "\n"
   ]
  },
  {
   "cell_type": "code",
   "execution_count": 9,
   "metadata": {},
   "outputs": [],
   "source": [
    "# make prediction\n",
    "train_eval = torch.utils.data.DataLoader(train_dataset, batch_size=batch_size, shuffle=False)\n",
    "\n",
    "train_df[\"pred_action\"] = predict_binary(train_eval, model, device)\n",
    "test_df[\"pred_action\"] = predict_binary(test_loader, model, device)\n",
    "\n",
    "df['pred_action'] = pd.concat([train_df, test_df], axis=0)['pred_action']"
   ]
  },
  {
   "cell_type": "code",
   "execution_count": 10,
   "metadata": {},
   "outputs": [
    {
     "name": "stdout",
     "output_type": "stream",
     "text": [
      "Date\n",
      "2021-10-01    0\n",
      "2021-10-04    0\n",
      "2021-10-05    0\n",
      "2021-10-06    0\n",
      "2021-10-07    0\n",
      "             ..\n",
      "2022-09-26    1\n",
      "2022-09-27    1\n",
      "2022-09-28    1\n",
      "2022-09-29    1\n",
      "2022-09-30    1\n",
      "Name: random_action, Length: 252, dtype: int64\n"
     ]
    }
   ],
   "source": [
    "# make random decision\n",
    "df[\"random_action\"] = np.random.randint(0,2,df.shape[0])\n",
    "\n",
    "print(df['random_action'])"
   ]
  },
  {
   "cell_type": "code",
   "execution_count": 11,
   "metadata": {},
   "outputs": [
    {
     "data": {
      "text/plain": [
       "Date\n",
       "2021-10-01         NaN\n",
       "2021-10-04   -0.024606\n",
       "2021-10-05    0.014158\n",
       "2021-10-06    0.006307\n",
       "2021-10-07    0.009084\n",
       "                ...   \n",
       "2022-09-26    0.002260\n",
       "2022-09-27    0.006566\n",
       "2022-09-28   -0.012652\n",
       "2022-09-29   -0.049119\n",
       "2022-09-30   -0.030039\n",
       "Name: returns, Length: 252, dtype: float64"
      ]
     },
     "execution_count": 11,
     "metadata": {},
     "output_type": "execute_result"
    }
   ],
   "source": [
    "# Calculate the daily returns from the stock\n",
    "df['returns'] = df['Close'].pct_change(1)\n",
    "# Show the returns\n",
    "df['returns']"
   ]
  },
  {
   "cell_type": "code",
   "execution_count": 12,
   "metadata": {},
   "outputs": [
    {
     "data": {
      "text/plain": [
       "Date\n",
       "2021-10-01         NaN\n",
       "2021-10-04   -0.024606\n",
       "2021-10-05    0.014158\n",
       "2021-10-06    0.006307\n",
       "2021-10-07    0.009084\n",
       "                ...   \n",
       "2022-09-26    0.002260\n",
       "2022-09-27    0.006566\n",
       "2022-09-28   -0.012652\n",
       "2022-09-29   -0.049119\n",
       "2022-09-30   -0.030039\n",
       "Name: strategy_returns, Length: 252, dtype: float64"
      ]
     },
     "execution_count": 12,
     "metadata": {},
     "output_type": "execute_result"
    }
   ],
   "source": [
    "# Calculate the strategy returns\n",
    "df['strategy_returns'] = df['pred_action'].shift(1) * df['returns']\n",
    "# Show the strategy returns\n",
    "df['strategy_returns']"
   ]
  },
  {
   "cell_type": "code",
   "execution_count": 13,
   "metadata": {},
   "outputs": [
    {
     "data": {
      "text/plain": [
       "Date\n",
       "2021-10-01         NaN\n",
       "2021-10-04   -0.024606\n",
       "2021-10-05   -0.010447\n",
       "2021-10-06   -0.004140\n",
       "2021-10-07    0.004944\n",
       "                ...   \n",
       "2022-09-26    0.306700\n",
       "2022-09-27    0.313266\n",
       "2022-09-28    0.300614\n",
       "2022-09-29    0.251495\n",
       "2022-09-30    0.221456\n",
       "Name: cum_strategy_returns, Length: 252, dtype: float64"
      ]
     },
     "execution_count": 13,
     "metadata": {},
     "output_type": "execute_result"
    }
   ],
   "source": [
    "# Calculate the cumulative strategy returns\n",
    "df['cum_strategy_returns'] = df['strategy_returns'].cumsum()\n",
    "# Show the cumulative strategy returns\n",
    "df['cum_strategy_returns']"
   ]
  },
  {
   "cell_type": "code",
   "execution_count": 14,
   "metadata": {},
   "outputs": [],
   "source": [
    "# Calculate the random returns\n",
    "df['random_returns'] = df['random_action'].shift(1) * df['returns']\n",
    "# Calculate the cumulative random returns\n",
    "df['cum_random_returns'] = df['random_returns'].cumsum()\n"
   ]
  },
  {
   "cell_type": "code",
   "execution_count": 15,
   "metadata": {},
   "outputs": [],
   "source": [
    "# Calculate the perfect returns\n",
    "df['perfect_returns'] = df['perfect'].shift(1) * df['returns']\n",
    "# Calculate the cumulative perfect returns\n",
    "df['cum_perfect_returns'] = df['perfect_returns'].cumsum()"
   ]
  },
  {
   "cell_type": "code",
   "execution_count": 16,
   "metadata": {},
   "outputs": [],
   "source": [
    "# train svc model\n",
    "svc_model,df['High-Low'],df['Open-Close'] = svc_train(df)\n",
    "\n",
    "df['svc_action'] = svc_model.predict(df[['Open-Close', 'High-Low']])"
   ]
  },
  {
   "cell_type": "code",
   "execution_count": 17,
   "metadata": {},
   "outputs": [],
   "source": [
    "# Calculate the svc returns\n",
    "df['svc_returns'] = df['svc_action'].shift(1) * df['returns']\n",
    "# Calculate the cumulative svc returns\n",
    "df['cum_svc_returns'] = df['svc_returns'].cumsum()"
   ]
  },
  {
   "cell_type": "code",
   "execution_count": 18,
   "metadata": {},
   "outputs": [],
   "source": [
    "# Calculate market returns\n",
    "df['market_returns'] = df['returns'].cumsum()"
   ]
  },
  {
   "cell_type": "code",
   "execution_count": 19,
   "metadata": {},
   "outputs": [
    {
     "data": {
      "image/png": "[encoded data removed]",
      "text/plain": [
       "<Figure size 720x360 with 1 Axes>"
      ]
     },
     "metadata": {
      "needs_background": "light"
     },
     "output_type": "display_data"
    }
   ],
   "source": [
    "# plot returns\n",
    "plt.figure(figsize=(10,5))\n",
    "plt.plot(df['cum_perfect_returns'], label='Perfect Returns')\n",
    "plt.plot(df['market_returns'], color='r', label='Market Returns')\n",
    "plt.plot(df['cum_strategy_returns'], label='Strategy Returns')\n",
    "plt.plot(df['cum_random_returns'], label='Random Returns')\n",
    "plt.plot(df['cum_svc_returns'], label='SVC Returns')\n",
    "plt.legend()\n",
    "plt.show()"
   ]
  }
 ],
 "metadata": {
  "kernelspec": {
   "display_name": "Python 3.10.4 ('testpython')",
   "language": "python",
   "name": "python3"
  },
  "language_info": {
   "codemirror_mode": {
    "name": "ipython",
    "version": 3
   },
   "file_extension": ".py",
   "mimetype": "text/x-python",
   "name": "python",
   "nbconvert_exporter": "python",
   "pygments_lexer": "ipython3",
   "version": "3.10.4"
  },
  "orig_nbformat": 4,
  "vscode": {
   "interpreter": {
    "hash": "648d1dcbd6682217e1a7c0b1a7c0c54c0b39a029f0fde86a6625ffa444d0c385"
   }
  }
 },
 "nbformat": 4,
 "nbformat_minor": 2
}
