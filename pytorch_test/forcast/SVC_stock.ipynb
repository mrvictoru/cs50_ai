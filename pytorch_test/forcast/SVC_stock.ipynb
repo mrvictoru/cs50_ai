{
 "cells": [
  {
   "cell_type": "code",
   "execution_count": 1,
   "metadata": {},
   "outputs": [],
   "source": [
    "#This notebook uses Support Vector Classification to come up with a simple trading/investment strategy\n",
    "\n",
    "#import libraries\n",
    "import pandas as pd\n",
    "import numpy as np\n",
    "import matplotlib.pyplot as plt\n",
    "import warnings\n",
    "import pandas_datareader as web\n",
    "\n",
    "plt.style.use('fivethirtyeight')\n",
    "warnings.filterwarnings('ignore')"
   ]
  },
  {
   "cell_type": "code",
   "execution_count": 2,
   "metadata": {},
   "outputs": [],
   "source": [
    "# Get the past year stock price\n",
    "# today's date\n",
    "today = pd.to_datetime('today').strftime('%Y-%m-%d')\n",
    "# 1 year ago\n",
    "start = pd.to_datetime('today') - pd.DateOffset(years=1)\n",
    "df = web.DataReader('AAPL', data_source='yahoo', start=start, end=today)"
   ]
  },
  {
   "cell_type": "code",
   "execution_count": 3,
   "metadata": {},
   "outputs": [
    {
     "data": {
      "text/plain": [
       "Index(['High', 'Low', 'Open', 'Close', 'Volume', 'Adj Close'], dtype='object')"
      ]
     },
     "execution_count": 3,
     "metadata": {},
     "output_type": "execute_result"
    }
   ],
   "source": [
    "df.columns"
   ]
  },
  {
   "cell_type": "code",
   "execution_count": 4,
   "metadata": {},
   "outputs": [],
   "source": [
    "# Create the independent variables\n",
    "df['High-Low'] = df['High'] - df['Low']\n",
    "df['Open-Close'] = df['Open'] - df['Close']\n"
   ]
  },
  {
   "cell_type": "code",
   "execution_count": 5,
   "metadata": {},
   "outputs": [],
   "source": [
    "# Store the independent variables in a new variable called 'X'\n",
    "X = df[['High-Low', 'Open-Close', 'Close']]\n"
   ]
  },
  {
   "cell_type": "code",
   "execution_count": 6,
   "metadata": {},
   "outputs": [],
   "source": [
    "# Store target variable in a new variable called 'y': if tomorrows close price is greater than todays close price, then y = 1, else y = 0\n",
    "# 1 indicate to buy by today closing and sell by tomorrow closing and 0 indicates no action\n",
    "y = np.where(df['Close'].shift(-1) > df['Close'], 1, 0)\n",
    "df['Perfect'] = y"
   ]
  },
  {
   "cell_type": "code",
   "execution_count": 7,
   "metadata": {},
   "outputs": [],
   "source": [
    "# Get the percentage to split the data into training (90%) and testing sets (10%)\n",
    "split_percentage = 0.9\n",
    "row = int(df.shape[0] * split_percentage)\n",
    "\n",
    "# Cretate the training data set\n",
    "X_train = X[:row]\n",
    "y_train = y[:row]\n",
    "\n",
    "# Create the testing data set\n",
    "X_test = X[row:]\n",
    "y_test = y[row:]"
   ]
  },
  {
   "cell_type": "code",
   "execution_count": 8,
   "metadata": {},
   "outputs": [
    {
     "data": {
      "text/plain": [
       "SVC()"
      ]
     },
     "execution_count": 8,
     "metadata": {},
     "output_type": "execute_result"
    }
   ],
   "source": [
    "# import library for Support Vector Classification\n",
    "from sklearn.svm import SVC\n",
    "\n",
    "# Create model\n",
    "model = SVC()\n",
    "\n",
    "# Train the model\n",
    "model.fit(X_train[['Open-Close','High-Low']], y_train)"
   ]
  },
  {
   "cell_type": "code",
   "execution_count": 9,
   "metadata": {},
   "outputs": [
    {
     "data": {
      "text/plain": [
       "0.588495575221239"
      ]
     },
     "execution_count": 9,
     "metadata": {},
     "output_type": "execute_result"
    }
   ],
   "source": [
    "# Check the score of the model on the train dataset\n",
    "model.score(X_train[['Open-Close','High-Low']], y_train)"
   ]
  },
  {
   "cell_type": "code",
   "execution_count": 10,
   "metadata": {},
   "outputs": [
    {
     "data": {
      "text/plain": [
       "0.5384615384615384"
      ]
     },
     "execution_count": 10,
     "metadata": {},
     "output_type": "execute_result"
    }
   ],
   "source": [
    "# Check the score of the model on the test dataset\n",
    "model.score(X_test[['Open-Close','High-Low']], y_test)"
   ]
  },
  {
   "cell_type": "code",
   "execution_count": 11,
   "metadata": {},
   "outputs": [
    {
     "data": {
      "text/plain": [
       "Date\n",
       "2021-09-28    0\n",
       "2021-09-29    1\n",
       "2021-09-30    0\n",
       "2021-10-01    1\n",
       "2021-10-04    0\n",
       "             ..\n",
       "2022-09-21    0\n",
       "2022-09-22    1\n",
       "2022-09-23    1\n",
       "2022-09-26    1\n",
       "2022-09-27    1\n",
       "Name: predictions, Length: 252, dtype: int64"
      ]
     },
     "execution_count": 11,
     "metadata": {},
     "output_type": "execute_result"
    }
   ],
   "source": [
    "# Make and show the model predictions\n",
    "df['predictions'] = model.predict(X[['Open-Close','High-Low']])\n",
    "\n",
    "# Show predictions\n",
    "df['predictions']"
   ]
  },
  {
   "cell_type": "code",
   "execution_count": 12,
   "metadata": {},
   "outputs": [
    {
     "data": {
      "text/plain": [
       "Date\n",
       "2021-09-28    0\n",
       "2021-09-29    1\n",
       "2021-09-30    1\n",
       "2021-10-01    0\n",
       "2021-10-04    0\n",
       "             ..\n",
       "2022-09-21    1\n",
       "2022-09-22    0\n",
       "2022-09-23    1\n",
       "2022-09-26    0\n",
       "2022-09-27    0\n",
       "Name: random, Length: 252, dtype: int64"
      ]
     },
     "execution_count": 12,
     "metadata": {},
     "output_type": "execute_result"
    }
   ],
   "source": [
    "# Make a random decision\n",
    "df['random'] = np.random.randint(0,2, len(df))\n",
    "\n",
    "df['random']"
   ]
  },
  {
   "cell_type": "code",
   "execution_count": 13,
   "metadata": {},
   "outputs": [
    {
     "data": {
      "text/plain": [
       "Date\n",
       "2021-09-28         NaN\n",
       "2021-09-29    0.006483\n",
       "2021-09-30   -0.009312\n",
       "2021-10-01    0.008127\n",
       "2021-10-04   -0.024606\n",
       "                ...   \n",
       "2022-09-21   -0.020268\n",
       "2022-09-22   -0.006375\n",
       "2022-09-23   -0.015124\n",
       "2022-09-26    0.002260\n",
       "2022-09-27    0.006566\n",
       "Name: returns, Length: 252, dtype: float64"
      ]
     },
     "execution_count": 13,
     "metadata": {},
     "output_type": "execute_result"
    }
   ],
   "source": [
    "# Calculate the daily returns from the stock\n",
    "df['returns'] = df['Close'].pct_change(1)\n",
    "# Show the returns\n",
    "df['returns']"
   ]
  },
  {
   "cell_type": "code",
   "execution_count": 14,
   "metadata": {},
   "outputs": [
    {
     "data": {
      "text/plain": [
       "Date\n",
       "2021-09-28         NaN\n",
       "2021-09-29    0.000000\n",
       "2021-09-30   -0.009312\n",
       "2021-10-01    0.000000\n",
       "2021-10-04   -0.024606\n",
       "                ...   \n",
       "2022-09-21   -0.020268\n",
       "2022-09-22   -0.000000\n",
       "2022-09-23   -0.015124\n",
       "2022-09-26    0.002260\n",
       "2022-09-27    0.006566\n",
       "Name: strategy_returns, Length: 252, dtype: float64"
      ]
     },
     "execution_count": 14,
     "metadata": {},
     "output_type": "execute_result"
    }
   ],
   "source": [
    "# Calculate the strategy returns\n",
    "df['strategy_returns'] = df['predictions'].shift(1) * df['returns']\n",
    "# Show the strategy returns\n",
    "df['strategy_returns']"
   ]
  },
  {
   "cell_type": "code",
   "execution_count": 15,
   "metadata": {},
   "outputs": [],
   "source": [
    "# Calculate the cumulative strategy returns\n",
    "df['Cumulate_Strategy'] = df['strategy_returns'].cumsum()\n",
    "\n",
    "# Calculate the cumulative market returns\n",
    "df['Cumulative Market'] = df['returns'].cumsum()"
   ]
  },
  {
   "cell_type": "code",
   "execution_count": 16,
   "metadata": {},
   "outputs": [
    {
     "data": {
      "text/plain": [
       "Date\n",
       "2021-09-28         NaN\n",
       "2021-09-29    0.000000\n",
       "2021-09-30   -0.009312\n",
       "2021-10-01    0.008127\n",
       "2021-10-04   -0.000000\n",
       "                ...   \n",
       "2022-09-21   -0.000000\n",
       "2022-09-22   -0.006375\n",
       "2022-09-23   -0.000000\n",
       "2022-09-26    0.002260\n",
       "2022-09-27    0.000000\n",
       "Name: random_returns, Length: 252, dtype: float64"
      ]
     },
     "execution_count": 16,
     "metadata": {},
     "output_type": "execute_result"
    }
   ],
   "source": [
    "# Calcuate the random returns\n",
    "df['random_returns'] = df['random'].shift(1) * df['returns']\n",
    "# Calculate the cumulative random returns\n",
    "df['Cumulative Random'] = df['random_returns'].cumsum()\n",
    "# Show the random returns\n",
    "df['random_returns']"
   ]
  },
  {
   "cell_type": "code",
   "execution_count": 17,
   "metadata": {},
   "outputs": [],
   "source": [
    "# Calculate the perfect returns\n",
    "df['perfect_returns'] = df['Perfect'].shift(1) * df['returns']\n",
    "# Calculate the cumulative perfect returns\n",
    "df['Cumulative Perfect'] = df['perfect_returns'].cumsum()\n"
   ]
  },
  {
   "cell_type": "code",
   "execution_count": 18,
   "metadata": {},
   "outputs": [
    {
     "data": {
      "image/png": "[encoded data removed]",
      "text/plain": [
       "<Figure size 1152x576 with 1 Axes>"
      ]
     },
     "metadata": {
      "needs_background": "light"
     },
     "output_type": "display_data"
    }
   ],
   "source": [
    "# Visualize and show the data\n",
    "plt.figure(figsize=(16,8))\n",
    "plt.title('Returns')\n",
    "plt.plot(df['Cumulative Market'], color='orange', label='Market Returns')\n",
    "plt.plot(df['Cumulate_Strategy'], color='purple', label='Strategy Returns')\n",
    "plt.plot(df['Cumulative Random'], color='green', label='Random Returns')\n",
    "plt.plot(df['Cumulative Perfect'], color='blue', label='Perfect Returns')\n",
    "plt.xticks(rotation=45)\n",
    "plt.legend()\n",
    "plt.show()"
   ]
  },
  {
   "cell_type": "code",
   "execution_count": 19,
   "metadata": {},
   "outputs": [
    {
     "name": "stdout",
     "output_type": "stream",
     "text": [
      "Market Returns:  11.627844395875309 %\n",
      "Strategy Returns:  38.912480232224226 %\n",
      "Random Returns:  6.292436264160573 %\n",
      "Perfect Returns:  197.55704398605297 %\n"
     ]
    }
   ],
   "source": [
    "# Print the returns\n",
    "print('Market Returns: ', df['Cumulative Market'][-1]*100, '%')\n",
    "print('Strategy Returns: ', df['Cumulate_Strategy'][-1]*100, '%')\n",
    "print('Random Returns: ', df['Cumulative Random'][-1]*100, '%')\n",
    "print('Perfect Returns: ', df['Cumulative Perfect'][-1]*100, '%')"
   ]
  }
 ],
 "metadata": {
  "kernelspec": {
   "display_name": "Python 3.10.4 ('testpython')",
   "language": "python",
   "name": "python3"
  },
  "language_info": {
   "codemirror_mode": {
    "name": "ipython",
    "version": 3
   },
   "file_extension": ".py",
   "mimetype": "text/x-python",
   "name": "python",
   "nbconvert_exporter": "python",
   "pygments_lexer": "ipython3",
   "version": "3.10.4"
  },
  "orig_nbformat": 4,
  "vscode": {
   "interpreter": {
    "hash": "648d1dcbd6682217e1a7c0b1a7c0c54c0b39a029f0fde86a6625ffa444d0c385"
   }
  }
 },
 "nbformat": 4,
 "nbformat_minor": 2
}
