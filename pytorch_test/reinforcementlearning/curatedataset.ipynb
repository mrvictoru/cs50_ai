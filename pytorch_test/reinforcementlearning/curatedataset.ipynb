{
 "cells": [
  {
   "cell_type": "code",
   "execution_count": 1,
   "metadata": {},
   "outputs": [],
   "source": [
    "# This notebook is for creating and testing method on curating datasets on stock trading data for offline reinforcement learning with decision transformer model\n",
    "# This will get stock data from yahoo finance\n",
    "# Then it will use the stock data to create gym environments and sample state, action, reward (both randomly or/and by a trained agent ) which then store as a replay buffer\n",
    "# Group these replay buffers and export as a dataset"
   ]
  },
  {
   "cell_type": "code",
   "execution_count": 2,
   "metadata": {},
   "outputs": [
    {
     "name": "stdout",
     "output_type": "stream",
     "text": [
      "[*********************100%***********************]  1 of 1 completed\n"
     ]
    },
    {
     "name": "stderr",
     "output_type": "stream",
     "text": [
      "/home/victoru/anaconda3/envs/testpython/lib/python3.10/site-packages/ta/trend.py:780: RuntimeWarning: invalid value encountered in double_scalars\n",
      "  dip[idx] = 100 * (self._dip[idx] / value)\n",
      "/home/victoru/anaconda3/envs/testpython/lib/python3.10/site-packages/ta/trend.py:785: RuntimeWarning: invalid value encountered in double_scalars\n",
      "  din[idx] = 100 * (self._din[idx] / value)\n"
     ]
    }
   ],
   "source": [
    "# import helper function for getting stock data\n",
    "from getstock import get_stock_data_yf_between_with_indicators\n",
    "# import time library\n",
    "from datetime import datetime, timedelta\n",
    "# get stock data with technical indicators\n",
    "stock_name = 'AAPL'\n",
    "\n",
    "# period of data to get\n",
    "period = 365*6\n",
    "# start_date in format 'YYYY-MM-DD'\n",
    "start_date = '2016-01-01'\n",
    "# calculate end date being x days after start date\n",
    "start_date_obj = datetime.strptime(start_date, '%Y-%m-%d')\n",
    "end_date_obj = start_date_obj + timedelta(days=period)\n",
    "end_date = end_date_obj.strftime('%Y-%m-%d')\n",
    "\n",
    "\n",
    "interval = '1d'\n",
    "indicators = ['volume_obv', 'trend_macd', 'momentum_rsi']\n",
    "\n",
    "stockdata = get_stock_data_yf_between_with_indicators(stock_name, start_date, end_date, interval, indicators)"
   ]
  },
  {
   "cell_type": "code",
   "execution_count": 3,
   "metadata": {},
   "outputs": [
    {
     "name": "stderr",
     "output_type": "stream",
     "text": [
      "/home/victoru/anaconda3/envs/testpython/lib/python3.10/site-packages/gym/spaces/box.py:127: UserWarning: \u001b[33mWARN: Box bound precision lowered by casting to float16\u001b[0m\n",
      "  logger.warn(f\"Box bound precision lowered by casting to {self.dtype}\")\n"
     ]
    }
   ],
   "source": [
    "# create the gym environment using the stock data\n",
    "import gym\n",
    "from TradingEnvClass import StockTradingEnv\n",
    "\n",
    "init_balance = 10000\n",
    "max_step = len(stockdata)-1\n",
    "\n",
    "env = StockTradingEnv(stockdata, init_balance, max_step, random = False)\n"
   ]
  },
  {
   "cell_type": "code",
   "execution_count": 4,
   "metadata": {},
   "outputs": [
    {
     "name": "stderr",
     "output_type": "stream",
     "text": [
      "/home/victoru/anaconda3/envs/testpython/lib/python3.10/site-packages/tqdm/auto.py:22: TqdmWarning: IProgress not found. Please update jupyter and ipywidgets. See https://ipywidgets.readthedocs.io/en/stable/user_install.html\n",
      "  from .autonotebook import tqdm as notebook_tqdm\n"
     ]
    }
   ],
   "source": [
    "# create dictionary with state, action, reward as keys and store the values in a list\n",
    "# then create a huggingface dataset from the dictionary\n",
    "# then save the huggingface dataset to a file\n",
    "import numpy as np\n",
    "from datasets import Dataset as huggingfaceDataset\n",
    "\n",
    "data = {'data':[]}"
   ]
  },
  {
   "cell_type": "code",
   "execution_count": 5,
   "metadata": {},
   "outputs": [
    {
     "name": "stdout",
     "output_type": "stream",
     "text": [
      "Episode:  0 Timestep:  1509\n",
      "Episode:  1 Timestep:  1509\n",
      "Episode:  2 Timestep:  1509\n",
      "Episode:  3 Timestep:  1509\n",
      "Episode:  4 Timestep:  1509\n",
      "Episode:  5 Timestep:  1509\n",
      "Episode:  6 Timestep:  1509\n",
      "Episode:  7 Timestep:  1509\n",
      "Episode:  8 Timestep:  1509\n",
      "Episode:  9 Timestep:  1509\n",
      "Episode:  10 Timestep:  1509\n",
      "Episode:  11 Timestep:  1509\n",
      "Episode:  12 Timestep:  1509\n",
      "Episode:  13 Timestep:  1509\n",
      "Episode:  14 Timestep:  1509\n",
      "Episode:  15 Timestep:  1509\n",
      "Episode:  16 Timestep:  1509\n",
      "Episode:  17 Timestep:  1509\n",
      "Episode:  18 Timestep:  1509\n",
      "Episode:  19 Timestep:  1509\n",
      "Episode:  20 Timestep:  1509\n",
      "Episode:  21 Timestep:  1509\n",
      "Episode:  22 Timestep:  1509\n",
      "Episode:  23 Timestep:  1509\n",
      "Episode:  24 Timestep:  1509\n",
      "Episode:  25 Timestep:  1509\n",
      "Episode:  26 Timestep:  1509\n",
      "Episode:  27 Timestep:  1509\n",
      "Episode:  28 Timestep:  1509\n",
      "Episode:  29 Timestep:  1509\n",
      "Episode:  30 Timestep:  1509\n",
      "Episode:  31 Timestep:  1509\n",
      "Episode:  32 Timestep:  1509\n",
      "Episode:  33 Timestep:  1509\n",
      "Episode:  34 Timestep:  1509\n",
      "Episode:  35 Timestep:  1509\n",
      "Episode:  36 Timestep:  1509\n",
      "Episode:  37 Timestep:  1509\n",
      "Episode:  38 Timestep:  1509\n",
      "Episode:  39 Timestep:  1509\n",
      "Episode:  40 Timestep:  1509\n",
      "Episode:  41 Timestep:  1509\n",
      "Episode:  42 Timestep:  1509\n",
      "Episode:  43 Timestep:  1509\n",
      "Episode:  44 Timestep:  1509\n",
      "Episode:  45 Timestep:  1509\n",
      "Episode:  46 Timestep:  1509\n",
      "Episode:  47 Timestep:  1509\n",
      "Episode:  48 Timestep:  1509\n",
      "Episode:  49 Timestep:  1509\n",
      "Episode:  50 Timestep:  1509\n",
      "Episode:  51 Timestep:  1509\n",
      "Episode:  52 Timestep:  1509\n",
      "Episode:  53 Timestep:  1509\n",
      "Episode:  54 Timestep:  1509\n",
      "Episode:  55 Timestep:  1509\n",
      "Episode:  56 Timestep:  1509\n",
      "Episode:  57 Timestep:  1509\n",
      "Episode:  58 Timestep:  1509\n",
      "Episode:  59 Timestep:  1509\n",
      "Episode:  60 Timestep:  1509\n",
      "Episode:  61 Timestep:  1509\n",
      "Episode:  62 Timestep:  1509\n",
      "Episode:  63 Timestep:  1509\n",
      "Episode:  64 Timestep:  1509\n",
      "Episode:  65 Timestep:  1509\n",
      "Episode:  66 Timestep:  1509\n",
      "Episode:  67 Timestep:  1509\n",
      "Episode:  68 Timestep:  1509\n",
      "Episode:  69 Timestep:  1509\n",
      "Episode:  70 Timestep:  1509\n",
      "Episode:  71 Timestep:  1509\n",
      "Episode:  72 Timestep:  1509\n",
      "Episode:  73 Timestep:  1509\n",
      "Episode:  74 Timestep:  1509\n",
      "Episode:  75 Timestep:  1509\n",
      "Episode:  76 Timestep:  1509\n",
      "Episode:  77 Timestep:  1509\n",
      "Episode:  78 Timestep:  1509\n",
      "Episode:  79 Timestep:  1509\n",
      "Episode:  80 Timestep:  1509\n",
      "Episode:  81 Timestep:  1509\n",
      "Episode:  82 Timestep:  1509\n",
      "Episode:  83 Timestep:  1509\n",
      "Episode:  84 Timestep:  1509\n",
      "Episode:  85 Timestep:  1509\n",
      "Episode:  86 Timestep:  1509\n",
      "Episode:  87 Timestep:  1509\n",
      "Episode:  88 Timestep:  1509\n",
      "Episode:  89 Timestep:  1509\n",
      "Episode:  90 Timestep:  1509\n",
      "Episode:  91 Timestep:  1509\n",
      "Episode:  92 Timestep:  1509\n",
      "Episode:  93 Timestep:  1509\n",
      "Episode:  94 Timestep:  1509\n",
      "Episode:  95 Timestep:  1509\n",
      "Episode:  96 Timestep:  1509\n",
      "Episode:  97 Timestep:  1509\n",
      "Episode:  98 Timestep:  1509\n",
      "Episode:  99 Timestep:  1509\n"
     ]
    }
   ],
   "source": [
    "# create a loop to sample state, action, reward and store in the dictionary\n",
    "num_episodes = 100\n",
    "for i in range(num_episodes):\n",
    "    # create list for storing state, action, reward\n",
    "    dict = {'state': [], 'action': [], 'reward': [], 'timestep': []}\n",
    "    # reset the environment\n",
    "    state = env.reset()\n",
    "    dict['state'].append(state.tolist())\n",
    "    timestep = 0\n",
    "    done = False\n",
    "    # create a loop to sample action, next_state, reward and store in the dictionary\n",
    "    while not done:\n",
    "        # sample action\n",
    "        action = env.action_space.sample()\n",
    "        next_state, reward, done, info = env.step(action)\n",
    "        # store state, action, reward in the dictionary\n",
    "        dict['action'].append(action.tolist())\n",
    "        dict['reward'].append([reward])\n",
    "        dict['timestep'].append(timestep)\n",
    "        # update state\n",
    "        timestep += 1\n",
    "        state = next_state\n",
    "        # check if done\n",
    "        if done:\n",
    "            print('Episode: ', i, 'Timestep: ', timestep)\n",
    "            break\n",
    "        else:\n",
    "            dict['state'].append(state.tolist())\n",
    "    \n",
    "    # store the state, action, reward list in the dictionary\n",
    "    data['data'].append(dict)\n"
   ]
  },
  {
   "cell_type": "code",
   "execution_count": 6,
   "metadata": {},
   "outputs": [],
   "source": [
    "file_name = stock_name + '_' + period + '_' + start_date + '_' + interval + '_replaybuffer.json'\n",
    "# output the dictionary to a json file\n",
    "import json\n",
    "with open(file_name, 'w') as fp:\n",
    "    json.dump(data, fp)"
   ]
  }
 ],
 "metadata": {
  "kernelspec": {
   "display_name": "testpython",
   "language": "python",
   "name": "python3"
  },
  "language_info": {
   "codemirror_mode": {
    "name": "ipython",
    "version": 3
   },
   "file_extension": ".py",
   "mimetype": "text/x-python",
   "name": "python",
   "nbconvert_exporter": "python",
   "pygments_lexer": "ipython3",
   "version": "3.10.4"
  },
  "orig_nbformat": 4,
  "vscode": {
   "interpreter": {
    "hash": "648d1dcbd6682217e1a7c0b1a7c0c54c0b39a029f0fde86a6625ffa444d0c385"
   }
  }
 },
 "nbformat": 4,
 "nbformat_minor": 2
}
