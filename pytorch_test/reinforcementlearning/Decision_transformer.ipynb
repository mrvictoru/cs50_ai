{
 "cells": [
  {
   "cell_type": "code",
   "execution_count": 3,
   "metadata": {},
   "outputs": [],
   "source": [
    "# this notebook will use a basic GPT based decision transformer in offline reinforcement learning setting to create bot for trading stock"
   ]
  },
  {
   "cell_type": "code",
   "execution_count": 11,
   "metadata": {},
   "outputs": [],
   "source": [
    "# import libraries\n",
    "import math\n",
    "import torch\n",
    "import torch.nn as nn\n",
    "import torch.nn.functional as F\n",
    "\n",
    "# based on https://github.com/nikhilbarhate99/min-decision-transformer/blob/master/decision_transformer/model.py\n",
    "\n",
    "# define the masked causal attention\n",
    "class MaskedAttention(nn.Module):\n",
    "    def __init__(self, h_dim, max_T, n_heads, drop_p):\n",
    "        super().__init__()\n",
    "        self.n_heads = n_heads\n",
    "        self.drop_p = drop_p\n",
    "        # feed forward networks which create the query, key and value\n",
    "        self.Q_net = nn.Linear(h_dim, h_dim)\n",
    "        self.K_net = nn.Linear(h_dim, h_dim)\n",
    "        self.V_net = nn.Linear(h_dim, h_dim)\n",
    "\n",
    "        # feed forward network which projects the attention to the correct dimension\n",
    "        self.proj_net = nn.Linear(h_dim, h_dim)\n",
    "\n",
    "        # dropout layers\n",
    "        self.att_drop = nn.Dropout(drop_p)\n",
    "        self.proj_drop = nn.Dropout(drop_p)\n",
    "\n",
    "        # create the mask\n",
    "        mask = torch.tril(torch.ones(max_T, max_T)).view(1, 1, max_T, max_T)\n",
    "\n",
    "        # register_buffer will make the mask a constant tensor\n",
    "        # so that it will not be included in the model parameters and be updated during backpropagation\n",
    "        self.register_buffer('mask', mask)\n",
    "\n",
    "    def forward(self, x):\n",
    "        # x: [B, T, H]\n",
    "        B, T, C = x.shape # batch size, sequence length, hidden dimension * number of heads\n",
    "        N, D = self.n_heads, C // self.n_heads # number of heads, dimension of each head\n",
    "\n",
    "        # compute the query, key and value\n",
    "        Q = self.Q_net(x).view(B, T, N, D).transpose(1, 2) # [B, N, T, D]\n",
    "        K = self.K_net(x).view(B, T, N, D).transpose(1, 2)\n",
    "        V = self.V_net(x).view(B, T, N, D).transpose(1, 2)\n",
    "\n",
    "        # compute the attention\n",
    "        weights = Q @ K.transpose(2,3) / math.sqrt(D) # QK^T / sqrt(D)\n",
    "        weights = weights.masked_fill(self.mask[:, :, :T, :T] == 0, float('-inf')) # mask the future tokens\n",
    "        normalized_weights = F.softmax(weights, dim=-1) # softmax along the last dimension\n",
    "        A = self.att_drop(normalized_weights @ V) # attention with dropout\n",
    "\n",
    "        # compute the output\n",
    "        # gather heads and project to correct dimension\n",
    "        attention = A.transpose(1, 2).contiguous().view(B, T, N*D)\n",
    "        out = self.proj_drop(self.proj_net(attention))\n",
    "\n",
    "        return out\n",
    "\n",
    "# define the attention block with layer normalization and residual connection as well as the feed forward network\n",
    "class AttentionBlock(nn.Module):\n",
    "    def __init__(self, h_dim, max_T, n_heads, drop_p):\n",
    "        super().__init__()\n",
    "        self.attention = MaskedAttention(h_dim, max_T, n_heads, drop_p)\n",
    "        self.norm1 = nn.LayerNorm(h_dim)\n",
    "        self.norm2 = nn.LayerNorm(h_dim)\n",
    "        self.ffn = nn.Sequential(\n",
    "            nn.Linear(h_dim, 4*h_dim),\n",
    "            nn.GELU(),\n",
    "            nn.Linear(4*h_dim, h_dim),\n",
    "            nn.Dropout(drop_p)\n",
    "        )\n",
    "\n",
    "    def forward(self, x):\n",
    "        # x: [B, T, H]\n",
    "        # Attention -> LayerNorm -> Residual -> FFN -> LayerNorm -> Residual\n",
    "        out = self.norm1(x + self.attention(x))\n",
    "        out = self.norm2(out + self.ffn(out))\n",
    "\n",
    "        return out\n",
    "\n",
    "# define the decision transformer\n",
    "class DecisionTransformer(nn.Module):\n",
    "    def __init__(self, state_dim, act_dim, n_block, h_dim, context_len, n_heads, drop_p, max_timestep = 4096):\n",
    "        super().__init__()\n",
    "        self.state_dim = state_dim\n",
    "        self.act_dim = act_dim\n",
    "        self.h_dim = h_dim\n",
    "\n",
    "        # transformer blocks\n",
    "        input_seq_len = 3 * context_len\n",
    "        blocks = [AttentionBlock(h_dim, input_seq_len, n_heads, drop_p) for _ in range(n_block)]\n",
    "        self.transformer = nn.Sequential(*blocks)\n",
    "\n",
    "        # projection heads (project to embedding)\n",
    "        self.embed_ln = nn.LayerNorm(h_dim)\n",
    "        self.embed_timestep = nn.Embedding(max_timestep, h_dim)\n",
    "        self.embed_rtg = nn.Linear(1, h_dim)\n",
    "        self.embed_state = nn.Linear(state_dim, h_dim)\n",
    "\n",
    "        # discrete actions\n",
    "        self.embed_act = torch.nn.Embedding(act_dim+1, h_dim)\n",
    "        use_action_tah = False # for discrete action\n",
    "\n",
    "        # prediction heads\n",
    "        self.pred_rtg = nn.Linear(h_dim, 1)\n",
    "        self.pred_state = nn.Linear(h_dim, state_dim)\n",
    "        self.pred_act = nn.Sequential(*([nn.Linear(h_dim, act_dim)] + ([nn.Tanh()] if use_action_tah else [])))\n",
    "    \n",
    "    def forward(self, state, rtg, timestep, actions):\n",
    "        B, T, _ = state.shape\n",
    "\n",
    "        # timestep embedding\n",
    "        time_emb = self.embed_timestep(timestep)\n",
    "\n",
    "        # embedding for the state, reward and actions along with time embedding\n",
    "        state_emb = self.embed_state(state) + time_emb\n",
    "        rtg_emb = self.embed_rtg(rtg) + time_emb\n",
    "        act_emb = self.embed_act(actions)\n",
    "        if act_emb.shape != time_emb.shape:\n",
    "            act_emb = torch.squeeze(act_emb) # fix the unmatch dimension\n",
    "        act_emb = act_emb + time_emb\n",
    "\n",
    "        # stack the embeddings and reshape sequence as (r1, s1, a1, r2, s2, a2, ...)\n",
    "        h = torch.stack([rtg_emb, state_emb, act_emb], dim=1).permute(0,2,1,3).reshape(B, 3*T, self.h_dim)\n",
    "        h = self.embed_ln(h)\n",
    "\n",
    "        # transformer blocks\n",
    "        h = self.transformer(h)\n",
    "\n",
    "        # get h reshaped such that its size is (B, 3, T, h_dim) and\n",
    "        # h[:, 0, t] is conditioned on r_0, s_0, a_0, ..., r_t\n",
    "        # h[:, 1, t] is conditioned on r_0, s_0, a_0, ..., r_t, s_t\n",
    "        # h[:, 2, t] is conditioned on r_0, s_0, a_0, ..., r_t, s_t, a_t\n",
    "        h = h.reshape(B, 3, T, self.h_dim).permute(0,2,1,3)\n",
    "\n",
    "        # get predictions\n",
    "        return_preds = self.pred_rtg(h[:,2])    # predict next rtg given r, s, a\n",
    "        state_preds = self.pred_state(h[:,2])   # predict next state given r, s, a\n",
    "        act_preds = self.pred_act(h[:,2])       # predict action given r, s\n",
    "\n",
    "        return return_preds, state_preds, act_preds"
   ]
  },
  {
   "cell_type": "code",
   "execution_count": 6,
   "metadata": {},
   "outputs": [],
   "source": [
    "import numpy as np\n",
    "\n",
    "def discount_cumsum(x, gamma):\n",
    "    disc_cumsum = np.zeros_like(x)\n",
    "    \n",
    "    disc_cumsum[-1] = x[-1]\n",
    "    \n",
    "    for t in reversed(range(x.shape[0]-1)):\n",
    "        \n",
    "        disc_cumsum[t] = x[t] + gamma * disc_cumsum[t+1]\n",
    "    return disc_cumsum"
   ]
  },
  {
   "cell_type": "code",
   "execution_count": 33,
   "metadata": {},
   "outputs": [],
   "source": [
    "from datasets import load_dataset\n",
    "from torch.utils.data import Dataset, DataLoader\n",
    "# define a custom dataset class which loads the data and modifies the reward to be the discounted cumulative sum\n",
    "class CustomDataset(Dataset):\n",
    "    def __init__(self, file_name, gamma):\n",
    "        self.gamma = gamma\n",
    "\n",
    "        # load the data\n",
    "        data = load_dataset(\"json\", data_files = file_name, field = 'data').with_format('torch')\n",
    "        self.data = data['train']\n",
    "        # calculate the mean and std of the state\n",
    "        stateshape = data['train']['state'].shape\n",
    "        allstates = data['train']['state'].reshape([stateshape[0]*stateshape[1], stateshape[2]])\n",
    "        self.state_std, self.state_mean = torch.std_mean(allstates, dim = 0)\n",
    "        \n",
    "\n",
    "    def __len__(self):\n",
    "        return len(self.data)\n",
    "\n",
    "    def __getitem__(self, idx):\n",
    "        data = self.data[idx]\n",
    "        # calculate the discounted cumulative sum\n",
    "        discount_reward = discount_cumsum(data['reward'], self.gamma)\n",
    "        #\n",
    "        # get the state, action, reward and next state\n",
    "        return (data['state']-self.state_mean)/self.state_std, data['action'], torch.from_numpy(discount_reward), data['timestep']\n"
   ]
  },
  {
   "cell_type": "code",
   "execution_count": 34,
   "metadata": {},
   "outputs": [
    {
     "name": "stderr",
     "output_type": "stream",
     "text": [
      "Using custom data configuration default-7b412463aad4e1b3\n",
      "Found cached dataset json (/home/victoru/.cache/huggingface/datasets/json/default-7b412463aad4e1b3/0.0.0/e6070c77f18f01a5ad4551a8b7edfba20b8438b7cad4d94e6ad9378022ce4aab)\n",
      "100%|██████████| 1/1 [00:00<00:00, 962.00it/s]\n"
     ]
    }
   ],
   "source": [
    "# load huggingface dataset from json file\n",
    "filename = 'AAPL_replaybuffer.json'\n",
    "\n",
    "dataset = CustomDataset(filename, gamma = 0.99)"
   ]
  },
  {
   "cell_type": "code",
   "execution_count": 36,
   "metadata": {},
   "outputs": [],
   "source": [
    "norm_mean, action, rtg, timestep = dataset[0]"
   ]
  },
  {
   "cell_type": "code",
   "execution_count": 38,
   "metadata": {},
   "outputs": [],
   "source": [
    "# get cuda device\n",
    "device = torch.device('cuda' if torch.cuda.is_available() else 'cpu')\n",
    "\n",
    "# define training parameters\n",
    "batch_size = 4\n",
    "lr = 1e-4\n",
    "wt_decay = 1e-4\n",
    "warmup_steps = 10000\n",
    "n_epochs = 2"
   ]
  },
  {
   "cell_type": "code",
   "execution_count": 39,
   "metadata": {},
   "outputs": [],
   "source": [
    "# create dataloader from dataset\n",
    "dataloader = DataLoader(dataset, batch_size=batch_size, shuffle=True)"
   ]
  },
  {
   "cell_type": "code",
   "execution_count": 6,
   "metadata": {},
   "outputs": [],
   "source": [
    "# define model parameters\n",
    "# sample 1 batch from dataloader\n",
    "norm_state, action, rtg, timestep = next(iter(dataloader))\n",
    "# use batch shape to determine state dimension\n",
    "state_dim = norm_state.shape[-1]\n",
    "act_dim = action.shape[-1] # discrete action space\n",
    "# use batch shape to determine context length\n",
    "context_len = timestep.shape[-1] # K in decision transformer\n",
    "\n",
    "n_blocks = 6 # number of transformer blocks\n",
    "h_dim = 128 # hidden dimension\n",
    "n_heads = 2 # number of heads in multi-head attention\n",
    "drop_p = 0.1 # dropout probability\n",
    "\n",
    "#"
   ]
  },
  {
   "cell_type": "code",
   "execution_count": 19,
   "metadata": {},
   "outputs": [],
   "source": [
    "# create the model\n",
    "model = DecisionTransformer(state_dim, act_dim, n_blocks, h_dim, context_len, n_heads, drop_p).to(device)\n",
    "\n",
    "# create optimizer\n",
    "optimizer = torch.optim.AdamW(model.parameters(), lr=lr, weight_decay=wt_decay)\n",
    "\n",
    "# create scheduler\n",
    "scheduler = torch.optim.lr_scheduler.LambdaLR(optimizer, lambda step: min(1.0, (step + 1) / warmup_steps))"
   ]
  },
  {
   "cell_type": "code",
   "execution_count": 20,
   "metadata": {},
   "outputs": [],
   "source": [
    "# create training loop\n",
    "from tqdm import tqdm\n",
    "# get binary cross entropy loss from library\n",
    "from torch.nn import BCEWithLogitsLoss\n",
    "\n",
    "# get the start time to calculate training time\n",
    "import time\n",
    "start_time = time.time()\n",
    "\n",
    "for i in range(n_epochs):\n",
    "    model.train()\n",
    "    for norm_state, actions, rtg, timestep in tqdm(dataloader):\n",
    "        # get batch data to device\n",
    "        norm_state.to(device)\n",
    "        actions.to(device)\n",
    "        rtg.to(device)\n",
    "        timestep.to(device)\n",
    "        \n",
    "        action_targets = torch.clone(actions).detach().to(device)\n",
    "\n",
    "        # forward pass\n",
    "        return_preds, state_preds, act_preds = model.forward(norm_state, rtg, timestep, actions)\n",
    "\n",
    "        # calculate losses just for actions\n",
    "        action_preds = action_preds.view(-1, act_dim)\n",
    "        action_targets = action_targets.view(-1, act_dim)\n",
    "\n",
    "        loss = BCEWithLogitsLoss()(action_preds, action_targets)\n",
    "\n",
    "        # backprop\n",
    "        optimizer.zero_grad()\n",
    "        loss.backward()\n",
    "        torch.nn.utils.clip_grad_norm_(model.parameters(), 0.25)\n",
    "        optimizer.step()\n",
    "        scheduler.step()\n",
    "\n",
    "        # print loss\n",
    "        if i % 10 == 0:\n",
    "            print(loss.item())\n",
    "\n",
    "# record training time\n",
    "trainingtime = time.time() - start_time\n"
   ]
  },
  {
   "cell_type": "code",
   "execution_count": 7,
   "metadata": {},
   "outputs": [],
   "source": [
    "# test act_embedding\n",
    "embed_act = nn.Embedding(act_dim+1, h_dim)\n",
    "embed_timestep = nn.Embedding(4096, h_dim)\n",
    "embed_rtg = nn.Linear(1, h_dim)\n",
    "embed_state = nn.Linear(state_dim, h_dim)"
   ]
  },
  {
   "cell_type": "code",
   "execution_count": 50,
   "metadata": {},
   "outputs": [
    {
     "name": "stdout",
     "output_type": "stream",
     "text": [
      "1\n"
     ]
    }
   ],
   "source": [
    "print(act_dim)"
   ]
  },
  {
   "cell_type": "code",
   "execution_count": 8,
   "metadata": {},
   "outputs": [],
   "source": [
    "batch = next(iter(dataloader))\n",
    "actions = batch['action']\n",
    "timesteps = batch['timestep']\n",
    "reward = batch['reward']\n",
    "states = batch['state']"
   ]
  },
  {
   "cell_type": "code",
   "execution_count": 21,
   "metadata": {},
   "outputs": [
    {
     "name": "stdout",
     "output_type": "stream",
     "text": [
      "torch.Size([4, 28, 1])\n",
      "torch.Size([4, 28, 1])\n",
      "torch.Size([4, 28])\n",
      "torch.Size([4, 28, 5])\n",
      "torch.Size([1, 128])\n",
      "torch.Size([128, 1])\n",
      "torch.Size([4096, 128])\n",
      "torch.Size([128, 5])\n"
     ]
    }
   ],
   "source": [
    "print(actions.shape)\n",
    "print(reward.shape)\n",
    "print(timesteps.shape)\n",
    "print(states.shape)\n",
    "print(embed_act.weight.shape)\n",
    "print(embed_rtg.weight.shape)\n",
    "print(embed_timestep.weight.shape)\n",
    "print(embed_state.weight.shape)"
   ]
  },
  {
   "cell_type": "code",
   "execution_count": 10,
   "metadata": {},
   "outputs": [
    {
     "name": "stdout",
     "output_type": "stream",
     "text": [
      "torch.Size([4, 28, 128])\n"
     ]
    }
   ],
   "source": [
    "time_emb = embed_timestep(timesteps)\n",
    "print(time_emb.shape)\n"
   ]
  },
  {
   "cell_type": "code",
   "execution_count": 9,
   "metadata": {},
   "outputs": [
    {
     "name": "stdout",
     "output_type": "stream",
     "text": [
      "True\n"
     ]
    }
   ],
   "source": [
    "statesize = embed_state(states).shape\n",
    "timesize = embed_timestep(timesteps).shape\n",
    "\n",
    "# compare the size of the embedding\n",
    "print(statesize == timesize)"
   ]
  },
  {
   "cell_type": "code",
   "execution_count": 11,
   "metadata": {},
   "outputs": [],
   "source": [
    "states_emb = embed_state(states) + time_emb"
   ]
  },
  {
   "cell_type": "code",
   "execution_count": 57,
   "metadata": {},
   "outputs": [],
   "source": [
    "reward_emb = embed_rtg(reward)"
   ]
  },
  {
   "cell_type": "code",
   "execution_count": 29,
   "metadata": {},
   "outputs": [],
   "source": [
    "act_emb = torch.squeeze(embed_act(actions))\n",
    "act_emb = act_emb + time_emb\n"
   ]
  }
 ],
 "metadata": {
  "kernelspec": {
   "display_name": "Python 3.10.4 ('testpython')",
   "language": "python",
   "name": "python3"
  },
  "language_info": {
   "codemirror_mode": {
    "name": "ipython",
    "version": 3
   },
   "file_extension": ".py",
   "mimetype": "text/x-python",
   "name": "python",
   "nbconvert_exporter": "python",
   "pygments_lexer": "ipython3",
   "version": "3.10.4 (main, Mar 31 2022, 08:41:55) [GCC 7.5.0]"
  },
  "orig_nbformat": 4,
  "vscode": {
   "interpreter": {
    "hash": "648d1dcbd6682217e1a7c0b1a7c0c54c0b39a029f0fde86a6625ffa444d0c385"
   }
  }
 },
 "nbformat": 4,
 "nbformat_minor": 2
}
