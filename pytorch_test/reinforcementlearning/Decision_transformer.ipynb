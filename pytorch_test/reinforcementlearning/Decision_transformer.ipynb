{
 "cells": [
  {
   "cell_type": "code",
   "execution_count": 3,
   "metadata": {},
   "outputs": [],
   "source": [
    "# this notebook will use a basic GPT based decision transformer in offline reinforcement learning setting to create bot for trading stock"
   ]
  },
  {
   "cell_type": "code",
   "execution_count": null,
   "metadata": {},
   "outputs": [],
   "source": [
    "# import libraries\n",
    "import math\n",
    "import torch\n",
    "import torch.nn as nn\n",
    "import torch.nn.functional as F\n",
    "\n",
    "# define the masked causal attention\n",
    "# based on https://github.com/nikhilbarhate99/min-decision-transformer/blob/master/decision_transformer/model.py\n",
    "class MaskedAttention(nn.Module):\n",
    "    def __init__(self, h_dim, max_T, n_heads, drop_p):\n",
    "        super().__init__()\n",
    "        self.n_heads = n_heads\n",
    "        self.drop_p = drop_p\n",
    "\n",
    "        self.Q_net = nn.Linear(h_dim, h_dim)\n",
    "        self.K_net = nn.Linear(h_dim, h_dim)\n",
    "        self.V_net = nn.Linear(h_dim, h_dim)\n",
    "\n",
    "        self.proj_net = nn.linear(h_dim, h_dim)\n",
    "\n",
    "        self.att_drop = nn.Dropout(drop_p)\n",
    "        self.proj_drop = nn.Dropout(drop_p)\n",
    "\n",
    "        mask = torch.tril(torch.ones(max_T, max_T)).view(1, 1, max_T, max_T)\n",
    "\n",
    "        # register_buffer will make the mask a constant tensor\n",
    "        # so that it will not be included in the model parameters and be updated during backpropagation\n",
    "        self.register_buffer('mask', mask)\n",
    "\n",
    "    def forward(self, x):\n",
    "        # x: [B, T, H]\n",
    "        B, T, C = x.shape # batch size, sequence length, hidden dimension * number of heads\n",
    "        N, D = self.n_heads, C // self.n_heads # number of heads, dimension of each head\n",
    "\n",
    "        # compute the query, key and value\n",
    "        Q = self.Q_net(x).view(B, T, N, D).transpose(1, 2) # [B, N, T, D]\n",
    "        K = self.K_net(x).view(B, T, N, D).transpose(1, 2)\n",
    "        V = self.V_net(x).view(B, T, N, D).transpose(1, 2)\n",
    "\n",
    "        # compute the attention\n",
    "        weights = Q @ K.transpose(2,3) / math.sqrt(D) # QK^T / sqrt(D)\n",
    "        weights = weights.masked_fill(self.mask[:, :, :T, :T] == 0, float('-inf')) # mask the future tokens\n",
    "        normalized_weights = F.softmax(weights, dim=-1) # softmax along the last dimension\n",
    "        A = self.att_drop(normalized_weights) # attention with dropout\n",
    "\n",
    "        # compute the output\n",
    "        # gather heads and project to correct dimension\n",
    "        attention = attention.transpose(1, 2).contiguous().view(B, T, N*D)\n",
    "\n",
    "        out = self.proj_drop(self.proj_net(attention))\n",
    "\n",
    "        return out"
   ]
  }
 ],
 "metadata": {
  "kernelspec": {
   "display_name": "Python 3.10.4 ('testpython')",
   "language": "python",
   "name": "python3"
  },
  "language_info": {
   "codemirror_mode": {
    "name": "ipython",
    "version": 3
   },
   "file_extension": ".py",
   "mimetype": "text/x-python",
   "name": "python",
   "nbconvert_exporter": "python",
   "pygments_lexer": "ipython3",
   "version": "3.10.4"
  },
  "orig_nbformat": 4,
  "vscode": {
   "interpreter": {
    "hash": "648d1dcbd6682217e1a7c0b1a7c0c54c0b39a029f0fde86a6625ffa444d0c385"
   }
  }
 },
 "nbformat": 4,
 "nbformat_minor": 2
}
