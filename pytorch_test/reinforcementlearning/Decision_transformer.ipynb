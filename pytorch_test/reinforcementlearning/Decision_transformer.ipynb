{
 "cells": [
  {
   "cell_type": "code",
   "execution_count": 1,
   "metadata": {},
   "outputs": [
    {
     "name": "stderr",
     "output_type": "stream",
     "text": [
      "/home/victoru/anaconda3/envs/testpython/lib/python3.10/site-packages/tqdm/auto.py:22: TqdmWarning: IProgress not found. Please update jupyter and ipywidgets. See https://ipywidgets.readthedocs.io/en/stable/user_install.html\n",
      "  from .autonotebook import tqdm as notebook_tqdm\n"
     ]
    }
   ],
   "source": [
    "# this notebook will use a basic GPT based decision transformer in offline reinforcement learning setting to create bot for trading stock\n",
    "# get cuda device\n",
    "# import libraries\n",
    "import math\n",
    "import torch\n",
    "import torch.nn as nn\n",
    "import torch.nn.functional as F\n",
    "\n",
    "from cust_transf import DecisionTransformer\n",
    "\n",
    "device = torch.device('cuda' if torch.cuda.is_available() else 'cpu')"
   ]
  },
  {
   "cell_type": "code",
   "execution_count": 3,
   "metadata": {},
   "outputs": [],
   "source": [
    "import numpy as np\n",
    "\n",
    "#utility function to compute the discounted cumulative sum of a vector\n",
    "def discount_cumsum(x, gamma):\n",
    "    disc_cumsum = np.zeros_like(x)\n",
    "    \n",
    "    disc_cumsum[-1] = x[-1]\n",
    "    \n",
    "    for t in reversed(range(x.shape[0]-1)):\n",
    "        \n",
    "        disc_cumsum[t] = x[t] + gamma * disc_cumsum[t+1]\n",
    "    return disc_cumsum\n",
    "\n",
    "#utility function to evaluate the performance of the agent on a given environment\n",
    "def evaluate(model, device, context_len, env, rtg_target, rtg_scale, \n",
    "            num_eval_ep=10, max_test_ep_len=28, state_mean=None, state_std=None, render=False):\n",
    "    eval_batch_size = 1\n",
    "\n",
    "    results = {}\n",
    "    total_reward = 0\n",
    "    total_length = 0\n",
    "\n",
    "    state_dim = env.observation_space.shape[0]\n",
    "    act_dim = env.action_space.shape[0]\n",
    "\n",
    "    state_mean = torch.zeros((state_dim,)).to(device) if state_mean is None else torch.from_numpy(state_mean).to(device)\n",
    "    state_std = torch.ones((state_dim,)).to(device) if state_std is None else torch.from_numpy(state_std).to(device)\n",
    "    \n",
    "    # create timestep for transformer\n",
    "    timesteps = torch.arange(start=0, end=max_test_ep_len, step=1)\n",
    "    timesteps = timesteps.unsqueeze(0).repeat(eval_batch_size, 1).to(device)\n",
    "\n",
    "    # evaluate the agent\n",
    "    model.eval()\n",
    "    with torch.no_grad():\n",
    "\n",
    "        for _ in range(num_eval_ep):\n",
    "\n",
    "            # zeros place holders\n",
    "            actions = torch.zeros((eval_batch_size, max_test_ep_len, act_dim),\n",
    "                                dtype=torch.float32, device=device)\n",
    "\n",
    "            states = torch.zeros((eval_batch_size, max_test_ep_len, state_dim),\n",
    "                                dtype=torch.float32, device=device)\n",
    "            \n",
    "            rewards_to_go = torch.zeros((eval_batch_size, max_test_ep_len, 1),\n",
    "                                dtype=torch.float32, device=device)\n",
    "            \n",
    "            # init episode\n",
    "            running_state = env.reset()\n",
    "            running_reward = 0\n",
    "            running_rtg = rtg_target / rtg_scale\n",
    "\n",
    "            for t in range(max_test_ep_len):\n",
    "\n",
    "                total_timesteps += 1\n",
    "\n",
    "                # add state in placeholder and normalize\n",
    "                states[0, t] = torch.from_numpy(running_state).to(device)\n",
    "                states[0, t] = (states[0, t] - state_mean) / state_std\n",
    "\n",
    "                # calcualate running rtg and add in placeholder\n",
    "                running_rtg = running_rtg - (running_reward / rtg_scale)\n",
    "                rewards_to_go[0, t] = running_rtg\n",
    "\n",
    "                if t < context_len:\n",
    "                    _, act_preds, _ = model.forward(timesteps[:,:context_len],\n",
    "                                                states[:,:context_len],\n",
    "                                                actions[:,:context_len],\n",
    "                                                rewards_to_go[:,:context_len])\n",
    "                    act = act_preds[0, t].detach()\n",
    "                else:\n",
    "                    _, act_preds, _ = model.forward(timesteps[:,t-context_len+1:t+1],\n",
    "                                                states[:,t-context_len+1:t+1],\n",
    "                                                actions[:,t-context_len+1:t+1],\n",
    "                                                rewards_to_go[:,t-context_len+1:t+1])\n",
    "                    act = act_preds[0, -1].detach()\n",
    "\n",
    "\n",
    "                running_state, running_reward, done, _ = env.step(act.cpu().numpy())\n",
    "\n",
    "                # add action in placeholder\n",
    "                actions[0, t] = act\n",
    "\n",
    "                total_reward += running_reward\n",
    "\n",
    "                if render:\n",
    "                    env.render()\n",
    "                if done:\n",
    "                    break\n",
    "\n",
    "    results['eval/avg_reward'] = total_reward / num_eval_ep\n",
    "    results['eval/avg_ep_len'] = total_timesteps / num_eval_ep\n",
    "    \n",
    "    return results\n",
    "\n",
    "\n"
   ]
  },
  {
   "cell_type": "code",
   "execution_count": 4,
   "metadata": {},
   "outputs": [],
   "source": [
    "from datasets import load_dataset\n",
    "from torch.utils.data import Dataset, DataLoader\n",
    "# define a custom dataset class which loads the data and modifies the reward to be the discounted cumulative sum\n",
    "class CustomDataset(Dataset):\n",
    "    def __init__(self, file_name, gamma):\n",
    "        self.gamma = gamma\n",
    "\n",
    "        # load the data\n",
    "        data = load_dataset(\"json\", data_files = file_name, field = 'data').with_format('torch')\n",
    "        self.data = data['train']\n",
    "        # calculate the mean and std of the state\n",
    "        stateshape = data['train']['state'].shape\n",
    "        allstates = data['train']['state'].reshape([stateshape[0]*stateshape[1], stateshape[2]])\n",
    "        self.state_std, self.state_mean = torch.std_mean(allstates, dim = 0)\n",
    "        \n",
    "\n",
    "    def __len__(self):\n",
    "        return len(self.data)\n",
    "\n",
    "    def __getitem__(self, idx):\n",
    "        data = self.data[idx]\n",
    "        # calculate the discounted cumulative sum\n",
    "        discount_reward = discount_cumsum(data['reward'], self.gamma)\n",
    "        #\n",
    "        # get the state, action, reward and next state\n",
    "        return (data['state']-self.state_mean)/self.state_std, data['action'], torch.from_numpy(discount_reward), data['timestep']\n"
   ]
  },
  {
   "cell_type": "code",
   "execution_count": 5,
   "metadata": {},
   "outputs": [
    {
     "name": "stderr",
     "output_type": "stream",
     "text": [
      "Using custom data configuration default-d6108ac762ae0e39\n",
      "Found cached dataset json (/home/victoru/.cache/huggingface/datasets/json/default-d6108ac762ae0e39/0.0.0/e6070c77f18f01a5ad4551a8b7edfba20b8438b7cad4d94e6ad9378022ce4aab)\n",
      "100%|██████████| 1/1 [00:00<00:00, 568.56it/s]\n"
     ]
    }
   ],
   "source": [
    "# load huggingface dataset from json file\n",
    "filename = 'AAPL_2190_2016-01-01_1d_random_replaybuffer.json'\n",
    "\n",
    "dataset = CustomDataset(filename, gamma = 0.99)"
   ]
  },
  {
   "cell_type": "code",
   "execution_count": 6,
   "metadata": {},
   "outputs": [],
   "source": [
    "\n",
    "# define training parameters\n",
    "batch_size = 2\n",
    "lr = 1e-4\n",
    "wt_decay = 1e-4\n",
    "warmup_steps = 10000\n",
    "n_epochs = 2"
   ]
  },
  {
   "cell_type": "code",
   "execution_count": 7,
   "metadata": {},
   "outputs": [],
   "source": [
    "# create dataloader from dataset\n",
    "dataloader = DataLoader(dataset, batch_size=batch_size, shuffle=True)"
   ]
  },
  {
   "cell_type": "code",
   "execution_count": 8,
   "metadata": {},
   "outputs": [],
   "source": [
    "# define model parameters\n",
    "# sample 1 batch from dataloader\n",
    "norm_state, actions, rtg, timestep = next(iter(dataloader))\n",
    "# use batch shape to determine state dimension\n",
    "state_dim = norm_state.shape[-1]\n",
    "act_dim = actions.shape[-1] # discrete action space\n",
    "# use batch shape to determine context length\n",
    "context_len = timestep.shape[-1] # K in decision transformer\n",
    "\n",
    "n_blocks = 3 # number of transformer blocks\n",
    "h_dim = 96 # hidden dimension\n",
    "n_heads = 3 # number of heads in multi-head attention\n",
    "drop_p = 0.1 # dropout probability\n",
    "\n",
    "#"
   ]
  },
  {
   "cell_type": "code",
   "execution_count": 9,
   "metadata": {},
   "outputs": [],
   "source": [
    "# create the model\n",
    "model = DecisionTransformer(state_dim, act_dim, n_blocks, h_dim, context_len, n_heads, drop_p).to(device)\n",
    "\n",
    "# create optimizer\n",
    "optimizer = torch.optim.AdamW(model.parameters(), lr=lr, weight_decay=wt_decay)\n",
    "\n",
    "# create scheduler\n",
    "scheduler = torch.optim.lr_scheduler.LambdaLR(optimizer, lambda step: min(1.0, (step + 1) / warmup_steps))\n",
    "\n",
    "# create a GradScaler for mixed precision training\n",
    "scaler = torch.cuda.amp.GradScaler()\n",
    "\n",
    "# create a grad"
   ]
  },
  {
   "cell_type": "code",
   "execution_count": 12,
   "metadata": {},
   "outputs": [
    {
     "name": "stdout",
     "output_type": "stream",
     "text": [
      "torch.Size([2, 1509, 14])\n",
      "torch.Size([2, 1509, 1])\n",
      "torch.Size([2, 1509])\n",
      "torch.Size([2, 1509, 2])\n",
      "torch.Size([2, 1509, 2])\n",
      "torch.Size([2, 1509, 2])\n",
      "torch.Size([3018, 2])\n",
      "torch.Size([3018, 2])\n"
     ]
    }
   ],
   "source": [
    "# test run the model\n",
    "with torch.no_grad():\n",
    "    norm_state, actions, rtg, timestep = next(iter(dataloader))\n",
    "    norm_state = norm_state.to(device)\n",
    "    actions = actions.to(device)\n",
    "    rtg = rtg.to(device)\n",
    "    timestep = timestep.to(device)\n",
    "    action_targets = torch.clone(actions).detach().to(device)\n",
    "    return_preds, state_preds, act_preds = model.forward(norm_state, rtg, timestep, actions)\n",
    "\n",
    "    # check shape of norm_state\n",
    "    print(norm_state.shape)\n",
    "    # check shape of rtg\n",
    "    print(rtg.shape)\n",
    "    # check shape of timestep\n",
    "    print(timestep.shape)\n",
    "    # check shape of actions\n",
    "    print(actions.shape)\n",
    "    print(act_preds.shape)\n",
    "    print(action_targets.shape)\n",
    "    \n",
    "    # calculate losses just for actions\n",
    "    act_preds = act_preds.view(-1, act_dim)\n",
    "    action_targets = action_targets.view(-1, act_dim)\n",
    "\n",
    "    # check shape of action targets\n",
    "    print(action_targets.shape)\n",
    "    # check shape of action predictions\n",
    "    print(act_preds.shape)\n",
    "\n",
    "# TODO: check for nan values and inf values in the input and the output"
   ]
  },
  {
   "cell_type": "code",
   "execution_count": 14,
   "metadata": {},
   "outputs": [
    {
     "name": "stdout",
     "output_type": "stream",
     "text": [
      "tensor([[-0.6934, -0.1297],\n",
      "        [-0.1443,  0.4099],\n",
      "        [ 0.8372,  0.1880],\n",
      "        ...,\n",
      "        [-0.2587, -0.3713],\n",
      "        [ 0.0776, -0.2321],\n",
      "        [-0.2730, -0.6220]], device='cuda:0')\n",
      "tensor([[2.6152, 0.1912],\n",
      "        [0.3809, 0.6733],\n",
      "        [1.6328, 0.9775],\n",
      "        ...,\n",
      "        [2.6875, 0.0536],\n",
      "        [0.3257, 0.4534],\n",
      "        [2.7578, 0.3606]], device='cuda:0')\n",
      "tensor([[[-0.9650, -0.9705, -0.9736,  ..., -1.6203, -1.8992, -1.4272],\n",
      "         [-0.9918, -0.9805, -0.9910,  ..., -1.6203, -1.8992, -1.4272],\n",
      "         [-0.9727, -0.9776, -0.9885,  ..., -0.9699, -1.8992, -1.4272],\n",
      "         ...,\n",
      "         [ 2.6713,  2.6457,  2.7065,  ...,  2.5397,  2.0674,  2.7666],\n",
      "         [ 2.7016,  2.7317,  2.7509,  ...,  2.5397,  2.0674,  2.7666],\n",
      "         [ 2.7765,  2.7536,  2.7870,  ...,  2.5397,  2.0674,  2.7666]],\n",
      "\n",
      "        [[-0.9650, -0.9705, -0.9736,  ..., -1.6203, -1.8992, -1.4272],\n",
      "         [-0.9918, -0.9805, -0.9910,  ..., -0.9705, -1.8992, -1.4272],\n",
      "         [-0.9727, -0.9776, -0.9885,  ..., -0.9704, -1.8992, -1.4272],\n",
      "         ...,\n",
      "         [ 2.6713,  2.6457,  2.7065,  ...,  2.6579,  0.9802,  1.4548],\n",
      "         [ 2.7016,  2.7317,  2.7509,  ...,  2.6579,  0.9802,  1.4548],\n",
      "         [ 2.7765,  2.7536,  2.7870,  ...,  2.6592,  0.9802,  1.4548]]],\n",
      "       device='cuda:0')\n"
     ]
    }
   ],
   "source": [
    "print(act_preds)\n",
    "print(action_targets)\n",
    "print(norm_state)"
   ]
  },
  {
   "cell_type": "code",
   "execution_count": 11,
   "metadata": {},
   "outputs": [
    {
     "name": "stderr",
     "output_type": "stream",
     "text": [
      "  0%|          | 1/500 [00:01<13:18,  1.60s/it]"
     ]
    },
    {
     "name": "stdout",
     "output_type": "stream",
     "text": [
      "loss:  nan\n"
     ]
    },
    {
     "name": "stderr",
     "output_type": "stream",
     "text": [
      "  0%|          | 2/500 [00:03<13:18,  1.60s/it]"
     ]
    },
    {
     "name": "stdout",
     "output_type": "stream",
     "text": [
      "loss:  nan\n"
     ]
    },
    {
     "name": "stderr",
     "output_type": "stream",
     "text": [
      "  1%|          | 3/500 [00:04<13:15,  1.60s/it]"
     ]
    },
    {
     "name": "stdout",
     "output_type": "stream",
     "text": [
      "loss:  nan\n"
     ]
    },
    {
     "name": "stderr",
     "output_type": "stream",
     "text": [
      "  1%|          | 4/500 [00:06<13:09,  1.59s/it]"
     ]
    },
    {
     "name": "stdout",
     "output_type": "stream",
     "text": [
      "loss:  nan\n"
     ]
    },
    {
     "name": "stderr",
     "output_type": "stream",
     "text": [
      "  1%|          | 5/500 [00:07<13:07,  1.59s/it]"
     ]
    },
    {
     "name": "stdout",
     "output_type": "stream",
     "text": [
      "loss:  nan\n"
     ]
    },
    {
     "name": "stderr",
     "output_type": "stream",
     "text": [
      "  1%|          | 6/500 [00:09<13:06,  1.59s/it]"
     ]
    },
    {
     "name": "stdout",
     "output_type": "stream",
     "text": [
      "loss:  nan\n"
     ]
    },
    {
     "name": "stderr",
     "output_type": "stream",
     "text": [
      "  1%|▏         | 7/500 [00:11<13:05,  1.59s/it]"
     ]
    },
    {
     "name": "stdout",
     "output_type": "stream",
     "text": [
      "loss:  nan\n"
     ]
    },
    {
     "name": "stderr",
     "output_type": "stream",
     "text": [
      "  2%|▏         | 8/500 [00:12<13:04,  1.60s/it]"
     ]
    },
    {
     "name": "stdout",
     "output_type": "stream",
     "text": [
      "loss:  nan\n"
     ]
    },
    {
     "name": "stderr",
     "output_type": "stream",
     "text": [
      "  2%|▏         | 9/500 [00:14<12:57,  1.58s/it]"
     ]
    },
    {
     "name": "stdout",
     "output_type": "stream",
     "text": [
      "loss:  nan\n"
     ]
    },
    {
     "name": "stderr",
     "output_type": "stream",
     "text": [
      "  2%|▏         | 10/500 [00:15<12:57,  1.59s/it]"
     ]
    },
    {
     "name": "stdout",
     "output_type": "stream",
     "text": [
      "loss:  nan\n"
     ]
    },
    {
     "name": "stderr",
     "output_type": "stream",
     "text": [
      "  2%|▏         | 11/500 [00:17<12:58,  1.59s/it]"
     ]
    },
    {
     "name": "stdout",
     "output_type": "stream",
     "text": [
      "loss:  nan\n"
     ]
    },
    {
     "name": "stderr",
     "output_type": "stream",
     "text": [
      "  2%|▏         | 12/500 [00:19<12:57,  1.59s/it]"
     ]
    },
    {
     "name": "stdout",
     "output_type": "stream",
     "text": [
      "loss:  nan\n"
     ]
    },
    {
     "name": "stderr",
     "output_type": "stream",
     "text": [
      "  3%|▎         | 13/500 [00:20<12:58,  1.60s/it]"
     ]
    },
    {
     "name": "stdout",
     "output_type": "stream",
     "text": [
      "loss:  nan\n"
     ]
    },
    {
     "name": "stderr",
     "output_type": "stream",
     "text": [
      "  3%|▎         | 14/500 [00:22<12:57,  1.60s/it]"
     ]
    },
    {
     "name": "stdout",
     "output_type": "stream",
     "text": [
      "loss:  nan\n"
     ]
    },
    {
     "name": "stderr",
     "output_type": "stream",
     "text": [
      "  3%|▎         | 15/500 [00:23<12:55,  1.60s/it]"
     ]
    },
    {
     "name": "stdout",
     "output_type": "stream",
     "text": [
      "loss:  nan\n"
     ]
    },
    {
     "name": "stderr",
     "output_type": "stream",
     "text": [
      "  3%|▎         | 16/500 [00:25<12:48,  1.59s/it]"
     ]
    },
    {
     "name": "stdout",
     "output_type": "stream",
     "text": [
      "loss:  nan\n"
     ]
    },
    {
     "name": "stderr",
     "output_type": "stream",
     "text": [
      "  3%|▎         | 17/500 [00:27<12:44,  1.58s/it]"
     ]
    },
    {
     "name": "stdout",
     "output_type": "stream",
     "text": [
      "loss:  nan\n"
     ]
    },
    {
     "name": "stderr",
     "output_type": "stream",
     "text": [
      "  4%|▎         | 18/500 [00:28<12:42,  1.58s/it]"
     ]
    },
    {
     "name": "stdout",
     "output_type": "stream",
     "text": [
      "loss:  nan\n"
     ]
    },
    {
     "name": "stderr",
     "output_type": "stream",
     "text": [
      "  4%|▍         | 19/500 [00:30<12:39,  1.58s/it]"
     ]
    },
    {
     "name": "stdout",
     "output_type": "stream",
     "text": [
      "loss:  nan\n"
     ]
    },
    {
     "name": "stderr",
     "output_type": "stream",
     "text": [
      "  4%|▍         | 20/500 [00:31<12:39,  1.58s/it]"
     ]
    },
    {
     "name": "stdout",
     "output_type": "stream",
     "text": [
      "loss:  nan\n"
     ]
    },
    {
     "name": "stderr",
     "output_type": "stream",
     "text": [
      "  4%|▍         | 21/500 [00:33<12:39,  1.59s/it]"
     ]
    },
    {
     "name": "stdout",
     "output_type": "stream",
     "text": [
      "loss:  nan\n"
     ]
    },
    {
     "name": "stderr",
     "output_type": "stream",
     "text": [
      "  4%|▍         | 22/500 [00:34<12:39,  1.59s/it]"
     ]
    },
    {
     "name": "stdout",
     "output_type": "stream",
     "text": [
      "loss:  nan\n"
     ]
    },
    {
     "name": "stderr",
     "output_type": "stream",
     "text": [
      "  5%|▍         | 23/500 [00:36<12:37,  1.59s/it]"
     ]
    },
    {
     "name": "stdout",
     "output_type": "stream",
     "text": [
      "loss:  nan\n"
     ]
    },
    {
     "name": "stderr",
     "output_type": "stream",
     "text": [
      "  5%|▍         | 24/500 [00:38<12:40,  1.60s/it]"
     ]
    },
    {
     "name": "stdout",
     "output_type": "stream",
     "text": [
      "loss:  nan\n"
     ]
    },
    {
     "name": "stderr",
     "output_type": "stream",
     "text": [
      "  5%|▌         | 25/500 [00:39<12:39,  1.60s/it]"
     ]
    },
    {
     "name": "stdout",
     "output_type": "stream",
     "text": [
      "loss:  nan\n"
     ]
    },
    {
     "name": "stderr",
     "output_type": "stream",
     "text": [
      "  5%|▌         | 26/500 [00:41<12:38,  1.60s/it]"
     ]
    },
    {
     "name": "stdout",
     "output_type": "stream",
     "text": [
      "loss:  nan\n"
     ]
    },
    {
     "name": "stderr",
     "output_type": "stream",
     "text": [
      "  5%|▌         | 27/500 [00:43<12:39,  1.61s/it]"
     ]
    },
    {
     "name": "stdout",
     "output_type": "stream",
     "text": [
      "loss:  nan\n"
     ]
    },
    {
     "name": "stderr",
     "output_type": "stream",
     "text": [
      "  6%|▌         | 28/500 [00:44<12:35,  1.60s/it]"
     ]
    },
    {
     "name": "stdout",
     "output_type": "stream",
     "text": [
      "loss:  nan\n"
     ]
    },
    {
     "name": "stderr",
     "output_type": "stream",
     "text": [
      "  6%|▌         | 29/500 [00:46<12:43,  1.62s/it]"
     ]
    },
    {
     "name": "stdout",
     "output_type": "stream",
     "text": [
      "loss:  nan\n"
     ]
    },
    {
     "name": "stderr",
     "output_type": "stream",
     "text": [
      "  6%|▌         | 30/500 [00:47<12:37,  1.61s/it]"
     ]
    },
    {
     "name": "stdout",
     "output_type": "stream",
     "text": [
      "loss:  nan\n"
     ]
    },
    {
     "name": "stderr",
     "output_type": "stream",
     "text": [
      "  6%|▌         | 31/500 [00:49<12:32,  1.61s/it]"
     ]
    },
    {
     "name": "stdout",
     "output_type": "stream",
     "text": [
      "loss:  nan\n"
     ]
    },
    {
     "name": "stderr",
     "output_type": "stream",
     "text": [
      "  6%|▋         | 32/500 [00:51<12:32,  1.61s/it]"
     ]
    },
    {
     "name": "stdout",
     "output_type": "stream",
     "text": [
      "loss:  nan\n"
     ]
    },
    {
     "name": "stderr",
     "output_type": "stream",
     "text": [
      "  6%|▋         | 32/500 [00:52<12:50,  1.65s/it]\n"
     ]
    },
    {
     "ename": "KeyboardInterrupt",
     "evalue": "",
     "output_type": "error",
     "traceback": [
      "\u001b[0;31m---------------------------------------------------------------------------\u001b[0m",
      "\u001b[0;31mKeyboardInterrupt\u001b[0m                         Traceback (most recent call last)",
      "\u001b[1;32m/media/victoru/B612CEC512CE8A37/ai50/pytorch_test/reinforcementlearning/Decision_transformer.ipynb Cell 11\u001b[0m in \u001b[0;36m<cell line: 8>\u001b[0;34m()\u001b[0m\n\u001b[1;32m     <a href='vscode-notebook-cell:/media/victoru/B612CEC512CE8A37/ai50/pytorch_test/reinforcementlearning/Decision_transformer.ipynb#X13sZmlsZQ%3D%3D?line=35'>36</a>\u001b[0m torch\u001b[39m.\u001b[39mnn\u001b[39m.\u001b[39mutils\u001b[39m.\u001b[39mclip_grad_norm_(model\u001b[39m.\u001b[39mparameters(), \u001b[39m0.25\u001b[39m)\n\u001b[1;32m     <a href='vscode-notebook-cell:/media/victoru/B612CEC512CE8A37/ai50/pytorch_test/reinforcementlearning/Decision_transformer.ipynb#X13sZmlsZQ%3D%3D?line=37'>38</a>\u001b[0m \u001b[39m# scaler.step() first unscales the gradients of the optimizer's assigned params.\u001b[39;00m\n\u001b[1;32m     <a href='vscode-notebook-cell:/media/victoru/B612CEC512CE8A37/ai50/pytorch_test/reinforcementlearning/Decision_transformer.ipynb#X13sZmlsZQ%3D%3D?line=38'>39</a>\u001b[0m \u001b[39m# If these gradients do not contain infs or NaNs, optimizer.step() is then called,\u001b[39;00m\n\u001b[1;32m     <a href='vscode-notebook-cell:/media/victoru/B612CEC512CE8A37/ai50/pytorch_test/reinforcementlearning/Decision_transformer.ipynb#X13sZmlsZQ%3D%3D?line=39'>40</a>\u001b[0m \u001b[39m# otherwise, optimizer.step() is skipped.\u001b[39;00m\n\u001b[0;32m---> <a href='vscode-notebook-cell:/media/victoru/B612CEC512CE8A37/ai50/pytorch_test/reinforcementlearning/Decision_transformer.ipynb#X13sZmlsZQ%3D%3D?line=40'>41</a>\u001b[0m scaler\u001b[39m.\u001b[39;49mstep(optimizer)\n\u001b[1;32m     <a href='vscode-notebook-cell:/media/victoru/B612CEC512CE8A37/ai50/pytorch_test/reinforcementlearning/Decision_transformer.ipynb#X13sZmlsZQ%3D%3D?line=42'>43</a>\u001b[0m \u001b[39m# Updates the learning rate according to the scheduler\u001b[39;00m\n\u001b[1;32m     <a href='vscode-notebook-cell:/media/victoru/B612CEC512CE8A37/ai50/pytorch_test/reinforcementlearning/Decision_transformer.ipynb#X13sZmlsZQ%3D%3D?line=43'>44</a>\u001b[0m scheduler\u001b[39m.\u001b[39mstep()\n",
      "File \u001b[0;32m~/anaconda3/envs/testpython/lib/python3.10/site-packages/torch/cuda/amp/grad_scaler.py:338\u001b[0m, in \u001b[0;36mGradScaler.step\u001b[0;34m(self, optimizer, *args, **kwargs)\u001b[0m\n\u001b[1;32m    334\u001b[0m     \u001b[39mself\u001b[39m\u001b[39m.\u001b[39munscale_(optimizer)\n\u001b[1;32m    336\u001b[0m \u001b[39massert\u001b[39;00m \u001b[39mlen\u001b[39m(optimizer_state[\u001b[39m\"\u001b[39m\u001b[39mfound_inf_per_device\u001b[39m\u001b[39m\"\u001b[39m]) \u001b[39m>\u001b[39m \u001b[39m0\u001b[39m, \u001b[39m\"\u001b[39m\u001b[39mNo inf checks were recorded for this optimizer.\u001b[39m\u001b[39m\"\u001b[39m\n\u001b[0;32m--> 338\u001b[0m retval \u001b[39m=\u001b[39m \u001b[39mself\u001b[39;49m\u001b[39m.\u001b[39;49m_maybe_opt_step(optimizer, optimizer_state, \u001b[39m*\u001b[39;49margs, \u001b[39m*\u001b[39;49m\u001b[39m*\u001b[39;49mkwargs)\n\u001b[1;32m    340\u001b[0m optimizer_state[\u001b[39m\"\u001b[39m\u001b[39mstage\u001b[39m\u001b[39m\"\u001b[39m] \u001b[39m=\u001b[39m OptState\u001b[39m.\u001b[39mSTEPPED\n\u001b[1;32m    342\u001b[0m \u001b[39mreturn\u001b[39;00m retval\n",
      "File \u001b[0;32m~/anaconda3/envs/testpython/lib/python3.10/site-packages/torch/cuda/amp/grad_scaler.py:284\u001b[0m, in \u001b[0;36mGradScaler._maybe_opt_step\u001b[0;34m(self, optimizer, optimizer_state, *args, **kwargs)\u001b[0m\n\u001b[1;32m    282\u001b[0m \u001b[39mdef\u001b[39;00m \u001b[39m_maybe_opt_step\u001b[39m(\u001b[39mself\u001b[39m, optimizer, optimizer_state, \u001b[39m*\u001b[39margs, \u001b[39m*\u001b[39m\u001b[39m*\u001b[39mkwargs):\n\u001b[1;32m    283\u001b[0m     retval \u001b[39m=\u001b[39m \u001b[39mNone\u001b[39;00m\n\u001b[0;32m--> 284\u001b[0m     \u001b[39mif\u001b[39;00m \u001b[39mnot\u001b[39;00m \u001b[39msum\u001b[39;49m(v\u001b[39m.\u001b[39;49mitem() \u001b[39mfor\u001b[39;49;00m v \u001b[39min\u001b[39;49;00m optimizer_state[\u001b[39m\"\u001b[39;49m\u001b[39mfound_inf_per_device\u001b[39;49m\u001b[39m\"\u001b[39;49m]\u001b[39m.\u001b[39;49mvalues()):\n\u001b[1;32m    285\u001b[0m         retval \u001b[39m=\u001b[39m optimizer\u001b[39m.\u001b[39mstep(\u001b[39m*\u001b[39margs, \u001b[39m*\u001b[39m\u001b[39m*\u001b[39mkwargs)\n\u001b[1;32m    286\u001b[0m     \u001b[39mreturn\u001b[39;00m retval\n",
      "File \u001b[0;32m~/anaconda3/envs/testpython/lib/python3.10/site-packages/torch/cuda/amp/grad_scaler.py:284\u001b[0m, in \u001b[0;36m<genexpr>\u001b[0;34m(.0)\u001b[0m\n\u001b[1;32m    282\u001b[0m \u001b[39mdef\u001b[39;00m \u001b[39m_maybe_opt_step\u001b[39m(\u001b[39mself\u001b[39m, optimizer, optimizer_state, \u001b[39m*\u001b[39margs, \u001b[39m*\u001b[39m\u001b[39m*\u001b[39mkwargs):\n\u001b[1;32m    283\u001b[0m     retval \u001b[39m=\u001b[39m \u001b[39mNone\u001b[39;00m\n\u001b[0;32m--> 284\u001b[0m     \u001b[39mif\u001b[39;00m \u001b[39mnot\u001b[39;00m \u001b[39msum\u001b[39m(v\u001b[39m.\u001b[39;49mitem() \u001b[39mfor\u001b[39;00m v \u001b[39min\u001b[39;00m optimizer_state[\u001b[39m\"\u001b[39m\u001b[39mfound_inf_per_device\u001b[39m\u001b[39m\"\u001b[39m]\u001b[39m.\u001b[39mvalues()):\n\u001b[1;32m    285\u001b[0m         retval \u001b[39m=\u001b[39m optimizer\u001b[39m.\u001b[39mstep(\u001b[39m*\u001b[39margs, \u001b[39m*\u001b[39m\u001b[39m*\u001b[39mkwargs)\n\u001b[1;32m    286\u001b[0m     \u001b[39mreturn\u001b[39;00m retval\n",
      "\u001b[0;31mKeyboardInterrupt\u001b[0m: "
     ]
    }
   ],
   "source": [
    "# create training loop\n",
    "from tqdm import tqdm\n",
    "\n",
    "# get the start time to calculate training time\n",
    "import time\n",
    "start_time = time.time()\n",
    "\n",
    "for i in range(n_epochs):\n",
    "    model.train()\n",
    "    for norm_state, actions, rtg, timestep in tqdm(dataloader):\n",
    "        # get batch data to device\n",
    "        norm_state = norm_state.to(device)\n",
    "        actions = actions.to(device)\n",
    "        rtg = rtg.to(device)\n",
    "        timestep = timestep.to(device)\n",
    "\n",
    "        action_targets = torch.clone(actions).detach().to(device)\n",
    "\n",
    "        # Zeroes out the gradients\n",
    "        optimizer.zero_grad()\n",
    "\n",
    "        # run forward pass with autocasting\n",
    "        with torch.cuda.amp.autocast():\n",
    "            return_preds, state_preds, act_preds = model.forward(norm_state, rtg, timestep, actions)\n",
    "\n",
    "            # calculate losses just for actions\n",
    "            act_preds = act_preds.view(-1, act_dim)\n",
    "            action_targets = action_targets.view(-1, act_dim)\n",
    "\n",
    "            loss = F.mse_loss(act_preds, action_targets, reduction='mean')\n",
    "\n",
    "        # Scales loss.  Calls backward() on scaled loss to create scaled gradients.\n",
    "        scaler.scale(loss).backward()\n",
    "\n",
    "        # Clips the gradients by norm\n",
    "        torch.nn.utils.clip_grad_norm_(model.parameters(), 0.25)\n",
    "\n",
    "        # scaler.step() first unscales the gradients of the optimizer's assigned params.\n",
    "        # If these gradients do not contain infs or NaNs, optimizer.step() is then called,\n",
    "        # otherwise, optimizer.step() is skipped.\n",
    "        scaler.step(optimizer)\n",
    "\n",
    "        # Updates the learning rate according to the scheduler\n",
    "        scheduler.step()\n",
    "        # Updates the scale for next iteration.\n",
    "        scaler.update()\n",
    "        \n",
    "        # print loss\n",
    "        if i % 10 == 0:\n",
    "            print('loss: ', loss.item())\n",
    "\n",
    "# record training time\n",
    "trainingtime = time.time() - start_time\n",
    "print('Training time: ', trainingtime)\n",
    "\n",
    "# create environment to evaluate the model\n"
   ]
  },
  {
   "cell_type": "code",
   "execution_count": null,
   "metadata": {},
   "outputs": [],
   "source": [
    "# "
   ]
  },
  {
   "cell_type": "code",
   "execution_count": 7,
   "metadata": {},
   "outputs": [],
   "source": [
    "# test act_embedding\n",
    "embed_act = nn.Embedding(act_dim+1, h_dim)\n",
    "embed_timestep = nn.Embedding(4096, h_dim)\n",
    "embed_rtg = nn.Linear(1, h_dim)\n",
    "embed_state = nn.Linear(state_dim, h_dim)"
   ]
  },
  {
   "cell_type": "code",
   "execution_count": 50,
   "metadata": {},
   "outputs": [
    {
     "name": "stdout",
     "output_type": "stream",
     "text": [
      "1\n"
     ]
    }
   ],
   "source": [
    "print(act_dim)"
   ]
  },
  {
   "cell_type": "code",
   "execution_count": 8,
   "metadata": {},
   "outputs": [],
   "source": [
    "batch = next(iter(dataloader))\n",
    "actions = batch['action']\n",
    "timesteps = batch['timestep']\n",
    "reward = batch['reward']\n",
    "states = batch['state']"
   ]
  },
  {
   "cell_type": "code",
   "execution_count": 21,
   "metadata": {},
   "outputs": [
    {
     "name": "stdout",
     "output_type": "stream",
     "text": [
      "torch.Size([4, 28, 1])\n",
      "torch.Size([4, 28, 1])\n",
      "torch.Size([4, 28])\n",
      "torch.Size([4, 28, 5])\n",
      "torch.Size([1, 128])\n",
      "torch.Size([128, 1])\n",
      "torch.Size([4096, 128])\n",
      "torch.Size([128, 5])\n"
     ]
    }
   ],
   "source": [
    "print(actions.shape)\n",
    "print(reward.shape)\n",
    "print(timesteps.shape)\n",
    "print(states.shape)\n",
    "print(embed_act.weight.shape)\n",
    "print(embed_rtg.weight.shape)\n",
    "print(embed_timestep.weight.shape)\n",
    "print(embed_state.weight.shape)"
   ]
  },
  {
   "cell_type": "code",
   "execution_count": 10,
   "metadata": {},
   "outputs": [
    {
     "name": "stdout",
     "output_type": "stream",
     "text": [
      "torch.Size([4, 28, 128])\n"
     ]
    }
   ],
   "source": [
    "time_emb = embed_timestep(timesteps)\n",
    "print(time_emb.shape)\n"
   ]
  },
  {
   "cell_type": "code",
   "execution_count": 9,
   "metadata": {},
   "outputs": [
    {
     "name": "stdout",
     "output_type": "stream",
     "text": [
      "True\n"
     ]
    }
   ],
   "source": [
    "statesize = embed_state(states).shape\n",
    "timesize = embed_timestep(timesteps).shape\n",
    "\n",
    "# compare the size of the embedding\n",
    "print(statesize == timesize)"
   ]
  },
  {
   "cell_type": "code",
   "execution_count": 11,
   "metadata": {},
   "outputs": [],
   "source": [
    "states_emb = embed_state(states) + time_emb"
   ]
  },
  {
   "cell_type": "code",
   "execution_count": 57,
   "metadata": {},
   "outputs": [],
   "source": [
    "reward_emb = embed_rtg(reward)"
   ]
  },
  {
   "cell_type": "code",
   "execution_count": 29,
   "metadata": {},
   "outputs": [],
   "source": [
    "act_emb = torch.squeeze(embed_act(actions))\n",
    "act_emb = act_emb + time_emb\n"
   ]
  }
 ],
 "metadata": {
  "kernelspec": {
   "display_name": "Python 3.10.4 ('testpython')",
   "language": "python",
   "name": "python3"
  },
  "language_info": {
   "codemirror_mode": {
    "name": "ipython",
    "version": 3
   },
   "file_extension": ".py",
   "mimetype": "text/x-python",
   "name": "python",
   "nbconvert_exporter": "python",
   "pygments_lexer": "ipython3",
   "version": "3.10.9"
  },
  "orig_nbformat": 4,
  "vscode": {
   "interpreter": {
    "hash": "648d1dcbd6682217e1a7c0b1a7c0c54c0b39a029f0fde86a6625ffa444d0c385"
   }
  }
 },
 "nbformat": 4,
 "nbformat_minor": 2
}
