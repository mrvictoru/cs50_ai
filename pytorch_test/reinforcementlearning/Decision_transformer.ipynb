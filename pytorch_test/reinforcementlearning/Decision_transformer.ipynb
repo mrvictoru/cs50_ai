{
 "cells": [
  {
   "cell_type": "code",
   "execution_count": 3,
   "metadata": {},
   "outputs": [],
   "source": [
    "# this notebook will use a basic GPT based decision transformer in offline reinforcement learning setting to create bot for trading stock"
   ]
  },
  {
   "cell_type": "code",
   "execution_count": null,
   "metadata": {},
   "outputs": [],
   "source": [
    "# import libraries\n",
    "import math\n",
    "import torch\n",
    "import torch.nn as nn\n",
    "import torch.nn.functional as F\n",
    "\n",
    "# based on https://github.com/nikhilbarhate99/min-decision-transformer/blob/master/decision_transformer/model.py\n",
    "\n",
    "# define the masked causal attention\n",
    "class MaskedAttention(nn.Module):\n",
    "    def __init__(self, h_dim, max_T, n_heads, drop_p):\n",
    "        super().__init__()\n",
    "        self.n_heads = n_heads\n",
    "        self.drop_p = drop_p\n",
    "        # feed forward networks which create the query, key and value\n",
    "        self.Q_net = nn.Linear(h_dim, h_dim)\n",
    "        self.K_net = nn.Linear(h_dim, h_dim)\n",
    "        self.V_net = nn.Linear(h_dim, h_dim)\n",
    "\n",
    "        # feed forward network which projects the attention to the correct dimension\n",
    "        self.proj_net = nn.Linear(h_dim, h_dim)\n",
    "\n",
    "        # dropout layers\n",
    "        self.att_drop = nn.Dropout(drop_p)\n",
    "        self.proj_drop = nn.Dropout(drop_p)\n",
    "\n",
    "        # create the mask\n",
    "        mask = torch.tril(torch.ones(max_T, max_T)).view(1, 1, max_T, max_T)\n",
    "\n",
    "        # register_buffer will make the mask a constant tensor\n",
    "        # so that it will not be included in the model parameters and be updated during backpropagation\n",
    "        self.register_buffer('mask', mask)\n",
    "\n",
    "    def forward(self, x):\n",
    "        # x: [B, T, H]\n",
    "        B, T, C = x.shape # batch size, sequence length, hidden dimension * number of heads\n",
    "        N, D = self.n_heads, C // self.n_heads # number of heads, dimension of each head\n",
    "\n",
    "        # compute the query, key and value\n",
    "        Q = self.Q_net(x).view(B, T, N, D).transpose(1, 2) # [B, N, T, D]\n",
    "        K = self.K_net(x).view(B, T, N, D).transpose(1, 2)\n",
    "        V = self.V_net(x).view(B, T, N, D).transpose(1, 2)\n",
    "\n",
    "        # compute the attention\n",
    "        weights = Q @ K.transpose(2,3) / math.sqrt(D) # QK^T / sqrt(D)\n",
    "        weights = weights.masked_fill(self.mask[:, :, :T, :T] == 0, float('-inf')) # mask the future tokens\n",
    "        normalized_weights = F.softmax(weights, dim=-1) # softmax along the last dimension\n",
    "        A = self.att_drop(normalized_weights) # attention with dropout\n",
    "\n",
    "        # compute the output\n",
    "        # gather heads and project to correct dimension\n",
    "        attention = attention.transpose(1, 2).contiguous().view(B, T, N*D)\n",
    "        out = self.proj_drop(self.proj_net(attention))\n",
    "\n",
    "        return out\n",
    "\n",
    "# define the attention block with layer normalization and residual connection as well as the feed forward network\n",
    "class AttentionBlock(nn.Module):\n",
    "    def __init__(self, h_dim, max_T, n_heads, drop_p):\n",
    "        super().__init__()\n",
    "        self.attention = MaskedAttention(h_dim, max_T, n_heads, drop_p)\n",
    "        self.norm1 = nn.LayerNorm(h_dim)\n",
    "        self.norm2 = nn.LayerNorm(h_dim)\n",
    "        self.ffn = nn.Sequential(\n",
    "            nn.Linear(h_dim, 4*h_dim),\n",
    "            nn.GELU(),\n",
    "            nn.Linear(4*h_dim, h_dim),\n",
    "            nn.Dropout(drop_p)\n",
    "        )\n",
    "\n",
    "    def forward(self, x):\n",
    "        # x: [B, T, H]\n",
    "        # Attention -> LayerNorm -> Residual -> FFN -> LayerNorm -> Residual\n",
    "        out = self.norm1(x + self.attention(x))\n",
    "        out = self.norm2(out + self.ffn(out))\n",
    "\n",
    "        return out\n",
    "\n",
    "# define the decision transformer\n",
    "class DecisionTransformer(nn.Module):\n",
    "    def __init__(self, state_dim, act_dim, n_block, h_dim, context_len, n_heads, drop_p, max_timestep = 4096):\n",
    "        super().__init__()\n",
    "        self.state_dim = state_dim\n",
    "        self.act_dim = act_dim\n",
    "        self.h_dim = h_dim\n",
    "\n",
    "        # transformer blocks\n",
    "        input_seq_len = 3 * context_len\n",
    "        blocks = [AttentionBlock(h_dim, input_seq_len, n_heads, drop_p) for _ in range(n_block)]\n",
    "        self.transformer = nn.Sequential(*blocks)\n",
    "\n",
    "        # projection heads (project to embedding)\n",
    "        self.embed_ln = nn.LayerNorm(h_dim)\n",
    "        self.embed_timestep = nn.Embedding(max_timestep, h_dim)\n",
    "        self.embed_rtg = nn.Linear(1, h_dim)\n",
    "        self.embed_state = nn.Linear(state_dim, h_dim)\n",
    "\n",
    "        # discrete actions\n",
    "        self.embed_act = nn.Embedding(act_dim, h_dim)\n",
    "        use_action_tah = False # for discrete action\n",
    "\n",
    "        # prediction heads\n",
    "        self.pred_rtg = nn.Linear(h_dim, 1)\n",
    "        self.pred_state = nn.Linear(h_dim, state_dim)\n",
    "        self.pred_act = nn.Sequential(*([nn.Linear(h_dim, act_dim)] + ([nn.Tanh()] if use_action_tah else [])))\n",
    "    \n",
    "    def forward(self, state, rtg, timestep, actions):\n",
    "        B, T, _ = state.shape\n",
    "\n",
    "        # timestep embedding\n",
    "        time_emb = self.embed_timestep(timestep)\n",
    "\n",
    "        # embedding for the state, reward and actions along with time embedding\n",
    "        state_emb = self.embed_state(state) + time_emb\n",
    "        rtg_emb = self.embed_rtg(rtg) + time_emb\n",
    "        act_emb = self.embed_act(actions) + time_emb\n",
    "\n",
    "        # stack the embeddings and reshape sequence as (r1, s1, a1, r2, s2, a2, ...)\n",
    "        h = torch.stack([rtg_emb, state_emb, act_emb], dim=1).permute(0,2,1,3).reshape(B, 3*T, self.h_dim)\n",
    "        h = self.embed_ln(h)\n",
    "\n",
    "        # transformer blocks\n",
    "        h = self.transformer(h)\n",
    "\n",
    "        # get h reshaped such that its size is (B, 3, T, h_dim) and\n",
    "        # h[:, 0, t] is conditioned on r_0, s_0, a_0, ..., r_t\n",
    "        # h[:, 1, t] is conditioned on r_0, s_0, a_0, ..., r_t, s_t\n",
    "        # h[:, 2, t] is conditioned on r_0, s_0, a_0, ..., r_t, s_t, a_t\n",
    "        h = h.reshape(B, 3, T, self.h_dim).permute(0,2,1,3)\n",
    "\n",
    "        # get predictions\n",
    "        return_preds = self.pred_rtg(h[:,2])    # predict next rtg given r, s, a\n",
    "        state_preds = self.pred_state(h[:,2])   # predict next state given r, s, a\n",
    "        act_preds = self.pred_act(h[:,2])       # predict action given r, s\n",
    "\n",
    "        return return_preds, state_preds, act_preds"
   ]
  },
  {
   "cell_type": "code",
   "execution_count": 1,
   "metadata": {},
   "outputs": [
    {
     "name": "stderr",
     "output_type": "stream",
     "text": [
      "/home/victoru/anaconda3/envs/testpython/lib/python3.10/site-packages/tqdm/auto.py:22: TqdmWarning: IProgress not found. Please update jupyter and ipywidgets. See https://ipywidgets.readthedocs.io/en/stable/user_install.html\n",
      "  from .autonotebook import tqdm as notebook_tqdm\n",
      "Using custom data configuration default-ba70c097613802b6\n",
      "Found cached dataset json (/home/victoru/.cache/huggingface/datasets/json/default-ba70c097613802b6/0.0.0/e6070c77f18f01a5ad4551a8b7edfba20b8438b7cad4d94e6ad9378022ce4aab)\n",
      "100%|██████████| 1/1 [00:00<00:00, 988.52it/s]\n"
     ]
    }
   ],
   "source": [
    "# load huggingface dataset from json file\n",
    "filename = 'AAPL_replaybuffer.json'\n",
    "\n",
    "from datasets import load_dataset\n",
    "dataset = load_dataset(\"json\", data_files=filename, field='data').with_format('torch')"
   ]
  },
  {
   "cell_type": "code",
   "execution_count": 3,
   "metadata": {},
   "outputs": [
    {
     "data": {
      "text/plain": [
       "tensor([ 0,  1,  2,  3,  4,  5,  6,  7,  8,  9, 10, 11, 12, 13, 14, 15, 16, 17,\n",
       "        18, 19, 20, 21, 22, 23, 24, 25, 26, 27,  0,  1,  2,  3,  4,  5,  6,  7,\n",
       "         8,  9, 10, 11, 12, 13, 14, 15, 16, 17, 18, 19, 20, 21, 22, 23, 24, 25,\n",
       "        26, 27,  0,  1,  2,  3])"
      ]
     },
     "execution_count": 3,
     "metadata": {},
     "output_type": "execute_result"
    }
   ],
   "source": [
    "dataset['train'][0]['timestep'][0:60]"
   ]
  },
  {
   "cell_type": "code",
   "execution_count": 3,
   "metadata": {},
   "outputs": [],
   "source": [
    "# create dataloader from dataset\n",
    "from torch.utils.data import DataLoader\n",
    "dataloader = DataLoader(dataset['train'], batch_size=2)"
   ]
  },
  {
   "cell_type": "code",
   "execution_count": 10,
   "metadata": {},
   "outputs": [
    {
     "name": "stdout",
     "output_type": "stream",
     "text": [
      "tensor([[[ 3.8557e+01,  1.4816e+08,  2.8817e+08,  3.5896e-03,  1.0000e+02],\n",
      "         [ 3.5500e+01,  3.6525e+08, -7.7076e+07, -3.0734e-01,  1.0514e+00],\n",
      "         [ 3.5950e+01,  2.3443e+08,  1.5735e+08, -4.2639e-01,  2.9883e+01],\n",
      "         ...,\n",
      "         [ 1.7707e+02,  7.4920e+07,  5.1828e+09,  5.0512e+00,  6.6890e+01],\n",
      "         [ 1.7853e+02,  7.9144e+07,  5.1037e+09,  5.1029e+00,  6.4950e+01],\n",
      "         [ 1.7814e+02,  6.2349e+07,  5.1660e+09,  5.0925e+00,  6.5045e+01]],\n",
      "\n",
      "        [[ 3.8557e+01,  1.4816e+08,  2.8817e+08,  3.5896e-03,  1.0000e+02],\n",
      "         [ 3.5500e+01,  3.6525e+08, -7.7076e+07, -3.0734e-01,  1.0514e+00],\n",
      "         [ 3.5950e+01,  2.3443e+08,  1.5735e+08, -4.2639e-01,  2.9883e+01],\n",
      "         ...,\n",
      "         [ 1.7707e+02,  7.4920e+07,  5.1828e+09,  5.0512e+00,  6.6890e+01],\n",
      "         [ 1.7853e+02,  7.9144e+07,  5.1037e+09,  5.1029e+00,  6.4950e+01],\n",
      "         [ 1.7814e+02,  6.2349e+07,  5.1660e+09,  5.0925e+00,  6.5045e+01]]])\n"
     ]
    }
   ],
   "source": [
    "for batch in dataloader:\n",
    "    print(batch['state'])\n",
    "    break\n"
   ]
  }
 ],
 "metadata": {
  "kernelspec": {
   "display_name": "Python 3.10.4 ('testpython')",
   "language": "python",
   "name": "python3"
  },
  "language_info": {
   "codemirror_mode": {
    "name": "ipython",
    "version": 3
   },
   "file_extension": ".py",
   "mimetype": "text/x-python",
   "name": "python",
   "nbconvert_exporter": "python",
   "pygments_lexer": "ipython3",
   "version": "3.10.4"
  },
  "orig_nbformat": 4,
  "vscode": {
   "interpreter": {
    "hash": "648d1dcbd6682217e1a7c0b1a7c0c54c0b39a029f0fde86a6625ffa444d0c385"
   }
  }
 },
 "nbformat": 4,
 "nbformat_minor": 2
}
