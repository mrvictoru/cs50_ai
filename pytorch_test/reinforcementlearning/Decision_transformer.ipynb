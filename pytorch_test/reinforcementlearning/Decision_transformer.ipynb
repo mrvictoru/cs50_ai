{
 "cells": [
  {
   "cell_type": "code",
   "execution_count": 2,
   "metadata": {},
   "outputs": [
    {
     "name": "stderr",
     "output_type": "stream",
     "text": [
      "/home/victoru/anaconda3/envs/testpython/lib/python3.10/site-packages/tqdm/auto.py:21: TqdmWarning: IProgress not found. Please update jupyter and ipywidgets. See https://ipywidgets.readthedocs.io/en/stable/user_install.html\n",
      "  from .autonotebook import tqdm as notebook_tqdm\n"
     ]
    }
   ],
   "source": [
    "# this notebook will use a basic GPT based decision transformer in offline reinforcement learning setting to create bot for trading stock\n",
    "# get cuda device\n",
    "# import libraries\n",
    "import math\n",
    "import torch\n",
    "import torch.nn as nn\n",
    "import torch.nn.functional as F\n",
    "\n",
    "from cust_transf import DecisionTransformer\n",
    "\n",
    "device = torch.device('cuda' if torch.cuda.is_available() else 'cpu')"
   ]
  },
  {
   "cell_type": "code",
   "execution_count": 25,
   "metadata": {},
   "outputs": [
    {
     "name": "stderr",
     "output_type": "stream",
     "text": [
      "Found cached dataset json (/home/victoru/.cache/huggingface/datasets/json/default-eddc4e1fd29bf187/0.0.0/e347ab1c932092252e717ff3f949105a4dd28b27e842dd53157d2f72e276c2e4)\n",
      "100%|██████████| 1/1 [00:00<00:00, 1079.34it/s]\n"
     ]
    }
   ],
   "source": [
    "# test loading huggingface dataset from json file\n",
    "from datasets.load import load_dataset\n",
    "from datasets import Dataset\n",
    "\n",
    "# load huggingface dataset from json file in replaybuffer folder\n",
    "foldername = 'replaybuffer'\n",
    "\n",
    "# get filenames in folder\n",
    "import os\n",
    "filenames = os.listdir(foldername)\n",
    "\n",
    "# get full path of files\n",
    "full_filenames = [os.path.join(foldername, filename) for filename in filenames]\n",
    "\n",
    "data = load_dataset(\"json\", data_files = full_filenames[0], field = 'data')\n"
   ]
  },
  {
   "cell_type": "code",
   "execution_count": 31,
   "metadata": {},
   "outputs": [],
   "source": [
    "from datasets.load import load_dataset\n",
    "from torch.utils.data import Dataset, DataLoader\n",
    "import numpy as np\n",
    "import pandas as pd\n",
    "\n",
    "# utility function to compute the discounted cumulative sum of a vector\n",
    "def discount_cumsum(x, gamma):\n",
    "    disc_cumsum = np.zeros_like(x)\n",
    "    disc_cumsum[-1] = x[-1]\n",
    "    for t in reversed(range(x.shape[0]-1)):\n",
    "        disc_cumsum[t] = x[t] + gamma * disc_cumsum[t+1]\n",
    "    return disc_cumsum\n",
    "\n",
    "# tensor version of discount_cumsum\n",
    "def discount_cumsum_torch(x, gamma):\n",
    "    disc_cumsum = torch.zeros_like(x)\n",
    "    disc_cumsum[-1] = x[-1]\n",
    "    for t in reversed(range(x.shape[0]-1)):\n",
    "        disc_cumsum[t] = x[t] + gamma * disc_cumsum[t+1]\n",
    "    return disc_cumsum\n",
    "\n",
    "def compute_rtg(data, gamma, rtg_scale):\n",
    "    rtg = []\n",
    "    for reward in data['reward'].apply(lambda x: discount_cumsum(np.array(x, dtype=np.float32), gamma)/rtg_scale):\n",
    "        rtg.append(reward)\n",
    "    return rtg\n",
    "\n",
    "def compute_rtg_torch(reward, gamma, rtg_scale):\n",
    "    rtgs = torch.zeros_like(reward)\n",
    "    for i,reward in enumerate(torch.unbind(reward, dim=0)):\n",
    "        rtg = discount_cumsum_torch(reward, gamma)/rtg_scale\n",
    "        rtgs[i,:,:] = rtg\n",
    "    return rtgs\n",
    "\n",
    "# define a custom dataset class which loads the data, modifies the reward to be the discounted cumulative sum and apply trajectory masking\n",
    "class CustomTrajDataset(Dataset):\n",
    "    def __init__(self, file_name, context_len, gamma, rtg_scale, device):\n",
    "        self.gamma = gamma\n",
    "        self.context_len = context_len\n",
    "        self.device = device\n",
    "        self.data = load_dataset(\"json\", data_files = file_name, field = 'data')['train']\n",
    "\n",
    "        # check if the data is homogeneous\n",
    "        self.homogeneous = True\n",
    "        try:\n",
    "            check = np.array(self.data['state'])\n",
    "\n",
    "        except Exception as e:\n",
    "            self.homogeneous = False\n",
    "            print(\"Data might not homogeneous, see error below.\")\n",
    "            print(e)\n",
    "\n",
    "        if self.homogeneous:\n",
    "            print(\"Processing data as torch tensor.\")\n",
    "            self.data = self.data.with_format('torch')\n",
    "\n",
    "            # calculate mean and std of states\n",
    "            states = self.data['state'].to(self.device)\n",
    "            states = states.reshape((states.shape[0]*states.shape[1], states.shape[2]))\n",
    "            self.state_mean, self.state_std = torch.mean(states, dim=0), torch.std(states, dim=0) + 1e-6\n",
    "\n",
    "            # calculate rtg\n",
    "            self.rtg = compute_rtg_torch(self.data['reward'].to(self.device), gamma, rtg_scale)\n",
    "            self.stateshape = self.data['state'].shape[0]\n",
    "\n",
    "            # move the data to the device\n",
    "            self.state = self.data['state'].to(self.device)\n",
    "            self.action = self.data['action'].to(self.device)\n",
    "\n",
    "        \n",
    "        else:\n",
    "            print(\"Processing data as pandas dataframe.\")\n",
    "            self.data = self.data.with_format('pandas')\n",
    "            #min_len = 10**6\n",
    "\n",
    "            # calculate mean and std of states\n",
    "            states = []\n",
    "\n",
    "            for traj in self.data['state']:\n",
    "                states.append(traj)\n",
    "                #if len(traj) < min_len:\n",
    "                #    min_len = len(traj)\n",
    "            states = np.concatenate(states, axis=0)\n",
    "            self.state_mean, self.state_std = np.mean(states, axis=0), np.std(states, axis=0) + 1e-6\n",
    "\n",
    "            # calculate rtg\n",
    "            self.rtg = pd.Series(compute_rtg(self.data, gamma, rtg_scale))\n",
    "\n",
    "            # get the len of the dataset\n",
    "            self.stateshape = len(self.data['state'])\n",
    "            \n",
    "        print(\"Dataset length: \", self.stateshape)\n",
    "\n",
    "\n",
    "    def get_state_stats(self):\n",
    "        return self.state_mean, self.state_std        \n",
    "\n",
    "    def __len__(self):\n",
    "        return self.stateshape\n",
    "\n",
    "    def __getitem__(self, idx):\n",
    "\n",
    "        # check if the data is homogeneous\n",
    "    \n",
    "        try:\n",
    "            if self.homogeneous:\n",
    "                state = self.state[idx]\n",
    "                action = self.action[idx]\n",
    "                rtg = self.rtg[idx]\n",
    "\n",
    "            else:\n",
    "                state = np.stack(self.data['state'][idx])\n",
    "                action = np.stack(self.data['action'][idx])\n",
    "                rtg = self.rtg[idx]\n",
    "\n",
    "        except IndexError:\n",
    "            # handle index out of range error\n",
    "            raise IndexError(f\"Index {idx} out of range for dataset with length {len(self.data['state'])}\")\n",
    "\n",
    "\n",
    "        data_len = state.shape[0]\n",
    "        \n",
    "        if data_len > self.context_len:\n",
    "            # sample random start index\n",
    "            start_idx = np.random.randint(0, data_len - self.context_len)\n",
    "            \n",
    "            if self.homogeneous:\n",
    "                state = state[start_idx:start_idx+self.context_len]\n",
    "                action = action[start_idx:start_idx+self.context_len]\n",
    "                rtg = rtg[start_idx:start_idx+self.context_len]            \n",
    "            else:\n",
    "\n",
    "                # slice the data and convert to torch\n",
    "                state = torch.from_numpy(state[start_idx:start_idx+self.context_len])\n",
    "                action = torch.from_numpy(action[start_idx:start_idx+self.context_len])\n",
    "                rtg = torch.from_numpy(rtg[start_idx:start_idx+self.context_len])\n",
    "            timesteps = torch.arange(start=start_idx, end=start_idx + self.context_len, step=1)\n",
    "            # trajectory mask\n",
    "            mask = torch.ones(self.context_len, dtype=torch.long)\n",
    "        else:\n",
    "            padding_len = self.context_len - data_len\n",
    "            if not self.homogeneous:\n",
    "                # convert to torch\n",
    "                state = torch.from_numpy(state)\n",
    "                action = torch.from_numpy(action)\n",
    "                rtg = torch.from_numpy(rtg)\n",
    "\n",
    "            # pad the data with zeros\n",
    "            state = torch.cat([state, torch.zeros((padding_len, *state.shape[1:]))], dim=0)\n",
    "            action = torch.cat([action, torch.zeros((padding_len, *action.shape[1:]))], dim=0)\n",
    "            rtg = torch.cat([rtg, torch.zeros((padding_len, *rtg.shape[1:]))], dim=0)\n",
    "\n",
    "            timesteps = torch.arange(start=0, end=self.context_len, step=1)\n",
    "\n",
    "            # trajectory mask\n",
    "            mask = torch.cat([torch.ones(data_len, dtype=torch.long), torch.zeros(padding_len, dtype=torch.long)], dim=0)\n",
    "\n",
    "        \"\"\"\n",
    "        Exepected output type and shape\n",
    "        state type:  torch.float32\n",
    "        actions type:  torch.float32\n",
    "        rtg type:  torch.float32\n",
    "        timestep type:  torch.int64\n",
    "        traj_mask type:  torch.int64\n",
    "        shape state: torch.Size([32, 30, 13])\n",
    "        shape rtg: torch.Size([32, 30, 1])\n",
    "        shape timestep: torch.Size([32, 30])\n",
    "        shape actions: torch.Size([32, 30, 2])\n",
    "        \"\"\"\n",
    "        if self.homogeneous:\n",
    "            return state.float(), action.float(), rtg, timesteps, mask\n",
    "        else:\n",
    "            return state.float(), action.float(), rtg.unsqueeze(-1), timesteps, mask\n"
   ]
  },
  {
   "cell_type": "code",
   "execution_count": 32,
   "metadata": {},
   "outputs": [
    {
     "name": "stderr",
     "output_type": "stream",
     "text": [
      "Found cached dataset json (/home/victoru/.cache/huggingface/datasets/json/default-eddc4e1fd29bf187/0.0.0/e347ab1c932092252e717ff3f949105a4dd28b27e842dd53157d2f72e276c2e4)\n",
      "100%|██████████| 1/1 [00:00<00:00, 950.66it/s]\n"
     ]
    },
    {
     "name": "stdout",
     "output_type": "stream",
     "text": [
      "Processing data as torch tensor.\n",
      "Dataset length:  500\n",
      "replaybuffer/AAPL_2555_2015-01-01_1d_random_replaybuffer.json has 500 trajectories\n"
     ]
    },
    {
     "name": "stderr",
     "output_type": "stream",
     "text": [
      "Found cached dataset json (/home/victoru/.cache/huggingface/datasets/json/default-9c29a6506ae5ae22/0.0.0/e347ab1c932092252e717ff3f949105a4dd28b27e842dd53157d2f72e276c2e4)\n",
      "100%|██████████| 1/1 [00:00<00:00, 941.91it/s]\n"
     ]
    },
    {
     "name": "stdout",
     "output_type": "stream",
     "text": [
      "Processing data as torch tensor.\n",
      "Dataset length:  200\n",
      "replaybuffer/AAPL_test_len_167_2_1d_a2c_replaybuffer.json has 200 trajectories\n"
     ]
    },
    {
     "name": "stderr",
     "output_type": "stream",
     "text": [
      "Found cached dataset json (/home/victoru/.cache/huggingface/datasets/json/default-871774eb7f0dcbd5/0.0.0/e347ab1c932092252e717ff3f949105a4dd28b27e842dd53157d2f72e276c2e4)\n",
      "100%|██████████| 1/1 [00:00<00:00, 802.74it/s]\n"
     ]
    },
    {
     "name": "stdout",
     "output_type": "stream",
     "text": [
      "Processing data as torch tensor.\n",
      "Dataset length:  200\n",
      "replaybuffer/AAPL_test_len_167_2_1d_ppo_replaybuffer.json has 200 trajectories\n"
     ]
    },
    {
     "name": "stderr",
     "output_type": "stream",
     "text": [
      "Found cached dataset json (/home/victoru/.cache/huggingface/datasets/json/default-fa7066400073e4c9/0.0.0/e347ab1c932092252e717ff3f949105a4dd28b27e842dd53157d2f72e276c2e4)\n",
      "100%|██████████| 1/1 [00:00<00:00, 1047.53it/s]\n"
     ]
    },
    {
     "name": "stdout",
     "output_type": "stream",
     "text": [
      "Processing data as torch tensor.\n",
      "Dataset length:  200\n",
      "replaybuffer/AAPL_test_len_167_3_1d_a2c_replaybuffer.json has 200 trajectories\n"
     ]
    },
    {
     "name": "stderr",
     "output_type": "stream",
     "text": [
      "Found cached dataset json (/home/victoru/.cache/huggingface/datasets/json/default-b4cc82df7e1b99d6/0.0.0/e347ab1c932092252e717ff3f949105a4dd28b27e842dd53157d2f72e276c2e4)\n",
      "100%|██████████| 1/1 [00:00<00:00, 1087.45it/s]\n"
     ]
    },
    {
     "name": "stdout",
     "output_type": "stream",
     "text": [
      "Processing data as torch tensor.\n",
      "Dataset length:  200\n",
      "replaybuffer/AAPL_test_len_167_3_1d_ppo_replaybuffer.json has 200 trajectories\n"
     ]
    },
    {
     "name": "stderr",
     "output_type": "stream",
     "text": [
      "Found cached dataset json (/home/victoru/.cache/huggingface/datasets/json/default-4b9724687bccad92/0.0.0/e347ab1c932092252e717ff3f949105a4dd28b27e842dd53157d2f72e276c2e4)\n",
      "100%|██████████| 1/1 [00:00<00:00, 941.91it/s]\n"
     ]
    },
    {
     "name": "stdout",
     "output_type": "stream",
     "text": [
      "Processing data as torch tensor.\n",
      "Dataset length:  200\n",
      "replaybuffer/AAPL_test_len_168_4_1d_a2c_replaybuffer.json has 200 trajectories\n"
     ]
    },
    {
     "name": "stderr",
     "output_type": "stream",
     "text": [
      "Found cached dataset json (/home/victoru/.cache/huggingface/datasets/json/default-fd3802dc1a1a113d/0.0.0/e347ab1c932092252e717ff3f949105a4dd28b27e842dd53157d2f72e276c2e4)\n",
      "100%|██████████| 1/1 [00:00<00:00, 953.47it/s]\n"
     ]
    },
    {
     "name": "stdout",
     "output_type": "stream",
     "text": [
      "Processing data as torch tensor.\n",
      "Dataset length:  200\n",
      "replaybuffer/AAPL_test_len_168_4_1d_ppo_replaybuffer.json has 200 trajectories\n"
     ]
    },
    {
     "name": "stderr",
     "output_type": "stream",
     "text": [
      "Found cached dataset json (/home/victoru/.cache/huggingface/datasets/json/default-f8d044d8a4cc073c/0.0.0/e347ab1c932092252e717ff3f949105a4dd28b27e842dd53157d2f72e276c2e4)\n",
      "100%|██████████| 1/1 [00:00<00:00, 1035.63it/s]\n"
     ]
    },
    {
     "name": "stdout",
     "output_type": "stream",
     "text": [
      "Processing data as torch tensor.\n",
      "Dataset length:  200\n",
      "replaybuffer/AAPL_test_len_504_1_1d_a2c_replaybuffer.json has 200 trajectories\n"
     ]
    },
    {
     "name": "stderr",
     "output_type": "stream",
     "text": [
      "Found cached dataset json (/home/victoru/.cache/huggingface/datasets/json/default-60d972a3a421d244/0.0.0/e347ab1c932092252e717ff3f949105a4dd28b27e842dd53157d2f72e276c2e4)\n",
      "100%|██████████| 1/1 [00:00<00:00, 740.91it/s]\n"
     ]
    },
    {
     "name": "stdout",
     "output_type": "stream",
     "text": [
      "Processing data as torch tensor.\n",
      "Dataset length:  200\n",
      "replaybuffer/AAPL_test_len_504_1_1d_ppo_replaybuffer.json has 200 trajectories\n",
      "combined_dataset has 2100 trajectories\n"
     ]
    }
   ],
   "source": [
    "# load huggingface dataset from json file in replaybuffer folder\n",
    "foldername = 'replaybuffer'\n",
    "\n",
    "# get filenames in folder\n",
    "import os\n",
    "filenames = os.listdir(foldername)\n",
    "\n",
    "# get full path of files\n",
    "full_filenames = [os.path.join(foldername, filename) for filename in filenames]\n",
    "\n",
    "# create datasets and store in list from the list of filenames \n",
    "context_len = 60\n",
    "rtg_scale = 100\n",
    "gamma = 0.8\n",
    "\n",
    "datasets = []\n",
    "\n",
    "for name in full_filenames:\n",
    "    dataset = CustomTrajDataset(name, context_len, gamma, rtg_scale, device)\n",
    "    print(f\"{name} has {len(dataset)} trajectories\")\n",
    "    datasets.append(dataset)\n",
    "\n",
    "\n",
    "# concatenate all datasets\n",
    "combined_dataset = torch.utils.data.ConcatDataset(datasets)\n",
    "print(f\"combined_dataset has {len(combined_dataset)} trajectories\")\n",
    "\n"
   ]
  },
  {
   "cell_type": "code",
   "execution_count": 15,
   "metadata": {},
   "outputs": [
    {
     "name": "stdout",
     "output_type": "stream",
     "text": [
      "max rtg:  tensor(92.2523, device='cuda:0')\n",
      "min rtg:  tensor(-104.5734, device='cuda:0')\n"
     ]
    }
   ],
   "source": [
    "# loop through the dataset and find the highest and lowest reward\n",
    "max_rtg = -math.inf\n",
    "min_rtg = math.inf\n",
    "for dataset in datasets:\n",
    "    for rtg in dataset.rtg:\n",
    "        max_rtg = max(max_rtg, rtg.max())\n",
    "        min_rtg = min(min_rtg, rtg.min())\n",
    "\n",
    "\n",
    "print(\"max rtg: \", max_rtg)\n",
    "print(\"min rtg: \", min_rtg)"
   ]
  },
  {
   "cell_type": "code",
   "execution_count": 34,
   "metadata": {},
   "outputs": [],
   "source": [
    "# define training parameters\n",
    "batch_size = 32\n",
    "\n",
    "lr = 1e-4\n",
    "wt_decay = 1e-4\n",
    "warmup_steps = 10000\n",
    "n_epochs = 80"
   ]
  },
  {
   "cell_type": "code",
   "execution_count": 37,
   "metadata": {},
   "outputs": [],
   "source": [
    "# create dataloader from the concatenated dataset\n",
    "dataloader = DataLoader(combined_dataset, batch_size=batch_size, shuffle=True,)"
   ]
  },
  {
   "cell_type": "code",
   "execution_count": 38,
   "metadata": {},
   "outputs": [
    {
     "name": "stdout",
     "output_type": "stream",
     "text": [
      "state type:  torch.float32\n",
      "actions type:  torch.float32\n",
      "rtg type:  torch.float32\n",
      "timestep type:  torch.int64\n",
      "traj_mask type:  torch.int64\n"
     ]
    }
   ],
   "source": [
    "# define model parameters\n",
    "# sample 1 batch from dataloader\n",
    "state, actions, rtg, timestep, traj_mask = next(iter(dataloader))\n",
    "# use batch shape to determine state dimension\n",
    "state_dim = state.shape[-1]\n",
    "act_dim = actions.shape[-1] # discrete action space\n",
    "# use batch shape to determine context length\n",
    "\n",
    "# check return tensor type\n",
    "print('state type: ', state.dtype)\n",
    "print('actions type: ', actions.dtype)\n",
    "print('rtg type: ', rtg.dtype)\n",
    "print('timestep type: ', timestep.dtype)\n",
    "print('traj_mask type: ', traj_mask.dtype)\n",
    "\n",
    "hyperparams_scale = 2\n",
    "\n",
    "n_blocks = int(4 * hyperparams_scale) # number of transformer blocks\n",
    "h_dim = int(96 * hyperparams_scale) # hidden dimension\n",
    "n_heads = int(8 * hyperparams_scale) # number of heads in multi-head attention\n",
    "drop_p = 0.2 # dropout probability\n"
   ]
  },
  {
   "cell_type": "code",
   "execution_count": 39,
   "metadata": {},
   "outputs": [],
   "source": [
    "# create the model\n",
    "model = DecisionTransformer(state_dim, act_dim, n_blocks, h_dim, context_len, n_heads, drop_p).to(device)\n",
    "# set model to be the same dtype as input\n",
    "model.float()\n",
    "# create optimizer\n",
    "# use larger eps to try to avoid mixed precision overflow caused NaNs\n",
    "optimizer = torch.optim.AdamW(model.parameters(), lr=lr, weight_decay=wt_decay, eps=1e-6)\n",
    "\n",
    "# create scheduler\n",
    "scheduler = torch.optim.lr_scheduler.LambdaLR(optimizer, lambda step: min(1.0, (step + 1) / warmup_steps))\n",
    "\n",
    "# create a GradScaler for mixed precision training\n",
    "scaler = torch.cuda.amp.GradScaler(growth_interval=150)\n",
    "min_scale = 128"
   ]
  },
  {
   "cell_type": "code",
   "execution_count": 40,
   "metadata": {},
   "outputs": [
    {
     "name": "stdout",
     "output_type": "stream",
     "text": [
      "Number of parameters: 4352464\n"
     ]
    }
   ],
   "source": [
    "# get the model parameters size\n",
    "n_params = sum([p.numel() for p in model.parameters() if p.requires_grad])\n",
    "print(f\"Number of parameters: {n_params}\")"
   ]
  },
  {
   "cell_type": "code",
   "execution_count": 41,
   "metadata": {},
   "outputs": [
    {
     "name": "stdout",
     "output_type": "stream",
     "text": [
      "state type:  torch.float32\n",
      "actions type:  torch.float32\n",
      "rtg type:  torch.float32\n",
      "timestep type:  torch.int64\n",
      "traj_mask type:  torch.int64\n",
      "shape state: torch.Size([32, 60, 13])\n",
      "shape rtg: torch.Size([32, 60, 1])\n",
      "shape timestep: torch.Size([32, 60])\n",
      "shape actions: torch.Size([32, 60, 2])\n",
      "shape act_preds: torch.Size([32, 60, 2])\n",
      "shape action_targets: torch.Size([32, 60, 2])\n",
      "torch.Size([1920, 2])\n",
      "torch.Size([1920, 2])\n",
      "tensor(False, device='cuda:0')\n",
      "tensor(False, device='cuda:0')\n",
      "tensor(False, device='cuda:0')\n",
      "tensor(False, device='cuda:0')\n",
      "tensor(False, device='cuda:0')\n",
      "tensor(False, device='cuda:0')\n"
     ]
    }
   ],
   "source": [
    "# test run the model\n",
    "\n",
    "with torch.no_grad():\n",
    "    state, actions, rtg, timestep , traj_mask= next(iter(dataloader))\n",
    "    state = state.to(device)\n",
    "    actions = actions.to(device).float()\n",
    "    rtg = rtg.to(device)\n",
    "    timestep = timestep.to(device)\n",
    "    traj_mask = traj_mask.to(device)\n",
    "    action_targets = torch.clone(actions).detach().to(device)\n",
    "    # check return tensor type\n",
    "    print('state type: ', state.dtype)\n",
    "    print('actions type: ', actions.dtype)\n",
    "    print('rtg type: ', rtg.dtype)\n",
    "    print('timestep type: ', timestep.dtype)\n",
    "    print('traj_mask type: ', traj_mask.dtype)\n",
    "    # check shape of state\n",
    "    print(f\"shape state: {state.shape}\")\n",
    "    # check shape of rtg\n",
    "    print(f\"shape rtg: {rtg.shape}\")\n",
    "    # check shape of timestep\n",
    "    print(f\"shape timestep: {timestep.shape}\")\n",
    "    # check shape of actions\n",
    "    print(f\"shape actions: {actions.shape}\")\n",
    "\n",
    "    return_preds, state_preds, act_preds = model.forward(state, rtg, timestep, actions)\n",
    "\n",
    "    print(f\"shape act_preds: {act_preds.shape}\")\n",
    "    print(f\"shape action_targets: {action_targets.shape}\")\n",
    "    \n",
    "    # consider only the action that are padded\n",
    "    act_preds = act_preds.view(-1, act_dim)[traj_mask.view(-1) > 0]\n",
    "    action_targets = action_targets.view(-1, act_dim)[traj_mask.view(-1) > 0]\n",
    "\n",
    "    # check shape of action targets\n",
    "    print(action_targets.shape)\n",
    "    # check shape of action predictions\n",
    "    print(act_preds.shape)\n",
    "\n",
    "# check for nan values and inf values in the input and the output of the model\n",
    "print(torch.isnan(state).any())\n",
    "print(torch.isnan(rtg).any())\n",
    "print(torch.isnan(timestep).any())\n",
    "print(torch.isnan(actions).any())\n",
    "print(torch.isnan(act_preds).any())\n",
    "print(torch.isnan(action_targets).any())"
   ]
  },
  {
   "cell_type": "code",
   "execution_count": 42,
   "metadata": {},
   "outputs": [],
   "source": [
    "from tqdm import tqdm\n",
    "\n",
    "# get the start time to calculate training time\n",
    "import datetime\n",
    "\n",
    "# custom training function which take in the model, dataset, optimizer, scheduler, scaler, n_epochs, min_scale\n",
    "def train_model(model, dataloader, optimizer, scheduler, scaler, n_epochs, min_scale):\n",
    "\n",
    "    # record the start time\n",
    "    start_time = datetime.datetime.now()\n",
    "\n",
    "    # define training parameters\n",
    "    log_action_losses = []\n",
    "\n",
    "    # train model\n",
    "    for epoch in range(n_epochs):\n",
    "        model.train()\n",
    "\n",
    "        for state, actions, rtg, timestep, traj_mask in tqdm(dataloader):\n",
    "            # get batch data to device\n",
    "            state = state.to(device)\n",
    "            actions = actions.to(device)\n",
    "            rtg = rtg.to(device).float()\n",
    "            timestep = timestep.to(device)\n",
    "            traj_mask = traj_mask.to(device)\n",
    "\n",
    "            action_targets = torch.clone(actions).detach().to(device)\n",
    "\n",
    "            # Zeroes out the gradients\n",
    "            optimizer.zero_grad()\n",
    "\n",
    "            # run forward pass with autocasting\n",
    "            # disable autocasting for now to avoid mixed precision caused loss NaNs\n",
    "            with torch.cuda.amp.autocast(enabled=False):\n",
    "                _, _, act_preds = model.forward(state, rtg, timestep, actions)\n",
    "\n",
    "                # consider only the action that are not padded\n",
    "                act_preds = act_preds.view(-1, act_dim)[traj_mask.view(-1) > 0]\n",
    "                action_targets = action_targets.view(-1, act_dim)[traj_mask.view(-1) > 0]\n",
    "\n",
    "                # calculate losses just for actions\n",
    "                loss = F.mse_loss(act_preds, action_targets, reduction='mean')\n",
    "\n",
    "            # Scales loss.  Calls backward() on scaled loss to create scaled gradients.\n",
    "            scaler.scale(loss).backward()\n",
    "\n",
    "            # unscale the gradients\n",
    "            scaler.unscale_(optimizer)\n",
    "            # Clips the gradients by norm\n",
    "            torch.nn.utils.clip_grad_norm_(model.parameters(), 0.1)\n",
    "\n",
    "            # scaler.step() first unscales the gradients of the optimizer's assigned params.\n",
    "            # If these gradients do not contain infs or NaNs, optimizer.step() is then called,\n",
    "            # otherwise, optimizer.step() is skipped.\n",
    "            scaler.step(optimizer)\n",
    "\n",
    "            # Updates the learning rate according to the scheduler\n",
    "            scheduler.step()\n",
    "            # Updates the scale for next iteration.\n",
    "            scaler.update()\n",
    "            # enforce min scale to avoid mixed precision caused NaNs\n",
    "            if scaler.get_scale() < min_scale:\n",
    "                scaler._scale = torch.tensor(min_scale).to(scaler._scale)\n",
    "        \n",
    "            # append action loss to log\n",
    "            log_action_losses.append(loss.detach().cpu().item())\n",
    "\n",
    "        # print every 10 loss log\n",
    "        if epoch % 100 == 0 or epoch == n_epochs - 1:\n",
    "            print(f'Epoch {epoch}: Loss: {log_action_losses[-1]}')\n",
    "\n",
    "    # record the end time\n",
    "    end_time = datetime.datetime.now()\n",
    "    print(f'Training time: {end_time - start_time}')\n",
    "    \n",
    "    return model, log_action_losses\n",
    "\n",
    "            "
   ]
  },
  {
   "cell_type": "code",
   "execution_count": 43,
   "metadata": {},
   "outputs": [
    {
     "name": "stderr",
     "output_type": "stream",
     "text": [
      "100%|██████████| 66/66 [00:06<00:00, 10.95it/s]\n"
     ]
    },
    {
     "name": "stdout",
     "output_type": "stream",
     "text": [
      "Epoch 0: Loss: 0.2296982854604721\n"
     ]
    },
    {
     "name": "stderr",
     "output_type": "stream",
     "text": [
      "100%|██████████| 66/66 [00:06<00:00, 10.94it/s]\n",
      "100%|██████████| 66/66 [00:05<00:00, 11.04it/s]\n",
      "100%|██████████| 66/66 [00:05<00:00, 11.06it/s]\n",
      "100%|██████████| 66/66 [00:05<00:00, 11.15it/s]\n",
      "100%|██████████| 66/66 [00:05<00:00, 11.02it/s]\n",
      "100%|██████████| 66/66 [00:05<00:00, 11.15it/s]\n",
      "100%|██████████| 66/66 [00:05<00:00, 11.29it/s]\n",
      "100%|██████████| 66/66 [00:05<00:00, 11.15it/s]\n",
      "100%|██████████| 66/66 [00:05<00:00, 11.08it/s]\n",
      "100%|██████████| 66/66 [00:05<00:00, 11.21it/s]\n",
      "100%|██████████| 66/66 [00:05<00:00, 11.21it/s]\n",
      "100%|██████████| 66/66 [00:05<00:00, 11.25it/s]\n",
      "100%|██████████| 66/66 [00:05<00:00, 11.23it/s]\n",
      "100%|██████████| 66/66 [00:05<00:00, 11.18it/s]\n",
      "100%|██████████| 66/66 [00:05<00:00, 11.16it/s]\n",
      "100%|██████████| 66/66 [00:05<00:00, 11.25it/s]\n",
      "100%|██████████| 66/66 [00:05<00:00, 11.25it/s]\n",
      "100%|██████████| 66/66 [00:05<00:00, 11.18it/s]\n",
      "100%|██████████| 66/66 [00:05<00:00, 11.14it/s]\n",
      "100%|██████████| 66/66 [00:05<00:00, 11.19it/s]\n",
      "100%|██████████| 66/66 [00:05<00:00, 11.12it/s]\n",
      "100%|██████████| 66/66 [00:05<00:00, 11.10it/s]\n",
      "100%|██████████| 66/66 [00:06<00:00, 10.98it/s]\n",
      "100%|██████████| 66/66 [00:05<00:00, 11.07it/s]\n",
      "100%|██████████| 66/66 [00:06<00:00, 10.95it/s]\n",
      "100%|██████████| 66/66 [00:05<00:00, 11.03it/s]\n",
      "100%|██████████| 66/66 [00:05<00:00, 11.02it/s]\n",
      "100%|██████████| 66/66 [00:05<00:00, 11.01it/s]\n",
      "100%|██████████| 66/66 [00:06<00:00, 10.96it/s]\n",
      "100%|██████████| 66/66 [00:05<00:00, 11.01it/s]\n",
      "100%|██████████| 66/66 [00:06<00:00, 10.95it/s]\n",
      "100%|██████████| 66/66 [00:05<00:00, 11.04it/s]\n",
      "100%|██████████| 66/66 [00:05<00:00, 11.03it/s]\n",
      "100%|██████████| 66/66 [00:05<00:00, 11.05it/s]\n",
      "100%|██████████| 66/66 [00:05<00:00, 11.18it/s]\n",
      "100%|██████████| 66/66 [00:05<00:00, 11.09it/s]\n",
      "100%|██████████| 66/66 [00:05<00:00, 11.26it/s]\n",
      "100%|██████████| 66/66 [00:05<00:00, 11.27it/s]\n",
      "100%|██████████| 66/66 [00:05<00:00, 11.10it/s]\n",
      "100%|██████████| 66/66 [00:05<00:00, 11.06it/s]\n",
      "100%|██████████| 66/66 [00:06<00:00, 10.83it/s]\n",
      "100%|██████████| 66/66 [00:06<00:00, 10.57it/s]\n",
      "100%|██████████| 66/66 [00:06<00:00, 10.99it/s]\n",
      "100%|██████████| 66/66 [00:06<00:00, 10.76it/s]\n",
      "100%|██████████| 66/66 [00:06<00:00, 10.98it/s]\n",
      "100%|██████████| 66/66 [00:06<00:00, 10.71it/s]\n",
      "100%|██████████| 66/66 [00:06<00:00, 10.92it/s]\n",
      "100%|██████████| 66/66 [00:06<00:00, 10.86it/s]\n",
      "100%|██████████| 66/66 [00:06<00:00, 10.98it/s]\n",
      "100%|██████████| 66/66 [00:06<00:00, 10.86it/s]\n",
      "100%|██████████| 66/66 [00:06<00:00, 10.92it/s]\n",
      "100%|██████████| 66/66 [00:05<00:00, 11.05it/s]\n",
      "100%|██████████| 66/66 [00:05<00:00, 11.34it/s]\n",
      "100%|██████████| 66/66 [00:05<00:00, 11.36it/s]\n",
      "100%|██████████| 66/66 [00:05<00:00, 11.33it/s]\n",
      "100%|██████████| 66/66 [00:05<00:00, 11.28it/s]\n",
      "100%|██████████| 66/66 [00:05<00:00, 11.24it/s]\n",
      "100%|██████████| 66/66 [00:05<00:00, 11.20it/s]\n",
      "100%|██████████| 66/66 [00:06<00:00, 10.85it/s]\n",
      "100%|██████████| 66/66 [00:06<00:00, 10.87it/s]\n",
      "100%|██████████| 66/66 [00:06<00:00, 10.87it/s]\n",
      "100%|██████████| 66/66 [00:06<00:00, 10.97it/s]\n",
      "100%|██████████| 66/66 [00:06<00:00, 10.94it/s]\n",
      "100%|██████████| 66/66 [00:06<00:00, 10.96it/s]\n",
      "100%|██████████| 66/66 [00:06<00:00, 10.86it/s]\n",
      "100%|██████████| 66/66 [00:06<00:00, 10.78it/s]\n",
      "100%|██████████| 66/66 [00:06<00:00, 10.39it/s]\n",
      "100%|██████████| 66/66 [00:05<00:00, 11.02it/s]\n",
      "100%|██████████| 66/66 [00:06<00:00, 10.84it/s]\n",
      "100%|██████████| 66/66 [00:06<00:00, 10.45it/s]\n",
      "100%|██████████| 66/66 [00:06<00:00, 10.46it/s]\n",
      "100%|██████████| 66/66 [00:06<00:00, 10.65it/s]\n",
      "100%|██████████| 66/66 [00:06<00:00, 10.88it/s]\n",
      "100%|██████████| 66/66 [00:06<00:00, 10.92it/s]\n",
      "100%|██████████| 66/66 [00:05<00:00, 11.03it/s]\n",
      "100%|██████████| 66/66 [00:06<00:00, 10.94it/s]\n",
      "100%|██████████| 66/66 [00:06<00:00, 10.88it/s]\n",
      "100%|██████████| 66/66 [00:06<00:00, 10.96it/s]\n",
      "100%|██████████| 66/66 [00:06<00:00, 10.87it/s]\n",
      "100%|██████████| 66/66 [00:06<00:00, 10.93it/s]\n",
      "100%|██████████| 66/66 [00:06<00:00, 10.88it/s]\n",
      "100%|██████████| 66/66 [00:06<00:00, 10.92it/s]\n",
      "100%|██████████| 66/66 [00:06<00:00, 10.86it/s]\n",
      "100%|██████████| 66/66 [00:06<00:00, 10.81it/s]\n",
      "100%|██████████| 66/66 [00:06<00:00, 10.86it/s]\n",
      "100%|██████████| 66/66 [00:06<00:00, 10.75it/s]\n",
      "100%|██████████| 66/66 [00:06<00:00, 10.74it/s]\n",
      "100%|██████████| 66/66 [00:06<00:00, 10.76it/s]\n",
      "100%|██████████| 66/66 [00:06<00:00, 10.69it/s]\n",
      "100%|██████████| 66/66 [00:06<00:00, 10.83it/s]\n",
      "100%|██████████| 66/66 [00:06<00:00, 10.86it/s]\n",
      "100%|██████████| 66/66 [00:06<00:00, 10.79it/s]\n",
      "100%|██████████| 66/66 [00:06<00:00, 10.90it/s]\n",
      "100%|██████████| 66/66 [00:06<00:00, 10.81it/s]\n",
      "100%|██████████| 66/66 [00:06<00:00, 10.79it/s]\n",
      "100%|██████████| 66/66 [00:06<00:00, 10.81it/s]\n",
      "100%|██████████| 66/66 [00:06<00:00, 10.72it/s]\n",
      "100%|██████████| 66/66 [00:06<00:00, 10.70it/s]\n",
      "100%|██████████| 66/66 [00:06<00:00, 10.83it/s]"
     ]
    },
    {
     "name": "stdout",
     "output_type": "stream",
     "text": [
      "Epoch 99: Loss: 0.15034309029579163\n",
      "Training time: 0:10:01.868938\n"
     ]
    },
    {
     "name": "stderr",
     "output_type": "stream",
     "text": [
      "\n"
     ]
    }
   ],
   "source": [
    "# train model on each dataloader and store log_action_losses in a list\n",
    "_, log_action_losses = train_model(model, dataloader, optimizer, scheduler, scaler, n_epochs, min_scale)\n"
   ]
  },
  {
   "cell_type": "code",
   "execution_count": null,
   "metadata": {},
   "outputs": [],
   "source": [
    "\"\"\"\n",
    "Training time: 2:14:15.803521 (batchsize: 16)\n",
    "Training time: 2:12:15.817830 (batchsize: 32)\n",
    "\"\"\"\n"
   ]
  },
  {
   "cell_type": "code",
   "execution_count": 44,
   "metadata": {},
   "outputs": [
    {
     "data": {
      "image/png": "[encoded data removed]",
      "text/plain": [
       "<Figure size 640x480 with 1 Axes>"
      ]
     },
     "metadata": {},
     "output_type": "display_data"
    }
   ],
   "source": [
    "import matplotlib.pyplot as plt\n",
    "\n",
    "plt.plot(log_action_losses)\n",
    "plt.xlabel('Epoch')\n",
    "plt.ylabel('Log Action Loss')\n",
    "plt.yscale('log')\n",
    "plt.title('Log Action Loss vs Epoch')\n",
    "plt.show()"
   ]
  },
  {
   "cell_type": "code",
   "execution_count": 45,
   "metadata": {},
   "outputs": [],
   "source": [
    "import json\n",
    "\n",
    "# save model using torch.save() and save it to a directory\n",
    "directory = 'model'\n",
    "model_name = 'AAPL_model.pt'\n",
    "if not os.path.exists(directory):\n",
    "     os.makedirs(directory)\n",
    "torch.save(model.state_dict(), os.path.join(directory, model_name))\n",
    "\n",
    "# write model parameters to a json file\n",
    "\n",
    "model_params = {\n",
    "     'state_dim': state_dim,\n",
    "     'act_dim': act_dim,\n",
    "     'n_blocks': n_blocks,\n",
    "     'h_dim': h_dim,\n",
    "     'context_len': context_len,\n",
    "     'n_heads': n_heads,\n",
    "     'drop_p': drop_p,\n",
    "}\n",
    "with open(os.path.join(directory, 'AAPL_model_params.json'), 'w') as f:\n",
    "     json.dump(model_params, f)"
   ]
  }
 ],
 "metadata": {
  "kernelspec": {
   "display_name": "Python 3.10.4 ('testpython')",
   "language": "python",
   "name": "python3"
  },
  "language_info": {
   "codemirror_mode": {
    "name": "ipython",
    "version": 3
   },
   "file_extension": ".py",
   "mimetype": "text/x-python",
   "name": "python",
   "nbconvert_exporter": "python",
   "pygments_lexer": "ipython3",
   "version": "3.10.11"
  },
  "orig_nbformat": 4,
  "vscode": {
   "interpreter": {
    "hash": "648d1dcbd6682217e1a7c0b1a7c0c54c0b39a029f0fde86a6625ffa444d0c385"
   }
  }
 },
 "nbformat": 4,
 "nbformat_minor": 2
}
