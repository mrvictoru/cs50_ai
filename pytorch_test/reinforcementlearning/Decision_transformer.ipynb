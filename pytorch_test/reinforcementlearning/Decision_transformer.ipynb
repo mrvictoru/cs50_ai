{
 "cells": [
  {
   "cell_type": "code",
   "execution_count": 1,
   "metadata": {},
   "outputs": [
    {
     "name": "stderr",
     "output_type": "stream",
     "text": [
      "/home/victoru/anaconda3/envs/testpython/lib/python3.10/site-packages/tqdm/auto.py:22: TqdmWarning: IProgress not found. Please update jupyter and ipywidgets. See https://ipywidgets.readthedocs.io/en/stable/user_install.html\n",
      "  from .autonotebook import tqdm as notebook_tqdm\n"
     ]
    }
   ],
   "source": [
    "# this notebook will use a basic GPT based decision transformer in offline reinforcement learning setting to create bot for trading stock\n",
    "# get cuda device\n",
    "# import libraries\n",
    "import math\n",
    "import torch\n",
    "import torch.nn as nn\n",
    "import torch.nn.functional as F\n",
    "\n",
    "from cust_transf import DecisionTransformer\n",
    "\n",
    "device = torch.device('cuda' if torch.cuda.is_available() else 'cpu')"
   ]
  },
  {
   "cell_type": "code",
   "execution_count": 2,
   "metadata": {},
   "outputs": [],
   "source": [
    "import numpy as np\n",
    "\n",
    "# utility function to compute the discounted cumulative sum of a vector\n",
    "def discount_cumsum(x, gamma):\n",
    "    disc_cumsum = np.zeros_like(x)\n",
    "    \n",
    "    disc_cumsum[-1] = x[-1]\n",
    "    \n",
    "    for t in reversed(range(x.shape[0]-1)):\n",
    "        \n",
    "        disc_cumsum[t] = x[t] + gamma * disc_cumsum[t+1]\n",
    "    return disc_cumsum\n",
    "\n",
    "# utility function to evaluate the performance of the agent on a given environment\n",
    "# TODO: change it to work with custom environment\n",
    "def evaluate(model, device, context_len, env, rtg_target, rtg_scale, \n",
    "            num_eval_ep=10, max_test_ep_len=28, state_mean=None, state_std=None, render=False):\n",
    "    eval_batch_size = 1\n",
    "\n",
    "    results = {}\n",
    "    total_reward = 0\n",
    "    total_length = 0\n",
    "\n",
    "    state_dim = env.observation_space.shape[0]\n",
    "    act_dim = env.action_space.shape[0]\n",
    "\n",
    "    state_mean = torch.zeros((state_dim,)).to(device) if state_mean is None else torch.from_numpy(state_mean).to(device)\n",
    "    state_std = torch.ones((state_dim,)).to(device) if state_std is None else torch.from_numpy(state_std).to(device)\n",
    "    \n",
    "    # create timestep for transformer\n",
    "    timesteps = torch.arange(start=0, end=max_test_ep_len, step=1)\n",
    "    timesteps = timesteps.unsqueeze(0).repeat(eval_batch_size, 1).to(device)\n",
    "\n",
    "    # evaluate the agent\n",
    "    model.eval()\n",
    "    with torch.no_grad():\n",
    "\n",
    "        for _ in range(num_eval_ep):\n",
    "\n",
    "            # zeros place holders\n",
    "            actions = torch.zeros((eval_batch_size, max_test_ep_len, act_dim),\n",
    "                                dtype=torch.float32, device=device)\n",
    "\n",
    "            states = torch.zeros((eval_batch_size, max_test_ep_len, state_dim),\n",
    "                                dtype=torch.float32, device=device)\n",
    "            \n",
    "            rewards_to_go = torch.zeros((eval_batch_size, max_test_ep_len, 1),\n",
    "                                dtype=torch.float32, device=device)\n",
    "            \n",
    "            # init episode\n",
    "            running_state = env.reset()\n",
    "            running_reward = 0\n",
    "            running_rtg = rtg_target / rtg_scale\n",
    "\n",
    "            for t in range(max_test_ep_len):\n",
    "\n",
    "                total_timesteps += 1\n",
    "\n",
    "                # add state in placeholder and normalize\n",
    "                states[0, t] = torch.from_numpy(running_state).to(device)\n",
    "                states[0, t] = (states[0, t] - state_mean) / state_std\n",
    "\n",
    "                # calcualate running rtg and add in placeholder\n",
    "                running_rtg = running_rtg - (running_reward / rtg_scale)\n",
    "                rewards_to_go[0, t] = running_rtg\n",
    "\n",
    "                if t < context_len:\n",
    "                    _, act_preds, _ = model.forward(timesteps[:,:context_len],\n",
    "                                                states[:,:context_len],\n",
    "                                                actions[:,:context_len],\n",
    "                                                rewards_to_go[:,:context_len])\n",
    "                    act = act_preds[0, t].detach()\n",
    "                else:\n",
    "                    _, act_preds, _ = model.forward(timesteps[:,t-context_len+1:t+1],\n",
    "                                                states[:,t-context_len+1:t+1],\n",
    "                                                actions[:,t-context_len+1:t+1],\n",
    "                                                rewards_to_go[:,t-context_len+1:t+1])\n",
    "                    act = act_preds[0, -1].detach()\n",
    "\n",
    "\n",
    "                running_state, running_reward, done, _ = env.step(act.cpu().numpy())\n",
    "\n",
    "                # add action in placeholder\n",
    "                actions[0, t] = act\n",
    "\n",
    "                total_reward += running_reward\n",
    "\n",
    "                if render:\n",
    "                    env.render()\n",
    "                if done:\n",
    "                    break\n",
    "\n",
    "    results['eval/avg_reward'] = total_reward / num_eval_ep\n",
    "    results['eval/avg_ep_len'] = total_timesteps / num_eval_ep\n",
    "    \n",
    "    return results\n",
    "\n",
    "\n"
   ]
  },
  {
   "cell_type": "code",
   "execution_count": 3,
   "metadata": {},
   "outputs": [],
   "source": [
    "from datasets import load_dataset\n",
    "from torch.utils.data import Dataset, DataLoader\n",
    "# define a custom dataset class which loads the data and modifies the reward to be the discounted cumulative sum\n",
    "class CustomDataset(Dataset):\n",
    "    def __init__(self, file_name, gamma):\n",
    "        self.gamma = gamma\n",
    "\n",
    "        # load the data\n",
    "        data = load_dataset(\"json\", data_files = file_name, field = 'data').with_format('torch')\n",
    "        self.data = data['train']\n",
    "        # calculate the mean and std of the state\n",
    "        stateshape = data['train']['state'].shape\n",
    "        allstates = data['train']['state'].reshape([stateshape[0]*stateshape[1], stateshape[2]])\n",
    "        self.state_std, self.state_mean = torch.std_mean(allstates, dim = 0)\n",
    "        \n",
    "\n",
    "    def __len__(self):\n",
    "        return len(self.data)\n",
    "\n",
    "    def __getitem__(self, idx):\n",
    "        data = self.data[idx]\n",
    "        # calculate the discounted cumulative sum\n",
    "        discount_reward = discount_cumsum(data['reward'], self.gamma)\n",
    "        #\n",
    "        # get the state, action, reward and next state\n",
    "        return (data['state']-self.state_mean)/self.state_std, data['action'], torch.from_numpy(discount_reward), data['timestep']\n"
   ]
  },
  {
   "cell_type": "code",
   "execution_count": 4,
   "metadata": {},
   "outputs": [
    {
     "name": "stderr",
     "output_type": "stream",
     "text": [
      "Using custom data configuration default-3a69897addd28b22\n",
      "Found cached dataset json (/home/victoru/.cache/huggingface/datasets/json/default-3a69897addd28b22/0.0.0/e6070c77f18f01a5ad4551a8b7edfba20b8438b7cad4d94e6ad9378022ce4aab)\n",
      "100%|██████████| 1/1 [00:00<00:00, 822.25it/s]\n"
     ]
    }
   ],
   "source": [
    "# load huggingface dataset from json file\n",
    "filename = 'AAPL_2190_2016-01-01_1d_random_replaybuffer.json'\n",
    "\n",
    "dataset = CustomDataset(filename, gamma = 0.99)"
   ]
  },
  {
   "cell_type": "code",
   "execution_count": 5,
   "metadata": {},
   "outputs": [],
   "source": [
    "# define training parameters\n",
    "batch_size = 2\n",
    "lr = 3e-5\n",
    "wt_decay = 1e-4\n",
    "warmup_steps = 10000\n",
    "n_epochs = 2"
   ]
  },
  {
   "cell_type": "code",
   "execution_count": 6,
   "metadata": {},
   "outputs": [],
   "source": [
    "# create dataloader from dataset\n",
    "dataloader = DataLoader(dataset, batch_size=batch_size, shuffle=True)"
   ]
  },
  {
   "cell_type": "code",
   "execution_count": 7,
   "metadata": {},
   "outputs": [],
   "source": [
    "# define model parameters\n",
    "# sample 1 batch from dataloader\n",
    "norm_state, actions, rtg, timestep = next(iter(dataloader))\n",
    "# use batch shape to determine state dimension\n",
    "state_dim = norm_state.shape[-1]\n",
    "act_dim = actions.shape[-1] # discrete action space\n",
    "# use batch shape to determine context length\n",
    "context_len = timestep.shape[-1] # K in decision transformer\n",
    "\n",
    "n_blocks = 3 # number of transformer blocks\n",
    "h_dim = 96 # hidden dimension\n",
    "n_heads = 3 # number of heads in multi-head attention\n",
    "drop_p = 0.1 # dropout probability\n"
   ]
  },
  {
   "cell_type": "code",
   "execution_count": 8,
   "metadata": {},
   "outputs": [],
   "source": [
    "# create the model\n",
    "model = DecisionTransformer(state_dim, act_dim, n_blocks, h_dim, context_len, n_heads, drop_p).to(device)\n",
    "\n",
    "# create optimizer\n",
    "optimizer = torch.optim.AdamW(model.parameters(), lr=lr, weight_decay=wt_decay)\n",
    "\n",
    "# create scheduler\n",
    "scheduler = torch.optim.lr_scheduler.LambdaLR(optimizer, lambda step: min(1.0, (step + 1) / warmup_steps))\n",
    "\n",
    "# create a GradScaler for mixed precision training\n",
    "scaler = torch.cuda.amp.GradScaler()"
   ]
  },
  {
   "cell_type": "code",
   "execution_count": 10,
   "metadata": {},
   "outputs": [
    {
     "name": "stdout",
     "output_type": "stream",
     "text": [
      "torch.Size([4, 1509, 13])\n",
      "torch.Size([4, 1509, 1])\n",
      "torch.Size([4, 1509])\n",
      "torch.Size([4, 1509, 2])\n",
      "torch.Size([4, 1509, 2])\n",
      "torch.Size([4, 1509, 2])\n",
      "torch.Size([6036, 2])\n",
      "torch.Size([6036, 2])\n",
      "tensor(False, device='cuda:0')\n",
      "tensor(False, device='cuda:0')\n",
      "tensor(False, device='cuda:0')\n",
      "tensor(False, device='cuda:0')\n",
      "tensor(False, device='cuda:0')\n",
      "tensor(False, device='cuda:0')\n"
     ]
    }
   ],
   "source": [
    "# test run the model\n",
    "with torch.no_grad():\n",
    "    norm_state, actions, rtg, timestep = next(iter(dataloader))\n",
    "    norm_state = norm_state.to(device)\n",
    "    actions = actions.to(device)\n",
    "    rtg = rtg.to(device)\n",
    "    timestep = timestep.to(device)\n",
    "    action_targets = torch.clone(actions).detach().to(device)\n",
    "    return_preds, state_preds, act_preds = model.forward(norm_state, rtg, timestep, actions)\n",
    "\n",
    "    # check shape of norm_state\n",
    "    print(norm_state.shape)\n",
    "    # check shape of rtg\n",
    "    print(rtg.shape)\n",
    "    # check shape of timestep\n",
    "    print(timestep.shape)\n",
    "    # check shape of actions\n",
    "    print(actions.shape)\n",
    "    print(act_preds.shape)\n",
    "    print(action_targets.shape)\n",
    "    \n",
    "    # calculate losses just for actions\n",
    "    act_preds = act_preds.view(-1, act_dim)\n",
    "    action_targets = action_targets.view(-1, act_dim)\n",
    "\n",
    "    # check shape of action targets\n",
    "    print(action_targets.shape)\n",
    "    # check shape of action predictions\n",
    "    print(act_preds.shape)\n",
    "\n",
    "# check for nan values and inf values in the input and the output of the model\n",
    "print(torch.isnan(norm_state).any())\n",
    "print(torch.isnan(rtg).any())\n",
    "print(torch.isnan(timestep).any())\n",
    "print(torch.isnan(actions).any())\n",
    "print(torch.isnan(act_preds).any())\n",
    "print(torch.isnan(action_targets).any())\n",
    "\n"
   ]
  },
  {
   "cell_type": "code",
   "execution_count": 11,
   "metadata": {},
   "outputs": [
    {
     "name": "stdout",
     "output_type": "stream",
     "text": [
      "tensor([[-0.1709,  0.2726],\n",
      "        [-0.3959,  0.1280],\n",
      "        [-0.4118, -0.5362],\n",
      "        ...,\n",
      "        [ 0.4393,  0.5826],\n",
      "        [ 0.5670, -0.2079],\n",
      "        [-0.0441,  0.1552]], device='cuda:0')\n",
      "tensor([[ 0.0221,  0.4075],\n",
      "        [-0.9087,  0.1251],\n",
      "        [-0.4329,  0.0531],\n",
      "        ...,\n",
      "        [ 0.0811,  0.2015],\n",
      "        [ 0.5435,  0.6152],\n",
      "        [-0.1350,  0.5347]], device='cuda:0')\n",
      "tensor([[[-0.9650, -0.9705, -0.9736,  ..., -1.5698, -1.8749, -1.4157],\n",
      "         [-0.9918, -0.9805, -0.9910,  ..., -1.5698, -1.8749, -1.4157],\n",
      "         [-0.9727, -0.9776, -0.9885,  ..., -1.5698, -1.8747, -1.4156],\n",
      "         ...,\n",
      "         [ 2.6713,  2.6457,  2.7065,  ...,  2.5513,  1.3809,  1.9503],\n",
      "         [ 2.7016,  2.7317,  2.7509,  ...,  2.5545,  1.3809,  1.9503],\n",
      "         [ 2.7765,  2.7536,  2.7870,  ...,  2.5952,  1.3809,  1.9503]],\n",
      "\n",
      "        [[-0.9650, -0.9705, -0.9736,  ..., -1.5698, -1.8749, -1.4157],\n",
      "         [-0.9918, -0.9805, -0.9910,  ..., -1.5698, -1.8749, -1.4157],\n",
      "         [-0.9727, -0.9776, -0.9885,  ..., -1.5698, -1.8749, -1.4157],\n",
      "         ...,\n",
      "         [ 2.6713,  2.6457,  2.7065,  ...,  2.6464,  0.6858,  1.0026],\n",
      "         [ 2.7016,  2.7317,  2.7509,  ...,  2.6464,  0.6858,  1.0026],\n",
      "         [ 2.7765,  2.7536,  2.7870,  ...,  2.6464,  0.6858,  1.0026]],\n",
      "\n",
      "        [[-0.9650, -0.9705, -0.9736,  ..., -1.5698, -1.8749, -1.4157],\n",
      "         [-0.9918, -0.9805, -0.9910,  ..., -1.5698, -1.8749, -1.4157],\n",
      "         [-0.9727, -0.9776, -0.9885,  ..., -1.5698, -1.8749, -1.4157],\n",
      "         ...,\n",
      "         [ 2.6713,  2.6457,  2.7065,  ...,  2.5555,  1.3676,  2.0419],\n",
      "         [ 2.7016,  2.7317,  2.7509,  ...,  2.6180,  1.3676,  2.0419],\n",
      "         [ 2.7765,  2.7536,  2.7870,  ...,  2.6180,  1.3676,  2.0419]],\n",
      "\n",
      "        [[-0.9650, -0.9705, -0.9736,  ..., -1.5698, -1.8749, -1.4157],\n",
      "         [-0.9918, -0.9805, -0.9910,  ..., -1.5698, -1.8749, -1.4157],\n",
      "         [-0.9727, -0.9776, -0.9885,  ..., -1.5698, -1.8749, -1.4157],\n",
      "         ...,\n",
      "         [ 2.6713,  2.6457,  2.7065,  ...,  2.4495,  1.8940,  2.5415],\n",
      "         [ 2.7016,  2.7317,  2.7509,  ...,  2.4495,  1.8940,  2.5415],\n",
      "         [ 2.7765,  2.7536,  2.7870,  ...,  2.4495,  1.8940,  2.5415]]],\n",
      "       device='cuda:0')\n"
     ]
    }
   ],
   "source": [
    "print(act_preds)\n",
    "print(action_targets)\n",
    "print(norm_state)"
   ]
  },
  {
   "cell_type": "code",
   "execution_count": null,
   "metadata": {},
   "outputs": [],
   "source": []
  },
  {
   "cell_type": "code",
   "execution_count": 9,
   "metadata": {},
   "outputs": [
    {
     "name": "stderr",
     "output_type": "stream",
     "text": [
      "  0%|          | 1/500 [00:02<16:52,  2.03s/it]"
     ]
    },
    {
     "name": "stdout",
     "output_type": "stream",
     "text": [
      "Loss:  0.4037802219390869\n"
     ]
    },
    {
     "name": "stderr",
     "output_type": "stream",
     "text": [
      " 20%|██        | 100/500 [02:43<10:46,  1.62s/it]"
     ]
    },
    {
     "name": "stdout",
     "output_type": "stream",
     "text": [
      "Loss:  0.3969181478023529\n"
     ]
    },
    {
     "name": "stderr",
     "output_type": "stream",
     "text": [
      " 40%|████      | 200/500 [05:28<08:14,  1.65s/it]"
     ]
    },
    {
     "name": "stdout",
     "output_type": "stream",
     "text": [
      "Loss:  0.4006848931312561\n"
     ]
    },
    {
     "name": "stderr",
     "output_type": "stream",
     "text": [
      " 60%|██████    | 300/500 [08:13<05:30,  1.65s/it]"
     ]
    },
    {
     "name": "stdout",
     "output_type": "stream",
     "text": [
      "Loss:  0.3894937038421631\n"
     ]
    },
    {
     "name": "stderr",
     "output_type": "stream",
     "text": [
      " 80%|████████  | 400/500 [10:58<02:41,  1.62s/it]"
     ]
    },
    {
     "name": "stdout",
     "output_type": "stream",
     "text": [
      "Loss:  0.38199514150619507\n"
     ]
    },
    {
     "name": "stderr",
     "output_type": "stream",
     "text": [
      "100%|██████████| 500/500 [13:39<00:00,  1.64s/it]\n"
     ]
    },
    {
     "name": "stdout",
     "output_type": "stream",
     "text": [
      "Loss:  0.35910943150520325\n"
     ]
    },
    {
     "name": "stderr",
     "output_type": "stream",
     "text": [
      "  0%|          | 1/500 [00:01<13:28,  1.62s/it]"
     ]
    },
    {
     "name": "stdout",
     "output_type": "stream",
     "text": [
      "Loss:  0.36109912395477295\n"
     ]
    },
    {
     "name": "stderr",
     "output_type": "stream",
     "text": [
      " 20%|██        | 100/500 [02:40<10:42,  1.61s/it]"
     ]
    },
    {
     "name": "stdout",
     "output_type": "stream",
     "text": [
      "Loss:  0.3591246008872986\n"
     ]
    },
    {
     "name": "stderr",
     "output_type": "stream",
     "text": [
      " 40%|████      | 200/500 [05:20<07:55,  1.59s/it]"
     ]
    },
    {
     "name": "stdout",
     "output_type": "stream",
     "text": [
      "Loss:  0.3461839258670807\n"
     ]
    },
    {
     "name": "stderr",
     "output_type": "stream",
     "text": [
      " 60%|██████    | 300/500 [08:00<05:19,  1.60s/it]"
     ]
    },
    {
     "name": "stdout",
     "output_type": "stream",
     "text": [
      "Loss:  0.33066847920417786\n"
     ]
    },
    {
     "name": "stderr",
     "output_type": "stream",
     "text": [
      " 80%|████████  | 400/500 [10:40<02:40,  1.60s/it]"
     ]
    },
    {
     "name": "stdout",
     "output_type": "stream",
     "text": [
      "Loss:  0.3286522626876831\n"
     ]
    },
    {
     "name": "stderr",
     "output_type": "stream",
     "text": [
      "100%|██████████| 500/500 [13:19<00:00,  1.60s/it]"
     ]
    },
    {
     "name": "stdout",
     "output_type": "stream",
     "text": [
      "Loss:  0.32495033740997314\n",
      "Training time:  0:26:59.402146\n"
     ]
    },
    {
     "name": "stderr",
     "output_type": "stream",
     "text": [
      "\n"
     ]
    }
   ],
   "source": [
    "# create training loop\n",
    "from tqdm import tqdm\n",
    "\n",
    "# get the start time to calculate training time\n",
    "import datetime\n",
    "start_time = datetime.datetime.now()\n",
    "#training_log = {'epoch':[], 'loss':[], 'eval/avg_reward':[], 'eval/avg_ep_len':[]} # training log\n",
    "\n",
    "for i in range(n_epochs):\n",
    "    model.train()\n",
    "    log_action_losses = []\n",
    "    for norm_state, actions, rtg, timestep in tqdm(dataloader):\n",
    "        # get batch data to device\n",
    "        norm_state = norm_state.to(device)\n",
    "        actions = actions.to(device)\n",
    "        rtg = rtg.to(device)\n",
    "        timestep = timestep.to(device)\n",
    "\n",
    "        action_targets = torch.clone(actions).detach().to(device)\n",
    "\n",
    "        # Zeroes out the gradients\n",
    "        optimizer.zero_grad()\n",
    "\n",
    "        # run forward pass with autocasting\n",
    "        with torch.cuda.amp.autocast(enabled=False):\n",
    "            return_preds, state_preds, act_preds = model.forward(norm_state, rtg, timestep, actions)\n",
    "\n",
    "            # calculate losses just for actions\n",
    "            act_preds = act_preds.view(-1, act_dim)\n",
    "            action_targets = action_targets.view(-1, act_dim)\n",
    "\n",
    "            loss = F.mse_loss(act_preds, action_targets, reduction='mean')\n",
    "\n",
    "        # Scales loss.  Calls backward() on scaled loss to create scaled gradients.\n",
    "        scaler.scale(loss).backward()\n",
    "\n",
    "        # Clips the gradients by norm\n",
    "        torch.nn.utils.clip_grad_norm_(model.parameters(), 0.25)\n",
    "\n",
    "        # scaler.step() first unscales the gradients of the optimizer's assigned params.\n",
    "        # If these gradients do not contain infs or NaNs, optimizer.step() is then called,\n",
    "        # otherwise, optimizer.step() is skipped.\n",
    "        scaler.step(optimizer)\n",
    "\n",
    "        # Updates the learning rate according to the scheduler\n",
    "        scheduler.step()\n",
    "        # Updates the scale for next iteration.\n",
    "        scaler.update()\n",
    "        \n",
    "        # append action loss to log\n",
    "        log_action_losses.append(loss.detach().cpu().item())\n",
    "        # print every 100 loss log\n",
    "        if len(log_action_losses) % 100 == 0 or len(log_action_losses) == 1:\n",
    "            print('Loss: ', log_action_losses[-1])\n",
    "    \n",
    "\n",
    "# record training time\n",
    "end_time = datetime.datetime.now()\n",
    "print('Training time: ', end_time - start_time)\n",
    "\n",
    "# create environment to evaluate the model\n"
   ]
  },
  {
   "cell_type": "code",
   "execution_count": null,
   "metadata": {},
   "outputs": [],
   "source": [
    "# "
   ]
  },
  {
   "cell_type": "code",
   "execution_count": 7,
   "metadata": {},
   "outputs": [],
   "source": [
    "# test act_embedding\n",
    "embed_act = nn.Embedding(act_dim+1, h_dim)\n",
    "embed_timestep = nn.Embedding(4096, h_dim)\n",
    "embed_rtg = nn.Linear(1, h_dim)\n",
    "embed_state = nn.Linear(state_dim, h_dim)"
   ]
  },
  {
   "cell_type": "code",
   "execution_count": 50,
   "metadata": {},
   "outputs": [
    {
     "name": "stdout",
     "output_type": "stream",
     "text": [
      "1\n"
     ]
    }
   ],
   "source": [
    "print(act_dim)"
   ]
  },
  {
   "cell_type": "code",
   "execution_count": 8,
   "metadata": {},
   "outputs": [],
   "source": [
    "batch = next(iter(dataloader))\n",
    "actions = batch['action']\n",
    "timesteps = batch['timestep']\n",
    "reward = batch['reward']\n",
    "states = batch['state']"
   ]
  },
  {
   "cell_type": "code",
   "execution_count": 21,
   "metadata": {},
   "outputs": [
    {
     "name": "stdout",
     "output_type": "stream",
     "text": [
      "torch.Size([4, 28, 1])\n",
      "torch.Size([4, 28, 1])\n",
      "torch.Size([4, 28])\n",
      "torch.Size([4, 28, 5])\n",
      "torch.Size([1, 128])\n",
      "torch.Size([128, 1])\n",
      "torch.Size([4096, 128])\n",
      "torch.Size([128, 5])\n"
     ]
    }
   ],
   "source": [
    "print(actions.shape)\n",
    "print(reward.shape)\n",
    "print(timesteps.shape)\n",
    "print(states.shape)\n",
    "print(embed_act.weight.shape)\n",
    "print(embed_rtg.weight.shape)\n",
    "print(embed_timestep.weight.shape)\n",
    "print(embed_state.weight.shape)"
   ]
  },
  {
   "cell_type": "code",
   "execution_count": 10,
   "metadata": {},
   "outputs": [
    {
     "name": "stdout",
     "output_type": "stream",
     "text": [
      "torch.Size([4, 28, 128])\n"
     ]
    }
   ],
   "source": [
    "time_emb = embed_timestep(timesteps)\n",
    "print(time_emb.shape)\n"
   ]
  },
  {
   "cell_type": "code",
   "execution_count": 9,
   "metadata": {},
   "outputs": [
    {
     "name": "stdout",
     "output_type": "stream",
     "text": [
      "True\n"
     ]
    }
   ],
   "source": [
    "statesize = embed_state(states).shape\n",
    "timesize = embed_timestep(timesteps).shape\n",
    "\n",
    "# compare the size of the embedding\n",
    "print(statesize == timesize)"
   ]
  },
  {
   "cell_type": "code",
   "execution_count": 11,
   "metadata": {},
   "outputs": [],
   "source": [
    "states_emb = embed_state(states) + time_emb"
   ]
  },
  {
   "cell_type": "code",
   "execution_count": 57,
   "metadata": {},
   "outputs": [],
   "source": [
    "reward_emb = embed_rtg(reward)"
   ]
  },
  {
   "cell_type": "code",
   "execution_count": 29,
   "metadata": {},
   "outputs": [],
   "source": [
    "act_emb = torch.squeeze(embed_act(actions))\n",
    "act_emb = act_emb + time_emb\n"
   ]
  }
 ],
 "metadata": {
  "kernelspec": {
   "display_name": "Python 3.10.4 ('testpython')",
   "language": "python",
   "name": "python3"
  },
  "language_info": {
   "codemirror_mode": {
    "name": "ipython",
    "version": 3
   },
   "file_extension": ".py",
   "mimetype": "text/x-python",
   "name": "python",
   "nbconvert_exporter": "python",
   "pygments_lexer": "ipython3",
   "version": "3.10.9"
  },
  "orig_nbformat": 4,
  "vscode": {
   "interpreter": {
    "hash": "648d1dcbd6682217e1a7c0b1a7c0c54c0b39a029f0fde86a6625ffa444d0c385"
   }
  }
 },
 "nbformat": 4,
 "nbformat_minor": 2
}
