{
 "cells": [
  {
   "cell_type": "code",
   "execution_count": 4,
   "metadata": {},
   "outputs": [],
   "source": [
    "# this notebook is to train bot trading stocking with reinforcement learning\n",
    "\n",
    "# import helper functions on getting stock data\n",
    "from getstock import get_stock_data_yf\n",
    "\n",
    "# import library for gym, stable-baselines3, A2C, and numpy\n",
    "import gym\n",
    "import gym_anytrading\n",
    "import numpy as np\n",
    "from matplotlib import pyplot as plt\n",
    "from stable_baselines3.common.vec_env import DummyVecEnv\n",
    "from stable_baselines3 import A2C\n"
   ]
  },
  {
   "cell_type": "code",
   "execution_count": 5,
   "metadata": {},
   "outputs": [
    {
     "name": "stdout",
     "output_type": "stream",
     "text": [
      "[*********************100%***********************]  1 of 1 completed\n"
     ]
    },
    {
     "data": {
      "text/html": [
       "<div>\n",
       "<style scoped>\n",
       "    .dataframe tbody tr th:only-of-type {\n",
       "        vertical-align: middle;\n",
       "    }\n",
       "\n",
       "    .dataframe tbody tr th {\n",
       "        vertical-align: top;\n",
       "    }\n",
       "\n",
       "    .dataframe thead th {\n",
       "        text-align: right;\n",
       "    }\n",
       "</style>\n",
       "<table border=\"1\" class=\"dataframe\">\n",
       "  <thead>\n",
       "    <tr style=\"text-align: right;\">\n",
       "      <th></th>\n",
       "      <th>Open</th>\n",
       "      <th>High</th>\n",
       "      <th>Low</th>\n",
       "      <th>Close</th>\n",
       "      <th>Adj Close</th>\n",
       "      <th>Volume</th>\n",
       "    </tr>\n",
       "    <tr>\n",
       "      <th>Date</th>\n",
       "      <th></th>\n",
       "      <th></th>\n",
       "      <th></th>\n",
       "      <th></th>\n",
       "      <th></th>\n",
       "      <th></th>\n",
       "    </tr>\n",
       "  </thead>\n",
       "  <tbody>\n",
       "    <tr>\n",
       "      <th>2021-10-26</th>\n",
       "      <td>149.330002</td>\n",
       "      <td>150.839996</td>\n",
       "      <td>149.009995</td>\n",
       "      <td>149.320007</td>\n",
       "      <td>148.487946</td>\n",
       "      <td>60893400</td>\n",
       "    </tr>\n",
       "    <tr>\n",
       "      <th>2021-10-27</th>\n",
       "      <td>149.360001</td>\n",
       "      <td>149.729996</td>\n",
       "      <td>148.490005</td>\n",
       "      <td>148.850006</td>\n",
       "      <td>148.020569</td>\n",
       "      <td>56094900</td>\n",
       "    </tr>\n",
       "    <tr>\n",
       "      <th>2021-10-28</th>\n",
       "      <td>149.820007</td>\n",
       "      <td>153.169998</td>\n",
       "      <td>149.720001</td>\n",
       "      <td>152.570007</td>\n",
       "      <td>151.719833</td>\n",
       "      <td>100077900</td>\n",
       "    </tr>\n",
       "    <tr>\n",
       "      <th>2021-10-29</th>\n",
       "      <td>147.220001</td>\n",
       "      <td>149.940002</td>\n",
       "      <td>146.410004</td>\n",
       "      <td>149.800003</td>\n",
       "      <td>148.965271</td>\n",
       "      <td>124953200</td>\n",
       "    </tr>\n",
       "    <tr>\n",
       "      <th>2021-11-01</th>\n",
       "      <td>148.990005</td>\n",
       "      <td>149.699997</td>\n",
       "      <td>147.800003</td>\n",
       "      <td>148.960007</td>\n",
       "      <td>148.129959</td>\n",
       "      <td>74588300</td>\n",
       "    </tr>\n",
       "  </tbody>\n",
       "</table>\n",
       "</div>"
      ],
      "text/plain": [
       "                  Open        High         Low       Close   Adj Close  \\\n",
       "Date                                                                     \n",
       "2021-10-26  149.330002  150.839996  149.009995  149.320007  148.487946   \n",
       "2021-10-27  149.360001  149.729996  148.490005  148.850006  148.020569   \n",
       "2021-10-28  149.820007  153.169998  149.720001  152.570007  151.719833   \n",
       "2021-10-29  147.220001  149.940002  146.410004  149.800003  148.965271   \n",
       "2021-11-01  148.990005  149.699997  147.800003  148.960007  148.129959   \n",
       "\n",
       "               Volume  \n",
       "Date                   \n",
       "2021-10-26   60893400  \n",
       "2021-10-27   56094900  \n",
       "2021-10-28  100077900  \n",
       "2021-10-29  124953200  \n",
       "2021-11-01   74588300  "
      ]
     },
     "execution_count": 5,
     "metadata": {},
     "output_type": "execute_result"
    }
   ],
   "source": [
    "# get stock data on Apple for the past 1 year with 5 days intervals\n",
    "stock_data = get_stock_data_yf('AAPL', 1, '1d')\n",
    "\n",
    "# show the first 5 rows of the stock data\n",
    "stock_data.head()\n"
   ]
  },
  {
   "cell_type": "code",
   "execution_count": 14,
   "metadata": {},
   "outputs": [
    {
     "name": "stdout",
     "output_type": "stream",
     "text": [
      "The environment's action space is:  2\n",
      "The environment's observation space is:  5\n",
      "Sample action:  0\n",
      "Sample observation:  [[ 0.07905011  1.02224912]\n",
      " [ 0.998537   -0.10207556]\n",
      " [ 0.03110137 -1.31467876]\n",
      " [-1.14713899 -1.22494376]\n",
      " [-0.04354117  0.540746  ]]\n"
     ]
    }
   ],
   "source": [
    "# create a gym environment for trading stock with the stock data\n",
    "env = gym.make('stocks-v0', df=stock_data, frame_bound=(5, 100), window_size=5)\n",
    "\n",
    "# check the environment's space\n",
    "print(\"The environment's action space is: \", env.action_space.n)\n",
    "print(\"The environment's observation space is: \", env.observation_space.shape[0])\n",
    "\n",
    "# Sample a random action from the environment's action space and observation space\n",
    "print(\"Sample action: \", env.action_space.sample())\n",
    "print(\"Sample observation: \", env.observation_space.sample())"
   ]
  }
 ],
 "metadata": {
  "kernelspec": {
   "display_name": "Python 3.10.4 ('testpython')",
   "language": "python",
   "name": "python3"
  },
  "language_info": {
   "codemirror_mode": {
    "name": "ipython",
    "version": 3
   },
   "file_extension": ".py",
   "mimetype": "text/x-python",
   "name": "python",
   "nbconvert_exporter": "python",
   "pygments_lexer": "ipython3",
   "version": "3.10.4"
  },
  "orig_nbformat": 4,
  "vscode": {
   "interpreter": {
    "hash": "648d1dcbd6682217e1a7c0b1a7c0c54c0b39a029f0fde86a6625ffa444d0c385"
   }
  }
 },
 "nbformat": 4,
 "nbformat_minor": 2
}
